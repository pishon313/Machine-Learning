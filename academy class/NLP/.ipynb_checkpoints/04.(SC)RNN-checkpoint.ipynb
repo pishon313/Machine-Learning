{
 "cells": [
  {
   "cell_type": "code",
   "execution_count": 1,
   "id": "103b524d-d34f-4766-8b67-adcba8fe9215",
   "metadata": {},
   "outputs": [],
   "source": [
    "import tensorflow as tf\n",
    "from tensorflow.keras.preprocessing.sequence import pad_sequences\n",
    "from tensorflow.keras.callbacks import EarlyStopping, ModelCheckpoint\n",
    "from tensorflow.keras import layers\n",
    "import numpy as np\n",
    "import pandas as pd\n",
    "import matplotlib.pyplot as plt\n",
    "import os\n",
    "import json"
   ]
  },
  {
   "cell_type": "code",
   "execution_count": 2,
   "id": "98bd10e7-84cf-4f31-b850-878ea138d72b",
   "metadata": {},
   "outputs": [],
   "source": [
    "def plot_graph(history, string):\n",
    "    plt.plot(history.history[string])\n",
    "    plt.plot(history.history['val_' + string], '')\n",
    "    plt.xlabel('Epochs')\n",
    "    plt.ylabel(string)\n",
    "    plt.legend([string, 'val_' + string])\n",
    "    plt.show()"
   ]
  },
  {
   "cell_type": "code",
   "execution_count": 3,
   "id": "58db094c-b74c-4081-841b-6b42bd7d1ad1",
   "metadata": {},
   "outputs": [],
   "source": [
    "DATA_IN_PATH = './data_in/'\n",
    "DATA_OUT_PATH = './data_out/'\n",
    "TRAIN_INPUT_DATA = 'train_input.npy'\n",
    "TRAIN_LABEL_DATA = 'train_label.npy'\n",
    "DATA_CONFIGS = 'data_configs.json'"
   ]
  },
  {
   "cell_type": "code",
   "execution_count": 4,
   "id": "443d03b6-6bd4-42aa-979b-acb4c0e56560",
   "metadata": {},
   "outputs": [],
   "source": [
    "train_input = np.load(open(DATA_IN_PATH + TRAIN_INPUT_DATA, 'rb'))\n",
    "train_label = np.load(open(DATA_IN_PATH + TRAIN_LABEL_DATA, 'rb'))\n",
    "prepro_configs = json.load(open(DATA_IN_PATH + DATA_CONFIGS, 'r'))"
   ]
  },
  {
   "cell_type": "code",
   "execution_count": 5,
   "id": "47ae18aa-3d65-4cad-86f9-0fa387c2202b",
   "metadata": {},
   "outputs": [
    {
     "name": "stdout",
     "output_type": "stream",
     "text": [
      "(25000, 174)\n",
      "(25000,)\n"
     ]
    }
   ],
   "source": [
    "print(train_input.shape)\n",
    "print(train_label.shape)"
   ]
  },
  {
   "cell_type": "code",
   "execution_count": 6,
   "id": "700f55ed-b2b0-4e0f-abce-43ac8e3c39fd",
   "metadata": {},
   "outputs": [],
   "source": [
    "SEED_NUM = 1234\n",
    "tf.random.set_seed(SEED_NUM)\n",
    "\n",
    "model_name = 'rnn_classifier_en'\n",
    "BATCH_SIZE = 128\n",
    "NUM_EPOCHS = 5\n",
    "VALID_SPLIT = 0.1\n",
    "MAX_LEN = train_input.shape[1]\n",
    "\n",
    "kargs = {'model_name': model_name, 'vocab_size': prepro_configs['vocab_size'],\n",
    "         'embedding_dimension': 100, \n",
    "         'dropout_rate': 0.2,\n",
    "         'lstm_dimension': 150,\n",
    "         'dense_dimension': 150,\n",
    "         'output_dimension': 1}"
   ]
  },
  {
   "cell_type": "markdown",
   "id": "1a9594b7-3a63-477c-b4d0-839bba5f826d",
   "metadata": {},
   "source": [
    "### 모델 선언\n",
    "- LSTM 각 단계에서 현재 정보는 input state, 이전 정보는 hidden state 라 함  \n",
    "- LSTM 의 매개변수 중 return_sequences 은 hidden state 의 반환값을 결정하는데  \n",
    "- false 일 경우 predict 시 마지막 hidden state만 출력됨  \n",
    "- true 일 경우 각 time step 별 모든 hidden state 를 출력함  \n",
    "- 이전의 기록들이 다음 레이어로 들어가기 때문에 LSTM레이어끼리 엮기 위해서는 return_sequence를 사용하여야 함 "
   ]
  },
  {
   "cell_type": "code",
   "execution_count": 13,
   "id": "bdb23076-8f5b-43c3-8e4a-15765bb4a70f",
   "metadata": {},
   "outputs": [],
   "source": [
    "class RNNClassifier(tf.keras.Model):\n",
    "    def __init__(self, **kargs):\n",
    "        super(RNNClassifier, self).__init__(name = kargs['model_name'])\n",
    "        self.embedding = layers.Embedding(input_dim = kargs['vocab_size'] + 1,\n",
    "                                          output_dim = kargs['embedding_dimension'])\n",
    "        self.lstm_1_layer = layers.LSTM(kargs['lstm_dimension'], return_sequences = True)\n",
    "        self.lstm_2_layer = layers.LSTM(kargs['lstm_dimension'])\n",
    "        self.dropout = layers.Dropout(kargs['dropout_rate'])\n",
    "        self.fc1 = layers.Dense(kargs['dense_dimension'], activation = tf.keras.activations.tanh)\n",
    "        self.fc2 = layers.Dense(kargs['output_dimension'], activation = tf.keras.activations.sigmoid)\n",
    "        \n",
    "    def call(self, x):\n",
    "        x = self.embedding(x)\n",
    "        x = self.dropout(x)\n",
    "        x = self.lstm_1_layer(x)\n",
    "        x = self.lstm_2_layer(x)\n",
    "        x = self.dropout(x)\n",
    "        x = self.fc1(x)\n",
    "        x = self.dropout(x)\n",
    "        x = self.fc2(x)\n",
    "        \n",
    "        return x"
   ]
  },
  {
   "cell_type": "code",
   "execution_count": 14,
   "id": "19feb7dd-590f-48d4-8ca2-cb41ce0892b5",
   "metadata": {},
   "outputs": [],
   "source": [
    "model = RNNClassifier(**kargs)\n",
    "model.compile(optimizer = tf.keras.optimizers.Adam(1e-4),\n",
    "             loss = tf.keras.losses.BinaryCrossentropy(),\n",
    "             metrics = [tf.keras.metrics.BinaryAccuracy(name = 'accuracy')])"
   ]
  },
  {
   "cell_type": "code",
   "execution_count": 15,
   "id": "ff90e761-ac94-4d42-93b3-a867a54013b4",
   "metadata": {},
   "outputs": [
    {
     "name": "stdout",
     "output_type": "stream",
     "text": [
      "./data_out/rnn_classifier_en -- Folder already exists \n",
      "\n"
     ]
    }
   ],
   "source": [
    "earlystop_callback = EarlyStopping(monitor = 'val_accuracy', min_delta = 0.0001, patience = 3)\n",
    "checkpoint_path = DATA_OUT_PATH + model_name + '/weights.h5'\n",
    "checkpoint_dir = os.path.dirname(checkpoint_path)\n",
    "\n",
    "if os.path.exists(checkpoint_dir):\n",
    "    print('{} -- Folder already exists \\n'.format(checkpoint_dir))\n",
    "else:\n",
    "    os.makedirs(checkpoint_dir, exist_ok = True)\n",
    "    print('{} -- Folder create complete \\n'.format(checkpoint_dir))\n",
    "\n",
    "cp_callback = ModelCheckpoint(checkpoint_path, monitor = 'val_accuracy', verbose = 1,\n",
    "                              save_best_only = True, save_weights_only = True)"
   ]
  },
  {
   "cell_type": "code",
   "execution_count": null,
   "id": "cf2ff910-0616-4bd9-85e9-dd23812585c1",
   "metadata": {},
   "outputs": [
    {
     "name": "stdout",
     "output_type": "stream",
     "text": [
      "Epoch 1/5\n",
      "176/176 [==============================] - ETA: 0s - loss: 0.6931 - accuracy: 0.5076\n",
      "Epoch 00001: val_accuracy improved from -inf to 0.51120, saving model to ./data_out/rnn_classifier_en\\weights.h5\n",
      "176/176 [==============================] - 167s 948ms/step - loss: 0.6931 - accuracy: 0.5076 - val_loss: 0.6925 - val_accuracy: 0.5112\n",
      "Epoch 2/5\n",
      "176/176 [==============================] - ETA: 0s - loss: 0.6244 - accuracy: 0.6009\n",
      "Epoch 00002: val_accuracy improved from 0.51120 to 0.84800, saving model to ./data_out/rnn_classifier_en\\weights.h5\n",
      "176/176 [==============================] - 178s 1s/step - loss: 0.6244 - accuracy: 0.6009 - val_loss: 0.3629 - val_accuracy: 0.8480\n",
      "Epoch 3/5\n",
      " 13/176 [=>............................] - ETA: 2:33 - loss: 0.3168 - accuracy: 0.8726"
     ]
    }
   ],
   "source": [
    "history = model.fit(train_input, train_label, batch_size = BATCH_SIZE, epochs = NUM_EPOCHS,\n",
    "                    validation_split = VALID_SPLIT, callbacks = [earlystop_callback, cp_callback])"
   ]
  },
  {
   "cell_type": "code",
   "execution_count": null,
   "id": "0ad552f7-0205-4fd2-b5b6-117909673a8e",
   "metadata": {},
   "outputs": [],
   "source": []
  }
 ],
 "metadata": {
  "kernelspec": {
   "display_name": "Python 3 (ipykernel)",
   "language": "python",
   "name": "python3"
  },
  "language_info": {
   "codemirror_mode": {
    "name": "ipython",
    "version": 3
   },
   "file_extension": ".py",
   "mimetype": "text/x-python",
   "name": "python",
   "nbconvert_exporter": "python",
   "pygments_lexer": "ipython3",
   "version": "3.8.11"
  }
 },
 "nbformat": 4,
 "nbformat_minor": 5
}
