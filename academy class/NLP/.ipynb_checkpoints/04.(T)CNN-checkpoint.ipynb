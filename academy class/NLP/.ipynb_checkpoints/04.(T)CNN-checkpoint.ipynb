{
 "cells": [
  {
   "cell_type": "code",
   "execution_count": 1,
   "id": "97dbe95c-dde2-4560-89fd-4b2de0fd1f6f",
   "metadata": {},
   "outputs": [],
   "source": [
    "import tensorflow as tf\n",
    "from tensorflow.keras.preprocessing.sequence import pad_sequences\n",
    "from tensorflow.keras.callbacks import EarlyStopping, ModelCheckpoint\n",
    "from tensorflow.keras import layers\n",
    "import numpy as np\n",
    "import pandas as pd\n",
    "import matplotlib.pyplot as plt\n",
    "import os\n",
    "import json"
   ]
  },
  {
   "cell_type": "code",
   "execution_count": 2,
   "id": "b1f38970-31cc-4a96-ba5c-94769fe532ff",
   "metadata": {},
   "outputs": [],
   "source": [
    "def plot_graphs(history, string):\n",
    "    plt.plot(history.history[string])\n",
    "    plt.plot(history.history['val_' + string],'')\n",
    "    plt.xlabel('Epochs')\n",
    "    plt.ylabel(string)\n",
    "    plt.legend([string, 'val_' + string])\n",
    "    plt.show()"
   ]
  },
  {
   "cell_type": "code",
   "execution_count": 3,
   "id": "a8aa122a-6b28-4f27-9909-1686cd1d4b73",
   "metadata": {},
   "outputs": [],
   "source": [
    "DATA_IN_PATH = './data_in/'\n",
    "DATA_OUT_PATH = './data_out/'\n",
    "TRAIN_INPUT_DATA = 'train_input.npy'\n",
    "TRAIN_LABEL_DATA = 'train_label.npy'\n",
    "DATA_CONFIGS = 'data_configs.json'"
   ]
  },
  {
   "cell_type": "code",
   "execution_count": 4,
   "id": "c7df6e15-6fb9-49fc-8046-62d0808d3bd0",
   "metadata": {},
   "outputs": [],
   "source": [
    "SEED_NUM = 1234\n",
    "tf.random.set_seed(SEED_NUM)"
   ]
  },
  {
   "cell_type": "code",
   "execution_count": 5,
   "id": "0e810331-674f-4827-94af-391fe8701ba1",
   "metadata": {},
   "outputs": [],
   "source": [
    "train_input = np.load(open(DATA_IN_PATH + TRAIN_INPUT_DATA, 'rb'))\n",
    "train_label = np.load(open(DATA_IN_PATH + TRAIN_LABEL_DATA, 'rb'))\n",
    "prepro_configs = json.load(open(DATA_IN_PATH + DATA_CONFIGS, 'r'))"
   ]
  },
  {
   "cell_type": "code",
   "execution_count": 6,
   "id": "4e70a1c2-299f-4aae-b37b-339fbb61309b",
   "metadata": {},
   "outputs": [],
   "source": [
    "model_name = 'cnn_classifier_en'\n",
    "BATCH_SIZE = 512\n",
    "NUM_EPOCHS = 10\n",
    "VALID_SPLIT = 0.1\n",
    "MAX_LEN = train_input.shape[1]\n",
    "\n",
    "kargs = {'model_name': model_name,\n",
    "        'vocab_size': prepro_configs['vocab_size'],\n",
    "        'embedding_size': 128,\n",
    "        'num_filters': 100,\n",
    "        'dropout_rate': 0.5,\n",
    "        'hidden_dimension': 250,\n",
    "        'output_dimension': 1}"
   ]
  },
  {
   "cell_type": "code",
   "execution_count": 7,
   "id": "8a8fd527-4331-4a48-bafa-85f50ec2eba8",
   "metadata": {},
   "outputs": [],
   "source": [
    "class CNNClassifier(tf.keras.Model):\n",
    "    def __init__(self, **kargs):\n",
    "        super(CNNClassifier, self).__init__(name=kargs['model_name'])\n",
    "        self.embedding = layers.Embedding(input_dim=kargs['vocab_size'] + 1,\n",
    "                                         output_dim=kargs['embedding_size'] )\n",
    "        self.conv_list = [layers.Conv1D(filters=kargs['num_filters'],\n",
    "                                       kernel_size=kernel_size,\n",
    "                                       padding='valid',\n",
    "                                       activation='relu',\n",
    "                                       kernel_constraint=tf.keras.constraints.MaxNorm(max_value=3.))\n",
    "                         for kernel_size in [3, 4, 5]]\n",
    "        self.pooling = layers.GlobalMaxPooling1D()\n",
    "        self.dropout = layers.Dropout(kargs['dropout_rate'])\n",
    "        self.fc1 = layers.Dense(units=kargs['hidden_dimension'],\n",
    "                               activation='relu',\n",
    "                               kernel_constraint=tf.keras.constraints.MaxNorm(max_value=3.))\n",
    "        self.fc2 = layers.Dense(units=kargs['output_dimension'],\n",
    "                               activation='sigmoid',\n",
    "                               kernel_constraint=tf.keras.constraints.MaxNorm(max_value=3.))\n",
    "        \n",
    "        \n",
    "    def call(self, x):\n",
    "        x = self.embedding(x)\n",
    "        x = self.dropout(x)\n",
    "        x = tf.concat([self.pooling(conv(x)) for conv in self.conv_list], axis=-1)\n",
    "        x = self.fc1(x)\n",
    "        x = self.fc2(x)\n",
    "        \n",
    "        return x"
   ]
  },
  {
   "cell_type": "code",
   "execution_count": 8,
   "id": "9e66ca64-d9be-48cf-a164-cedb2c47d626",
   "metadata": {},
   "outputs": [
    {
     "name": "stderr",
     "output_type": "stream",
     "text": [
      "2021-10-12 11:47:00.600998: I tensorflow/core/platform/cpu_feature_guard.cc:145] This TensorFlow binary is optimized with Intel(R) MKL-DNN to use the following CPU instructions in performance critical operations:  SSE4.1 SSE4.2 AVX AVX2 FMA\n",
      "To enable them in non-MKL-DNN operations, rebuild TensorFlow with the appropriate compiler flags.\n",
      "2021-10-12 11:47:00.601472: I tensorflow/core/common_runtime/process_util.cc:115] Creating new thread pool with default inter op setting: 16. Tune using inter_op_parallelism_threads for best performance.\n"
     ]
    }
   ],
   "source": [
    "model = CNNClassifier(**kargs)\n",
    "model.compile(optimizer=tf.keras.optimizers.Adam(),\n",
    "             loss=tf.keras.losses.BinaryCrossentropy(),\n",
    "             metrics=[tf.keras.metrics.BinaryAccuracy(name='accuracy')])"
   ]
  },
  {
   "cell_type": "code",
   "execution_count": 9,
   "id": "472db814-d843-4363-b268-62d46754044b",
   "metadata": {},
   "outputs": [
    {
     "name": "stdout",
     "output_type": "stream",
     "text": [
      "./data_out/cnn_classifier_en -- Folder already exists \n",
      "\n"
     ]
    }
   ],
   "source": [
    "earlystop_callback = EarlyStopping(monitor='val_accuracy', min_delta=0.0001, patience=2)\n",
    "\n",
    "checkpoint_path = DATA_OUT_PATH + model_name + '/weights.h5'\n",
    "checkpoint_dir = os.path.dirname(checkpoint_path)\n",
    "\n",
    "if os.path.exists(checkpoint_dir):\n",
    "    print('{} -- Folder already exists \\n'.format(checkpoint_dir))\n",
    "else:\n",
    "    os.makedirs(checkpoint_dir, exist_ok=True)\n",
    "    print('{} -- Folder create complete \\n'.format(checkpoint_dir))\n",
    "    \n",
    "cp_callback = ModelCheckpoint(checkpoint_path, monitor='val_accuracy', verbose=1,\n",
    "                             save_best_only=True, save_weights_only=True)"
   ]
  },
  {
   "cell_type": "code",
   "execution_count": 10,
   "id": "202aeba5-40a0-4325-891b-7c6b5fc84f97",
   "metadata": {},
   "outputs": [
    {
     "name": "stdout",
     "output_type": "stream",
     "text": [
      "Train on 22500 samples, validate on 2500 samples\n",
      "Epoch 1/10\n",
      "22016/22500 [============================>.] - ETA: 0s - loss: 0.6797 - accuracy: 0.5802\n",
      "Epoch 00001: val_accuracy improved from -inf to 0.78480, saving model to ./data_out/cnn_classifier_en/weights.h5\n",
      "22500/22500 [==============================] - 44s 2ms/sample - loss: 0.6781 - accuracy: 0.5844 - val_loss: 0.5926 - val_accuracy: 0.7848\n",
      "Epoch 2/10\n",
      "22016/22500 [============================>.] - ETA: 0s - loss: 0.3987 - accuracy: 0.8320\n",
      "Epoch 00002: val_accuracy improved from 0.78480 to 0.87320, saving model to ./data_out/cnn_classifier_en/weights.h5\n",
      "22500/22500 [==============================] - 44s 2ms/sample - loss: 0.3976 - accuracy: 0.8324 - val_loss: 0.3128 - val_accuracy: 0.8732\n",
      "Epoch 3/10\n",
      "22016/22500 [============================>.] - ETA: 0s - loss: 0.2228 - accuracy: 0.9139\n",
      "Epoch 00003: val_accuracy improved from 0.87320 to 0.88680, saving model to ./data_out/cnn_classifier_en/weights.h5\n",
      "22500/22500 [==============================] - 43s 2ms/sample - loss: 0.2230 - accuracy: 0.9137 - val_loss: 0.2963 - val_accuracy: 0.8868\n",
      "Epoch 4/10\n",
      "22016/22500 [============================>.] - ETA: 0s - loss: 0.1386 - accuracy: 0.9502\n",
      "Epoch 00004: val_accuracy did not improve from 0.88680\n",
      "22500/22500 [==============================] - 43s 2ms/sample - loss: 0.1384 - accuracy: 0.9501 - val_loss: 0.3324 - val_accuracy: 0.8772\n",
      "Epoch 5/10\n",
      "22016/22500 [============================>.] - ETA: 0s - loss: 0.0761 - accuracy: 0.9769\n",
      "Epoch 00005: val_accuracy did not improve from 0.88680\n",
      "22500/22500 [==============================] - 43s 2ms/sample - loss: 0.0756 - accuracy: 0.9769 - val_loss: 0.3817 - val_accuracy: 0.8728\n"
     ]
    }
   ],
   "source": [
    "history = model.fit(train_input, train_label, batch_size=BATCH_SIZE, epochs=NUM_EPOCHS,\n",
    "                   validation_split=VALID_SPLIT, callbacks=[earlystop_callback, cp_callback])"
   ]
  },
  {
   "cell_type": "code",
   "execution_count": 11,
   "id": "fe0c51fb-cdb1-42c1-a302-577769b9fc85",
   "metadata": {},
   "outputs": [
    {
     "data": {
      "image/png": "[encoded data removed]",
      "text/plain": [
       "<Figure size 432x288 with 1 Axes>"
      ]
     },
     "metadata": {
      "needs_background": "light"
     },
     "output_type": "display_data"
    }
   ],
   "source": [
    "plot_graphs(history, 'accuracy')"
   ]
  },
  {
   "cell_type": "code",
   "execution_count": 12,
   "id": "94a41258-d8cd-44cc-a4b9-10a9a8a9c2e0",
   "metadata": {},
   "outputs": [
    {
     "data": {
      "image/png": "[encoded data removed]",
      "text/plain": [
       "<Figure size 432x288 with 1 Axes>"
      ]
     },
     "metadata": {
      "needs_background": "light"
     },
     "output_type": "display_data"
    }
   ],
   "source": [
    "plot_graphs(history, 'loss')"
   ]
  },
  {
   "cell_type": "code",
   "execution_count": 13,
   "id": "39aa17a4-b8e8-4f97-b548-a16065ea96dd",
   "metadata": {},
   "outputs": [],
   "source": [
    "TEST_INPUT_DATA = 'test_input.npy'\n",
    "TEST_ID_DATA = 'test_id.npy'\n",
    "\n",
    "test_input = np.load(open(DATA_IN_PATH + TEST_INPUT_DATA, 'rb'))\n",
    "test_input = pad_sequences(test_input, maxlen=test_input.shape[1])"
   ]
  },
  {
   "cell_type": "code",
   "execution_count": 14,
   "id": "ab0adfb1-be7d-479f-99c0-197bc80ef441",
   "metadata": {},
   "outputs": [],
   "source": [
    "SAVE_FILE_NM = 'weights.h5'\n",
    "model.load_weights(os.path.join(DATA_OUT_PATH, model_name, SAVE_FILE_NM))"
   ]
  },
  {
   "cell_type": "code",
   "execution_count": 15,
   "id": "4fa2d382-e79d-4197-9cc1-ce7d470185d0",
   "metadata": {},
   "outputs": [],
   "source": [
    "predictions = model.predict(test_input, batch_size=5)\n",
    "predictions = predictions.squeeze(-1)"
   ]
  },
  {
   "cell_type": "code",
   "execution_count": 16,
   "id": "c0a71f73-0c0e-4959-b06e-13c0b665c85e",
   "metadata": {},
   "outputs": [],
   "source": [
    "test_id = np.load(open(DATA_IN_PATH + TEST_ID_DATA, 'rb'), allow_pickle=True)\n",
    "\n",
    "if not os.path.exists(DATA_OUT_PATH):\n",
    "    os.makedirs(DATA_OUT_PATH)\n",
    "    \n",
    "output = pd.DataFrame(data={'id': list(test_id), 'sentiment': list(predictions)})\n",
    "output.to_csv(DATA_OUT_PATH + 'movie_review_result_cnn.csv', index=False, quoting=3)"
   ]
  },
  {
   "cell_type": "code",
   "execution_count": null,
   "id": "b5991c41-4319-4eb2-9c5c-3c88226dd39b",
   "metadata": {},
   "outputs": [],
   "source": []
  }
 ],
 "metadata": {
  "kernelspec": {
   "display_name": "Python 3 (ipykernel)",
   "language": "python",
   "name": "python3"
  },
  "language_info": {
   "codemirror_mode": {
    "name": "ipython",
    "version": 3
   },
   "file_extension": ".py",
   "mimetype": "text/x-python",
   "name": "python",
   "nbconvert_exporter": "python",
   "pygments_lexer": "ipython3",
   "version": "3.7.0"
  }
 },
 "nbformat": 4,
 "nbformat_minor": 5
}
