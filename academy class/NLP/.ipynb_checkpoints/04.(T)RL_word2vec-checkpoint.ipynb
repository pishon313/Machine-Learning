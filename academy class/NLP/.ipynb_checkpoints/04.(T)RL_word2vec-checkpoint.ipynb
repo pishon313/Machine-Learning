{
 "cells": [
  {
   "cell_type": "markdown",
   "id": "4cd1a30a-bcc4-41bb-81df-a9105ea6f1bd",
   "metadata": {},
   "source": [
    "### word2vec 을 이용한 모델\n",
    "- word2vec 은 단어로 표현된 리스트를 입력값으로 넣어야 함  \n",
    "- 전처리된 텍스트를 불러온 후 각 단어들의 리스트로 나누어야 함"
   ]
  },
  {
   "cell_type": "code",
   "execution_count": 1,
   "id": "f6cbcd54-901e-4fd6-ae0b-006238b1a744",
   "metadata": {},
   "outputs": [],
   "source": [
    "import os\n",
    "import re\n",
    "import pandas as pd\n",
    "import numpy as np"
   ]
  },
  {
   "cell_type": "code",
   "execution_count": 2,
   "id": "099f84b0-d488-46e5-bf5a-f826df16aa89",
   "metadata": {},
   "outputs": [
    {
     "data": {
      "text/html": [
       "<div>\n",
       "<style scoped>\n",
       "    .dataframe tbody tr th:only-of-type {\n",
       "        vertical-align: middle;\n",
       "    }\n",
       "\n",
       "    .dataframe tbody tr th {\n",
       "        vertical-align: top;\n",
       "    }\n",
       "\n",
       "    .dataframe thead th {\n",
       "        text-align: right;\n",
       "    }\n",
       "</style>\n",
       "<table border=\"1\" class=\"dataframe\">\n",
       "  <thead>\n",
       "    <tr style=\"text-align: right;\">\n",
       "      <th></th>\n",
       "      <th>review</th>\n",
       "      <th>sentiment</th>\n",
       "    </tr>\n",
       "  </thead>\n",
       "  <tbody>\n",
       "    <tr>\n",
       "      <th>0</th>\n",
       "      <td>stuff going moment mj started listening music ...</td>\n",
       "      <td>1</td>\n",
       "    </tr>\n",
       "    <tr>\n",
       "      <th>1</th>\n",
       "      <td>classic war worlds timothy hines entertaining ...</td>\n",
       "      <td>1</td>\n",
       "    </tr>\n",
       "    <tr>\n",
       "      <th>2</th>\n",
       "      <td>film starts manager nicholas bell giving welco...</td>\n",
       "      <td>0</td>\n",
       "    </tr>\n",
       "    <tr>\n",
       "      <th>3</th>\n",
       "      <td>must assumed praised film greatest filmed oper...</td>\n",
       "      <td>0</td>\n",
       "    </tr>\n",
       "    <tr>\n",
       "      <th>4</th>\n",
       "      <td>superbly trashy wondrously unpretentious explo...</td>\n",
       "      <td>1</td>\n",
       "    </tr>\n",
       "  </tbody>\n",
       "</table>\n",
       "</div>"
      ],
      "text/plain": [
       "                                              review  sentiment\n",
       "0  stuff going moment mj started listening music ...          1\n",
       "1  classic war worlds timothy hines entertaining ...          1\n",
       "2  film starts manager nicholas bell giving welco...          0\n",
       "3  must assumed praised film greatest filmed oper...          0\n",
       "4  superbly trashy wondrously unpretentious explo...          1"
      ]
     },
     "execution_count": 2,
     "metadata": {},
     "output_type": "execute_result"
    }
   ],
   "source": [
    "DATA_IN_PATH = './data_in/'\n",
    "DATA_OUT_PATH = './data_out/'\n",
    "TRAIN_CLEAN_DATA = 'train_clean.csv'\n",
    "\n",
    "train_data = pd.read_csv(DATA_IN_PATH + TRAIN_CLEAN_DATA)\n",
    "train_data.head()"
   ]
  },
  {
   "cell_type": "code",
   "execution_count": 3,
   "id": "7878ae4e-b3c3-4d1e-9c5f-d5fcca8fdf68",
   "metadata": {},
   "outputs": [],
   "source": [
    "reviews = list(train_data['review'])\n",
    "sentiments = list(train_data['sentiment'])"
   ]
  },
  {
   "cell_type": "code",
   "execution_count": 4,
   "id": "3e043378-fda2-4deb-9f5a-d3493b1164d7",
   "metadata": {},
   "outputs": [
    {
     "name": "stdout",
     "output_type": "stream",
     "text": [
      "25000\n"
     ]
    }
   ],
   "source": [
    "print(len(reviews))"
   ]
  },
  {
   "cell_type": "code",
   "execution_count": 5,
   "id": "3afc5304-6abb-49de-8619-1d842d1fca2d",
   "metadata": {},
   "outputs": [
    {
     "name": "stdout",
     "output_type": "stream",
     "text": [
      "stuff going moment mj started listening music watching odd documentary watched wiz watched moonwalker maybe want get certain insight guy thought really cool eighties maybe make mind whether guilty innocent moonwalker part biography part feature film remember going see cinema originally released subtle messages mj feeling towards press also obvious message drugs bad kay visually impressive course michael jackson unless remotely like mj anyway going hate find boring may call mj egotist consenting making movie mj fans would say made fans true really nice actual feature film bit finally starts minutes excluding smooth criminal sequence joe pesci convincing psychopathic powerful drug lord wants mj dead bad beyond mj overheard plans nah joe pesci character ranted wanted people know supplying drugs etc dunno maybe hates mj music lots cool things like mj turning car robot whole speed demon sequence also director must patience saint came filming kiddy bad sequence usually directors hate working one kid let alone whole bunch performing complex dance scene bottom line movie people like mj one level another think people stay away try give wholesome message ironically mj bestest buddy movie girl michael jackson truly one talented people ever grace planet guilty well attention gave subject hmmm well know people different behind closed doors know fact either extremely nice stupid guy one sickest liars hope latter\n"
     ]
    }
   ],
   "source": [
    "print(reviews[0])"
   ]
  },
  {
   "cell_type": "code",
   "execution_count": 6,
   "id": "3a9d9ec9-1290-459b-bd5b-527af5306d39",
   "metadata": {},
   "outputs": [],
   "source": [
    "sentences = []\n",
    "for review in reviews:\n",
    "    sentences.append(review.split())"
   ]
  },
  {
   "cell_type": "code",
   "execution_count": 7,
   "id": "410077c1-b55f-4b91-8b8f-2553d0cbb6de",
   "metadata": {},
   "outputs": [
    {
     "name": "stdout",
     "output_type": "stream",
     "text": [
      "['stuff', 'going', 'moment', 'mj', 'started', 'listening', 'music', 'watching', 'odd', 'documentary', 'watched', 'wiz', 'watched', 'moonwalker', 'maybe', 'want', 'get', 'certain', 'insight', 'guy', 'thought', 'really', 'cool', 'eighties', 'maybe', 'make', 'mind', 'whether', 'guilty', 'innocent', 'moonwalker', 'part', 'biography', 'part', 'feature', 'film', 'remember', 'going', 'see', 'cinema', 'originally', 'released', 'subtle', 'messages', 'mj', 'feeling', 'towards', 'press', 'also', 'obvious', 'message', 'drugs', 'bad', 'kay', 'visually', 'impressive', 'course', 'michael', 'jackson', 'unless', 'remotely', 'like', 'mj', 'anyway', 'going', 'hate', 'find', 'boring', 'may', 'call', 'mj', 'egotist', 'consenting', 'making', 'movie', 'mj', 'fans', 'would', 'say', 'made', 'fans', 'true', 'really', 'nice', 'actual', 'feature', 'film', 'bit', 'finally', 'starts', 'minutes', 'excluding', 'smooth', 'criminal', 'sequence', 'joe', 'pesci', 'convincing', 'psychopathic', 'powerful', 'drug', 'lord', 'wants', 'mj', 'dead', 'bad', 'beyond', 'mj', 'overheard', 'plans', 'nah', 'joe', 'pesci', 'character', 'ranted', 'wanted', 'people', 'know', 'supplying', 'drugs', 'etc', 'dunno', 'maybe', 'hates', 'mj', 'music', 'lots', 'cool', 'things', 'like', 'mj', 'turning', 'car', 'robot', 'whole', 'speed', 'demon', 'sequence', 'also', 'director', 'must', 'patience', 'saint', 'came', 'filming', 'kiddy', 'bad', 'sequence', 'usually', 'directors', 'hate', 'working', 'one', 'kid', 'let', 'alone', 'whole', 'bunch', 'performing', 'complex', 'dance', 'scene', 'bottom', 'line', 'movie', 'people', 'like', 'mj', 'one', 'level', 'another', 'think', 'people', 'stay', 'away', 'try', 'give', 'wholesome', 'message', 'ironically', 'mj', 'bestest', 'buddy', 'movie', 'girl', 'michael', 'jackson', 'truly', 'one', 'talented', 'people', 'ever', 'grace', 'planet', 'guilty', 'well', 'attention', 'gave', 'subject', 'hmmm', 'well', 'know', 'people', 'different', 'behind', 'closed', 'doors', 'know', 'fact', 'either', 'extremely', 'nice', 'stupid', 'guy', 'one', 'sickest', 'liars', 'hope', 'latter']\n"
     ]
    }
   ],
   "source": [
    "print(sentences[0])"
   ]
  },
  {
   "cell_type": "code",
   "execution_count": 8,
   "id": "f734c9cf-7465-43f5-b2cf-2f46f725510e",
   "metadata": {},
   "outputs": [],
   "source": [
    "num_features = 300\n",
    "min_word_count = 40\n",
    "num_workers = 4\n",
    "context = 10\n",
    "downsampling = 1e-3"
   ]
  },
  {
   "cell_type": "markdown",
   "id": "ea528b5e-be6c-4b2d-a7a6-17adc1d3d076",
   "metadata": {},
   "source": [
    "- num_features : 각 단어에 대해 임베딩된 벡터의 차원 지정(feature 수)\n",
    "- min_word_count : 모델에 의미 있는 단어를 가지고 학습하기 위해 적은 빈도 수의 단어들은 학습하지 않기 위해 설정  \n",
    "- num_workers : 모델 학습 시 학습을 위한 쓰레드 수 지정(기본값 3)  \n",
    "- context : word2vec 을 수행하기 위한 컨텍스트 윈도우 사이즈 지정  \n",
    "a. Maximum distance between the current and predicted word within a sentence.  \n",
    "b. 기준 단어의 앞뒤에 존재하는 단어들로 기준 단어를 예측하게 되는데(sg=0, CBOW-Continuous Bag of Words)  \n",
    "c. 이 때 기준 단어에서 앞뒤 얼마나 떨어져 있는 단어까지 고려하는가를 결정\n",
    "- downsampling : word2vec 학습을 수행할 때 빠른 학습을 위해 정답 단어 레이블에 대한 다운샘플링 비율을 지정  \n",
    "a. 보통 0.001이 좋은 성능을 낸다고 알려짐  \n",
    "b. 0.001 값을 threshold 값으로 보고, 이 값보다 빈도수가 높은 단어들은 무작위로(랜덤) 다운샘플링 됨  \n",
    "c. 빈도수가 높은 단어는 다운샘플링하여 가끔 학습(랜덤하게 무시)하고 빈도수가 낮은 단어는 출현 족족 학습하는 효과"
   ]
  },
  {
   "cell_type": "code",
   "execution_count": 9,
   "id": "58b7f118-503b-42fa-a86b-3db705237906",
   "metadata": {},
   "outputs": [],
   "source": [
    "import logging\n",
    "logging.basicConfig(format='%(asctime)s : %(levelname)s : %(message)s',\n",
    "                   level=logging.INFO)"
   ]
  },
  {
   "cell_type": "code",
   "execution_count": 11,
   "id": "a1a902bb-cb88-45e9-85f2-b187bfcd4e81",
   "metadata": {},
   "outputs": [
    {
     "name": "stderr",
     "output_type": "stream",
     "text": [
      "2021-10-08 11:24:11,748 : INFO : collecting all words and their counts\n",
      "2021-10-08 11:24:11,749 : INFO : PROGRESS: at sentence #0, processed 0 words, keeping 0 word types\n",
      "2021-10-08 11:24:12,035 : INFO : PROGRESS: at sentence #10000, processed 1205223 words, keeping 51374 word types\n",
      "2021-10-08 11:24:12,357 : INFO : PROGRESS: at sentence #20000, processed 2396605 words, keeping 67660 word types\n",
      "2021-10-08 11:24:12,519 : INFO : collected 74065 word types from a corpus of 2988089 raw words and 25000 sentences\n",
      "2021-10-08 11:24:12,520 : INFO : Loading a fresh vocabulary\n",
      "2021-10-08 11:24:12,571 : INFO : effective_min_count=40 retains 8160 unique words (11% of original 74065, drops 65905)\n",
      "2021-10-08 11:24:12,571 : INFO : effective_min_count=40 leaves 2627273 word corpus (87% of original 2988089, drops 360816)\n",
      "2021-10-08 11:24:12,598 : INFO : deleting the raw counts dictionary of 74065 items\n",
      "2021-10-08 11:24:12,601 : INFO : sample=0.001 downsamples 30 most-common words\n",
      "2021-10-08 11:24:12,601 : INFO : downsampling leaves estimated 2494384 word corpus (94.9% of prior 2627273)\n",
      "2021-10-08 11:24:12,632 : INFO : estimated required memory for 8160 words and 300 dimensions: 23664000 bytes\n",
      "2021-10-08 11:24:12,633 : INFO : resetting layer weights\n",
      "2021-10-08 11:24:14,570 : INFO : training model with 4 workers on 8160 vocabulary and 300 features, using sg=0 hs=0 sample=0.001 negative=5 window=10\n",
      "2021-10-08 11:24:15,585 : INFO : EPOCH 1 - PROGRESS: at 38.07% examples, 953630 words/s, in_qsize 7, out_qsize 0\n",
      "2021-10-08 11:24:16,591 : INFO : EPOCH 1 - PROGRESS: at 72.32% examples, 901250 words/s, in_qsize 7, out_qsize 0\n",
      "2021-10-08 11:24:17,389 : INFO : worker thread finished; awaiting finish of 3 more threads\n",
      "2021-10-08 11:24:17,400 : INFO : worker thread finished; awaiting finish of 2 more threads\n",
      "2021-10-08 11:24:17,402 : INFO : worker thread finished; awaiting finish of 1 more threads\n",
      "2021-10-08 11:24:17,422 : INFO : worker thread finished; awaiting finish of 0 more threads\n",
      "2021-10-08 11:24:17,422 : INFO : EPOCH - 1 : training on 2988089 raw words (2494208 effective words) took 2.8s, 877263 effective words/s\n",
      "2021-10-08 11:24:18,429 : INFO : EPOCH 2 - PROGRESS: at 25.94% examples, 650759 words/s, in_qsize 7, out_qsize 0\n",
      "2021-10-08 11:24:19,434 : INFO : EPOCH 2 - PROGRESS: at 57.25% examples, 717282 words/s, in_qsize 7, out_qsize 0\n",
      "2021-10-08 11:24:20,435 : INFO : EPOCH 2 - PROGRESS: at 97.12% examples, 806564 words/s, in_qsize 7, out_qsize 0\n",
      "2021-10-08 11:24:20,477 : INFO : worker thread finished; awaiting finish of 3 more threads\n",
      "2021-10-08 11:24:20,485 : INFO : worker thread finished; awaiting finish of 2 more threads\n",
      "2021-10-08 11:24:20,487 : INFO : worker thread finished; awaiting finish of 1 more threads\n",
      "2021-10-08 11:24:20,497 : INFO : worker thread finished; awaiting finish of 0 more threads\n",
      "2021-10-08 11:24:20,498 : INFO : EPOCH - 2 : training on 2988089 raw words (2494840 effective words) took 3.1s, 812236 effective words/s\n",
      "2021-10-08 11:24:21,506 : INFO : EPOCH 3 - PROGRESS: at 38.42% examples, 964317 words/s, in_qsize 7, out_qsize 0\n",
      "2021-10-08 11:24:22,524 : INFO : EPOCH 3 - PROGRESS: at 74.27% examples, 921265 words/s, in_qsize 7, out_qsize 0\n",
      "2021-10-08 11:24:23,153 : INFO : worker thread finished; awaiting finish of 3 more threads\n",
      "2021-10-08 11:24:23,156 : INFO : worker thread finished; awaiting finish of 2 more threads\n",
      "2021-10-08 11:24:23,159 : INFO : worker thread finished; awaiting finish of 1 more threads\n",
      "2021-10-08 11:24:23,176 : INFO : worker thread finished; awaiting finish of 0 more threads\n",
      "2021-10-08 11:24:23,177 : INFO : EPOCH - 3 : training on 2988089 raw words (2494167 effective words) took 2.7s, 932434 effective words/s\n",
      "2021-10-08 11:24:24,207 : INFO : EPOCH 4 - PROGRESS: at 37.38% examples, 917867 words/s, in_qsize 7, out_qsize 0\n",
      "2021-10-08 11:24:25,207 : INFO : EPOCH 4 - PROGRESS: at 73.95% examples, 914892 words/s, in_qsize 7, out_qsize 0\n",
      "2021-10-08 11:24:25,876 : INFO : worker thread finished; awaiting finish of 3 more threads\n",
      "2021-10-08 11:24:25,878 : INFO : worker thread finished; awaiting finish of 2 more threads\n",
      "2021-10-08 11:24:25,888 : INFO : worker thread finished; awaiting finish of 1 more threads\n",
      "2021-10-08 11:24:25,896 : INFO : worker thread finished; awaiting finish of 0 more threads\n",
      "2021-10-08 11:24:25,897 : INFO : EPOCH - 4 : training on 2988089 raw words (2494596 effective words) took 2.7s, 917980 effective words/s\n",
      "2021-10-08 11:24:26,921 : INFO : EPOCH 5 - PROGRESS: at 37.70% examples, 934778 words/s, in_qsize 7, out_qsize 0\n",
      "2021-10-08 11:24:27,925 : INFO : EPOCH 5 - PROGRESS: at 76.69% examples, 950253 words/s, in_qsize 7, out_qsize 0\n",
      "2021-10-08 11:24:28,524 : INFO : worker thread finished; awaiting finish of 3 more threads\n",
      "2021-10-08 11:24:28,527 : INFO : worker thread finished; awaiting finish of 2 more threads\n",
      "2021-10-08 11:24:28,538 : INFO : worker thread finished; awaiting finish of 1 more threads\n",
      "2021-10-08 11:24:28,541 : INFO : worker thread finished; awaiting finish of 0 more threads\n",
      "2021-10-08 11:24:28,541 : INFO : EPOCH - 5 : training on 2988089 raw words (2494775 effective words) took 2.6s, 945727 effective words/s\n",
      "2021-10-08 11:24:28,542 : INFO : training on a 14940445 raw words (12472586 effective words) took 14.0s, 892725 effective words/s\n"
     ]
    }
   ],
   "source": [
    "from gensim.models import word2vec\n",
    "\n",
    "model = word2vec.Word2Vec(sentences, workers=num_workers,\n",
    "                         size=num_features, min_count=min_word_count,\n",
    "                         window=context, sample=downsampling)"
   ]
  },
  {
   "cell_type": "code",
   "execution_count": 12,
   "id": "c29497b7-3253-41d1-8bbc-9bc2460df604",
   "metadata": {},
   "outputs": [
    {
     "name": "stderr",
     "output_type": "stream",
     "text": [
      "2021-10-08 11:27:26,717 : INFO : saving Word2Vec object under 300features_40minwords_10context, separately None\n",
      "2021-10-08 11:27:26,718 : INFO : not storing attribute vectors_norm\n",
      "2021-10-08 11:27:26,719 : INFO : not storing attribute cum_table\n",
      "2021-10-08 11:27:26,888 : INFO : saved 300features_40minwords_10context\n"
     ]
    }
   ],
   "source": [
    "model_name = \"300features_40minwords_10context\"\n",
    "model.save(model_name)"
   ]
  },
  {
   "cell_type": "markdown",
   "id": "6cb101d2-ab44-438e-b5e7-b4dec6f393a9",
   "metadata": {},
   "source": [
    "- 위에서 만든 word2vec 모델을 활용하여 선형 회귀 모델을 학습시켜봄  \n",
    "- 각 리뷰를 같은 형태의 입력값으로 만들어야 함  \n",
    "- 리뷰마다 단어의 수가 모두 다르므로 입력값을 하나의 형태로 만듬  \n",
    "- 가장 단순한 방법으로, 문장에 있는 모든 단어의 벡터값에 대해 평균을 내서 리뷰 하나당 하나의 벡터로 만드는 방법을 사용하겠음  "
   ]
  },
  {
   "cell_type": "code",
   "execution_count": 13,
   "id": "9707f8e4-e292-482b-8dbd-6f5b8677deb2",
   "metadata": {},
   "outputs": [],
   "source": [
    "def get_features(words, model, num_features):\n",
    "    feature_vector = np.zeros((num_features), dtype=np.float32)\n",
    "    \n",
    "    num_words = 0\n",
    "    index2word_set = set(model.wv.index2word)\n",
    "    \n",
    "    for w in words:\n",
    "        if w in index2word_set:\n",
    "            num_words += 1\n",
    "            feature_vector = np.add(feature_vector, model[w])\n",
    "            \n",
    "    feature_vector = np.divide(feature_vector, num_words)\n",
    "    return feature_vector"
   ]
  },
  {
   "cell_type": "markdown",
   "id": "06d2257e-ee1c-4146-a26e-2faa0dace23a",
   "metadata": {},
   "source": [
    "- words : 단어의 모음인 하나의 리뷰가 들어감\n",
    "- model : word2vec 모델\n",
    "- num_features : word2vec 으로 임베딩할 때 정했던 벡터의 차원 수  \n",
    "- 결극 하나의 문장에 등장하는 사전에 등록된 단어들의 벡터값의 평균을 구함  "
   ]
  },
  {
   "cell_type": "code",
   "execution_count": 14,
   "id": "d7de312c-6b30-4773-b2c9-a580d4cba6b6",
   "metadata": {},
   "outputs": [],
   "source": [
    "def get_dataset(reviews, model, num_features):\n",
    "    dataset = list()\n",
    "    \n",
    "    for s in reviews:\n",
    "        dataset.append(get_features(s, model, num_features))\n",
    "        \n",
    "    reviewFeatureVecs = np.stack(dataset)\n",
    "    \n",
    "    return reviewFeatureVecs"
   ]
  },
  {
   "cell_type": "markdown",
   "id": "3c87e3ec-e09c-4deb-b944-e348c519d0a8",
   "metadata": {},
   "source": [
    "- review : 전체 리뷰 데이터  \n",
    "- model : 학습시킨 모델  \n",
    "- num_features : word2vec 임베딩 시 정했던 벡터의 차원 수  \n",
    "- np.stack(dataset, axis=0) 은 row 로 데이터를 쌓으면서 numpy 배열을 만든다는 의미  \n",
    "- 이렇게 하여 row가 전체 샘플 수 만큼, column 은 feature의 차원 수가 됨  "
   ]
  },
  {
   "cell_type": "code",
   "execution_count": 15,
   "id": "8151a4dd-b097-4b2e-9239-16b5158ce916",
   "metadata": {},
   "outputs": [
    {
     "name": "stderr",
     "output_type": "stream",
     "text": [
      "C:\\Users\\BIT\\AppData\\Local\\Temp/ipykernel_2452/2170054812.py:10: DeprecationWarning: Call to deprecated `__getitem__` (Method will be removed in 4.0.0, use self.wv.__getitem__() instead).\n",
      "  feature_vector = np.add(feature_vector, model[w])\n"
     ]
    }
   ],
   "source": [
    "train_data_vecs = get_dataset(sentences, model, num_features)"
   ]
  },
  {
   "cell_type": "code",
   "execution_count": 16,
   "id": "37957454-64ac-4ca8-ac00-53f258ca4bbe",
   "metadata": {},
   "outputs": [],
   "source": [
    "from sklearn.model_selection import train_test_split\n",
    "\n",
    "X = train_data_vecs\n",
    "y = np.array(sentiments)\n",
    "\n",
    "RANDOM_SEED = 42\n",
    "TEST_SPLIT = 0.2\n",
    "X_train, X_test, y_train, y_test = \\\n",
    "        train_test_split(X, y, test_size=TEST_SPLIT, random_state=RANDOM_SEED)"
   ]
  },
  {
   "cell_type": "code",
   "execution_count": 17,
   "id": "fc662a62-a5e1-4b60-90db-43a982425b12",
   "metadata": {},
   "outputs": [
    {
     "name": "stderr",
     "output_type": "stream",
     "text": [
      "C:\\Users\\BIT\\anaconda3\\envs\\tf-env\\lib\\site-packages\\sklearn\\linear_model\\_logistic.py:763: ConvergenceWarning: lbfgs failed to converge (status=1):\n",
      "STOP: TOTAL NO. of ITERATIONS REACHED LIMIT.\n",
      "\n",
      "Increase the number of iterations (max_iter) or scale the data as shown in:\n",
      "    https://scikit-learn.org/stable/modules/preprocessing.html\n",
      "Please also refer to the documentation for alternative solver options:\n",
      "    https://scikit-learn.org/stable/modules/linear_model.html#logistic-regression\n",
      "  n_iter_i = _check_optimize_result(\n"
     ]
    },
    {
     "data": {
      "text/plain": [
       "LogisticRegression(class_weight='balanced')"
      ]
     },
     "execution_count": 17,
     "metadata": {},
     "output_type": "execute_result"
    }
   ],
   "source": [
    "from sklearn.linear_model import LogisticRegression\n",
    "\n",
    "lgs = LogisticRegression(class_weight='balanced')\n",
    "lgs.fit(X_train, y_train)"
   ]
  },
  {
   "cell_type": "code",
   "execution_count": 18,
   "id": "4a649d31-bdde-4dcb-8e06-28a53a9b56f8",
   "metadata": {},
   "outputs": [
    {
     "name": "stdout",
     "output_type": "stream",
     "text": [
      "Accuracy: 0.866600\n"
     ]
    }
   ],
   "source": [
    "predicted = lgs.predict(X_test)\n",
    "print('Accuracy: %f' % lgs.score(X_test, y_test))"
   ]
  },
  {
   "cell_type": "code",
   "execution_count": 19,
   "id": "4544a72a-c135-4d3d-905a-2d4f8bee3559",
   "metadata": {},
   "outputs": [],
   "source": [
    "TEST_CLEAN_DATA = 'test_clean.csv'\n",
    "\n",
    "test_data = pd.read_csv(DATA_IN_PATH + TEST_CLEAN_DATA)\n",
    "test_review = list(test_data['review'])"
   ]
  },
  {
   "cell_type": "code",
   "execution_count": 20,
   "id": "bc700e9e-35c1-451b-8581-81e3c5514893",
   "metadata": {},
   "outputs": [],
   "source": [
    "test_sentences = list()\n",
    "for review in test_review:\n",
    "    test_sentences.append(review.split())"
   ]
  },
  {
   "cell_type": "code",
   "execution_count": 21,
   "id": "11ea1156-227f-4d17-a525-ac2eaed420ec",
   "metadata": {},
   "outputs": [
    {
     "name": "stderr",
     "output_type": "stream",
     "text": [
      "C:\\Users\\BIT\\AppData\\Local\\Temp/ipykernel_2452/2170054812.py:10: DeprecationWarning: Call to deprecated `__getitem__` (Method will be removed in 4.0.0, use self.wv.__getitem__() instead).\n",
      "  feature_vector = np.add(feature_vector, model[w])\n"
     ]
    }
   ],
   "source": [
    "test_data_vecs = get_dataset(test_sentences, model, num_features)"
   ]
  },
  {
   "cell_type": "code",
   "execution_count": 22,
   "id": "db92e2bf-3407-4f05-bf42-7232b75ca969",
   "metadata": {},
   "outputs": [],
   "source": [
    "test_predicted = lgs.predict(test_data_vecs)\n",
    "\n",
    "ids = list(test_data['id'])\n",
    "answer_dataset = pd.DataFrame({'id': ids, 'sentiment':test_predicted})"
   ]
  },
  {
   "cell_type": "code",
   "execution_count": 23,
   "id": "5cd892fe-f2c9-467a-be69-5461039bf34b",
   "metadata": {},
   "outputs": [],
   "source": [
    "if not os.path.exists(DATA_OUT_PATH):\n",
    "    os.makedirs(DATA_OUT_PATH)\n",
    "\n",
    "answer_dataset.to_csv(DATA_OUT_PATH + 'lgs_w2v_answer.csv', index=False, quoting=3)"
   ]
  },
  {
   "cell_type": "code",
   "execution_count": null,
   "id": "35dec13a-7e5a-4f29-a55c-61b057c4025b",
   "metadata": {},
   "outputs": [],
   "source": []
  }
 ],
 "metadata": {
  "kernelspec": {
   "display_name": "Python 3 (ipykernel)",
   "language": "python",
   "name": "python3"
  },
  "language_info": {
   "codemirror_mode": {
    "name": "ipython",
    "version": 3
   },
   "file_extension": ".py",
   "mimetype": "text/x-python",
   "name": "python",
   "nbconvert_exporter": "python",
   "pygments_lexer": "ipython3",
   "version": "3.8.11"
  }
 },
 "nbformat": 4,
 "nbformat_minor": 5
}
