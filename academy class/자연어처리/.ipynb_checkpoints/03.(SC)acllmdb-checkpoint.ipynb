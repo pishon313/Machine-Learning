{
 "cells": [
  {
   "cell_type": "code",
   "execution_count": 1,
   "id": "b06d40cf-4cf5-41b2-a831-bb756ae72d34",
   "metadata": {},
   "outputs": [],
   "source": [
    "import os\n",
    "import pandas as pd\n",
    "import tensorflow as tf\n",
    "from tensorflow.keras import utils"
   ]
  },
  {
   "cell_type": "code",
   "execution_count": 12,
   "id": "ae88bad9-22cf-4dd7-9853-5450f9fc4e1c",
   "metadata": {},
   "outputs": [],
   "source": [
    "f_path = 'D:\\\\scsrc\\\\NLP\\\\chap03'\n",
    "data_set = utils.get_file(fname = f_path + 'imdb.tar.gz',\n",
    "                          origin = 'http://ai.stanford.edu/~amaas/data/sentiment/aclImdb_v1.tar.gz',\n",
    "                          extract = True, cache_subdir = 'datasets', cache_dir = f_path)"
   ]
  },
  {
   "cell_type": "code",
   "execution_count": 13,
   "id": "f4ae5fb2-80a1-4c37-a9a9-508a91814007",
   "metadata": {},
   "outputs": [],
   "source": [
    "def directory_data(directory):\n",
    "    data = {}\n",
    "    data['review'] = []\n",
    "    for file_path in os.listdir(directory):\n",
    "        with open(os.path.join(directory, file_path), 'r', encoding = 'utf-8') as file:\n",
    "            data['review'].append(file.read())\n",
    "            \n",
    "    return pd.DataFrame.from_dict(data)"
   ]
  },
  {
   "cell_type": "code",
   "execution_count": 17,
   "id": "bee53794-d544-4b54-a25e-67319513461d",
   "metadata": {},
   "outputs": [],
   "source": [
    "def data(directory):\n",
    "    pos_df = directory_data(os.path.join(directory, \"pos\"))\n",
    "    neg_df = directory_data(os.path.join(directory, \"neg\"))\n",
    "    pos_df[\"sentiment\"] = 1\n",
    "    neg_df[\"sentiment\"] = 0\n",
    "    \n",
    "    return pd.concat([pos_df, neg_df])"
   ]
  },
  {
   "cell_type": "code",
   "execution_count": 18,
   "id": "20eccdf1-268f-4826-936b-51fe7a501886",
   "metadata": {
    "tags": []
   },
   "outputs": [],
   "source": [
    "train_df = data(os.path.join(f_path, 'datasets', 'aclImdb', 'train'))\n",
    "test_df = data(os.path.join(f_path, 'datasets', 'aclImdb', 'test'))"
   ]
  },
  {
   "cell_type": "code",
   "execution_count": 19,
   "id": "bdf48820-1a46-46ad-b999-de84fff8b91a",
   "metadata": {
    "tags": []
   },
   "outputs": [
    {
     "name": "stdout",
     "output_type": "stream",
     "text": [
      "                                              review  sentiment\n",
      "0  Bromwell High is a cartoon comedy. It ran at t...          1\n",
      "1  Homelessness (or Houselessness as George Carli...          1\n",
      "2  Brilliant over-acting by Lesley Ann Warren. Be...          1\n",
      "3  This is easily the most underrated film inn th...          1\n",
      "4  This is not the typical Mel Brooks film. It wa...          1\n"
     ]
    }
   ],
   "source": [
    "print(train_df.head())"
   ]
  },
  {
   "cell_type": "code",
   "execution_count": 20,
   "id": "2514361c-1038-4e5c-8422-f59dd9d5ff4b",
   "metadata": {},
   "outputs": [
    {
     "name": "stdout",
     "output_type": "stream",
     "text": [
      "                                                  review  sentiment\n",
      "12495  Towards the end of the movie, I felt it was to...          0\n",
      "12496  This is the kind of movie that my enemies cont...          0\n",
      "12497  I saw 'Descent' last night at the Stockholm Fi...          0\n",
      "12498  Some films that you pick up for a pound turn o...          0\n",
      "12499  This is one of the dumbest films, I've ever se...          0\n"
     ]
    }
   ],
   "source": [
    "print(train_df.tail())"
   ]
  },
  {
   "cell_type": "code",
   "execution_count": null,
   "id": "f8825a51-ac17-4a8c-8255-7092f1376e12",
   "metadata": {},
   "outputs": [],
   "source": []
  }
 ],
 "metadata": {
  "kernelspec": {
   "display_name": "Python 3 (ipykernel)",
   "language": "python",
   "name": "python3"
  },
  "language_info": {
   "codemirror_mode": {
    "name": "ipython",
    "version": 3
   },
   "file_extension": ".py",
   "mimetype": "text/x-python",
   "name": "python",
   "nbconvert_exporter": "python",
   "pygments_lexer": "ipython3",
   "version": "3.8.11"
  }
 },
 "nbformat": 4,
 "nbformat_minor": 5
}
