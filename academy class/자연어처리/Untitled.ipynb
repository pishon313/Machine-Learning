{
 "cells": [
  {
   "cell_type": "markdown",
   "id": "356cc461-5edb-468b-949c-eca12071822a",
   "metadata": {},
   "source": [
    "198 페이지\n",
    "CNN 사용"
   ]
  },
  {
   "cell_type": "code",
   "execution_count": null,
   "id": "e36aaf0a-7af6-486c-a594-b306dc8185f8",
   "metadata": {},
   "outputs": [],
   "source": [
    "신경망을 통해 들어가는 것은 배치개념, \n",
    "\n",
    "배치, 7개의 단어, N차원(여기서는 5차원)의 벡터 -> 3차원 \n",
    "199페이지의 그림은 이해를 위해 배치를 날리고, 단어의 개수, 5차원의 벡터만 넣고 2차원으로 \n",
    "7단어가 로우 -> 각 단어가 로우 \n",
    "각 단어가 임베딩 됬다고 한 것 .\n",
    "\n",
    "콤보 1d 는 1차원 평면 \n",
    "\n",
    "마스크가 출력 개수만큼 되므로 입력 하나가 출력으로 되는데, 커널이 2,3,4 이고 각 커널당 마스크가 2개 이므롬, 총 6개가 나온다. \n",
    "커널은 임베딩 개수만큼 된다. \n",
    "\n",
    "1. 커널 사이즈가 2라면, 임배딩 차원 컬럼이 5개까지 있으므로 (가장 아래에 있는 두개가 필터) 이 필터로 스트라이딩을 시키면 출력이 6개가 나온다. \n",
    "2. 전체에서 맥스풀링 하면 결과가 1개만 나올 것인데, 이를 붙이면 6개가 되는데 이를 출력해서 긍정이냐, 부정이냐를 판별\n",
    "\n",
    "\n",
    "이것은 서브클래싱으로 할 수밖에 없다 \n"
   ]
  }
 ],
 "metadata": {
  "kernelspec": {
   "display_name": "Python 3 (ipykernel)",
   "language": "python",
   "name": "python3"
  },
  "language_info": {
   "codemirror_mode": {
    "name": "ipython",
    "version": 3
   },
   "file_extension": ".py",
   "mimetype": "text/x-python",
   "name": "python",
   "nbconvert_exporter": "python",
   "pygments_lexer": "ipython3",
   "version": "3.7.0"
  }
 },
 "nbformat": 4,
 "nbformat_minor": 5
}
