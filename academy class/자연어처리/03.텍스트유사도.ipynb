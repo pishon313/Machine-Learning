{
 "cells": [
  {
   "cell_type": "code",
   "execution_count": 1,
   "id": "4eaa4289-ce4c-4b15-910e-c2d70a07afe6",
   "metadata": {},
   "outputs": [],
   "source": [
    "import numpy as np\n",
    "from sklearn.feature_extraction.text import TfidfVectorizer"
   ]
  },
  {
   "cell_type": "code",
   "execution_count": 2,
   "id": "7d08df17-d90e-45b7-9642-3a3b8172f495",
   "metadata": {},
   "outputs": [],
   "source": [
    "sent = (\"휴일 인 오늘 도 서쪽 을 중심 으로 폭염 이 이어졌는데요, 내일 은 반가운 비 소식 이 있습니다.\", \\\n",
    "        \"폭염 을 피해서 휴일 에 놀러왔다가 갑작스런 비 로 인해 망연자실 하고 있습니다.\") \n",
    "tfidf_vectorizer = TfidfVectorizer()\n",
    "tfidf_matrix = tfidf_vectorizer.fit_transform(sent)"
   ]
  },
  {
   "cell_type": "code",
   "execution_count": 3,
   "id": "dac203e5-5916-4b27-bd1a-98b075690e6e",
   "metadata": {},
   "outputs": [
    {
     "name": "stdout",
     "output_type": "stream",
     "text": [
      "  (0, 11)\t0.23061650387901597\n",
      "  (0, 6)\t0.3241234495558481\n",
      "  (0, 4)\t0.3241234495558481\n",
      "  (0, 1)\t0.3241234495558481\n",
      "  (0, 9)\t0.3241234495558481\n",
      "  (0, 13)\t0.23061650387901597\n",
      "  (0, 8)\t0.3241234495558481\n",
      "  (0, 12)\t0.3241234495558481\n",
      "  (0, 5)\t0.3241234495558481\n",
      "  (0, 7)\t0.3241234495558481\n",
      "  (0, 16)\t0.23061650387901597\n",
      "  (1, 15)\t0.36469322896147516\n",
      "  (1, 3)\t0.36469322896147516\n",
      "  (1, 10)\t0.36469322896147516\n",
      "  (1, 0)\t0.36469322896147516\n",
      "  (1, 2)\t0.36469322896147516\n",
      "  (1, 14)\t0.36469322896147516\n",
      "  (1, 11)\t0.2594822360637418\n",
      "  (1, 13)\t0.2594822360637418\n",
      "  (1, 16)\t0.2594822360637418\n"
     ]
    }
   ],
   "source": [
    "print(tfidf_matrix)"
   ]
  },
  {
   "cell_type": "code",
   "execution_count": 4,
   "id": "2441cd6c-eb8b-4b6b-9300-2e18bca85d56",
   "metadata": {},
   "outputs": [
    {
     "ename": "AttributeError",
     "evalue": "'list' object has no attribute 'idf'",
     "output_type": "error",
     "traceback": [
      "\u001b[0;31m---------------------------------------------------------------------------\u001b[0m",
      "\u001b[0;31mAttributeError\u001b[0m                            Traceback (most recent call last)",
      "\u001b[0;32m<ipython-input-4-7f62457f19d6>\u001b[0m in \u001b[0;36m<module>\u001b[0;34m\u001b[0m\n\u001b[1;32m      1\u001b[0m \u001b[0midf\u001b[0m \u001b[0;34m=\u001b[0m \u001b[0mtfidf_vectorizer\u001b[0m\u001b[0;34m.\u001b[0m\u001b[0midf_\u001b[0m\u001b[0;34m\u001b[0m\u001b[0m\n\u001b[0;32m----> 2\u001b[0;31m \u001b[0mword_dict\u001b[0m \u001b[0;34m=\u001b[0m \u001b[0mdict\u001b[0m\u001b[0;34m(\u001b[0m\u001b[0mzip\u001b[0m\u001b[0;34m(\u001b[0m\u001b[0mtfidf_vectorizer\u001b[0m\u001b[0;34m.\u001b[0m\u001b[0mget_feature_names\u001b[0m\u001b[0;34m(\u001b[0m\u001b[0;34m)\u001b[0m\u001b[0;34m.\u001b[0m \u001b[0midf\u001b[0m\u001b[0;34m)\u001b[0m\u001b[0;34m)\u001b[0m\u001b[0;34m\u001b[0m\u001b[0m\n\u001b[0m\u001b[1;32m      3\u001b[0m \u001b[0mprint\u001b[0m\u001b[0;34m(\u001b[0m\u001b[0mlen\u001b[0m\u001b[0;34m(\u001b[0m\u001b[0mword_dict\u001b[0m\u001b[0;34m)\u001b[0m\u001b[0;34m)\u001b[0m\u001b[0;34m\u001b[0m\u001b[0m\n",
      "\u001b[0;31mAttributeError\u001b[0m: 'list' object has no attribute 'idf'"
     ]
    }
   ],
   "source": [
    "idf = tfidf_vectorizer.idf_\n",
    "word_dict = dict(zip(tfidf_vectorizer.get_feature_names(). idf))\n",
    "print(len(word_dict))"
   ]
  },
  {
   "cell_type": "code",
   "execution_count": 5,
   "id": "fc244287-00e3-4735-b82f-28e0323b8648",
   "metadata": {},
   "outputs": [
    {
     "ename": "NameError",
     "evalue": "name 'word' is not defined",
     "output_type": "error",
     "traceback": [
      "\u001b[0;31m---------------------------------------------------------------------------\u001b[0m",
      "\u001b[0;31mNameError\u001b[0m                                 Traceback (most recent call last)",
      "\u001b[0;32m<ipython-input-5-60d3f5ba92a8>\u001b[0m in \u001b[0;36m<module>\u001b[0;34m\u001b[0m\n\u001b[0;32m----> 1\u001b[0;31m \u001b[0mprint\u001b[0m\u001b[0;34m(\u001b[0m\u001b[0mword\u001b[0m\u001b[0;34m)\u001b[0m\u001b[0;34m\u001b[0m\u001b[0m\n\u001b[0m",
      "\u001b[0;31mNameError\u001b[0m: name 'word' is not defined"
     ]
    }
   ],
   "source": [
    "print(word)\n"
   ]
  },
  {
   "cell_type": "markdown",
   "id": "f3e1ae0f-a43d-4f66-b144-15aa4826c583",
   "metadata": {},
   "source": [
    "### 유사도(Similarit)종류\n",
    "\n",
    "1. 자카드 유사도 \n",
    "2. 코사인 유사도\n",
    "3. 유클리디안 유사도\n",
    "4. 맨하단 유사도"
   ]
  },
  {
   "cell_type": "markdown",
   "id": "1848d1ad-bd7c-461d-9a34-922e81269be2",
   "metadata": {},
   "source": [
    "## 1. 자카드(Jaccard) 유사도\n",
    "- 벡터화 없이 유사도 측정 가능  \n",
    "- 두 문장을 각각 단어의 집합으로 만든 뒤 두 집합을 통해 유사도 측정  \n",
    "- 두 잡합의 교집합인 공통된 단어의 개수를 전체 단어의 수로 나눔(0 ~ 1)  \n",
    "- 결과가 1에 가까울 수록 유사도가 높다는 의미(공통 단어가 많다는 의미)  \n",
    "- A, B 는 각 문장을 의미, token은 각 단어를 의미 할 경우 수식은 다음과 같음  \n",
    "## J(A, B) = $\\frac {|A\\, \\cap \\, B|} {|A\\, \\cup \\, B|}$ = $\\frac {|token\\,in\\, A\\, \\cap\\, token\\, in\\, B|} {|token\\, in\\, A\\, \\cup\\, token\\, in\\, B|}$"
   ]
  },
  {
   "cell_type": "markdown",
   "id": "bbc2005e-515c-437a-88ef-abd5f9d65a69",
   "metadata": {},
   "source": [
    "교재 120page"
   ]
  },
  {
   "cell_type": "code",
   "execution_count": 7,
   "id": "d339eda2-2bc8-49ba-a31c-74bdcf458730",
   "metadata": {},
   "outputs": [
    {
     "data": {
      "text/plain": [
       "array([0.5, 1. , 0. ])"
      ]
     },
     "execution_count": 7,
     "metadata": {},
     "output_type": "execute_result"
    }
   ],
   "source": [
    "from sklearn.metrics import jaccard_score\n",
    "#jaccard_score(tfidf_matrix[0:1], tfidf_matrix[1:2])\n",
    "jaccard_score(np.array([1,1,0,0]), np.array([1,1,0,2]), average=None)"
   ]
  },
  {
   "cell_type": "markdown",
   "id": "c6f32e5e-fd34-4fd7-b3b3-d7c791b1d30d",
   "metadata": {},
   "source": [
    "## 2. 코사인 유사도  \n",
    "- 두 개의 벡터값에서 코사인 각도를 구함  \n",
    "- 코사인 유사도 값은 -1 과 1사이의 값을 가지고, 1에 가까울수록 유사함을 의미  \n",
    "- 유사도를 계산할 때 가장 널리 쓰이는 방법  \n",
    "- 다른 유사도 접근법에 비해 일반적으로 성능이 좋음  \n",
    "- 단순히 좌표상의 거리를 구하는 대신 두 벡터간의 각도를 구함, 방향성의 개념이 더해짐  \n",
    "- 두 문장이 유사하다면 같은 방향으로 가리킬 것이고, 그렇지 않다면 직교좌표로 표현될 것임  \n",
    "## $\\cos(\\theta) = \\frac {\\vec{a}\\bullet\\vec{b}} {\\parallel\\vec{a}\\parallel\\bullet\\parallel\\vec{b}\\parallel}$"
   ]
  },
  {
   "cell_type": "code",
   "execution_count": 9,
   "id": "1fb47d5a-a873-4da9-b78c-02841844207b",
   "metadata": {},
   "outputs": [
    {
     "data": {
      "text/plain": [
       "array([[0.17952266]])"
      ]
     },
     "execution_count": 9,
     "metadata": {},
     "output_type": "execute_result"
    }
   ],
   "source": [
    "from sklearn.metrics.pairwise import cosine_similarity\n",
    "cosine_similarity(tfidf_matrix[0:1], tfidf_matrix[1:2])"
   ]
  },
  {
   "cell_type": "code",
   "execution_count": 12,
   "id": "bc376466-9b9d-4660-b548-4eb53746ff04",
   "metadata": {},
   "outputs": [
    {
     "name": "stdout",
     "output_type": "stream",
     "text": [
      "  (0, 11)\t0.23061650387901597\n",
      "  (0, 6)\t0.3241234495558481\n",
      "  (0, 4)\t0.3241234495558481\n",
      "  (0, 1)\t0.3241234495558481\n",
      "  (0, 9)\t0.3241234495558481\n",
      "  (0, 13)\t0.23061650387901597\n",
      "  (0, 8)\t0.3241234495558481\n",
      "  (0, 12)\t0.3241234495558481\n",
      "  (0, 5)\t0.3241234495558481\n",
      "  (0, 7)\t0.3241234495558481\n",
      "  (0, 16)\t0.23061650387901597\n"
     ]
    }
   ],
   "source": [
    "print(tfidf_matrix[0:1])"
   ]
  },
  {
   "cell_type": "code",
   "execution_count": 13,
   "id": "11bf8292-3ace-4ee1-9b46-ed21cba15de3",
   "metadata": {},
   "outputs": [
    {
     "name": "stdout",
     "output_type": "stream",
     "text": [
      "  (0, 15)\t0.36469322896147516\n",
      "  (0, 3)\t0.36469322896147516\n",
      "  (0, 10)\t0.36469322896147516\n",
      "  (0, 0)\t0.36469322896147516\n",
      "  (0, 2)\t0.36469322896147516\n",
      "  (0, 14)\t0.36469322896147516\n",
      "  (0, 11)\t0.2594822360637418\n",
      "  (0, 13)\t0.2594822360637418\n",
      "  (0, 16)\t0.2594822360637418\n"
     ]
    }
   ],
   "source": [
    "print(tfidf_matrix[1:2])"
   ]
  },
  {
   "cell_type": "code",
   "execution_count": 14,
   "id": "ce811fa2-dddd-4961-a02e-95f35772977d",
   "metadata": {},
   "outputs": [
    {
     "name": "stdout",
     "output_type": "stream",
     "text": [
      "  (0, 11)\t0.23061650387901597\n",
      "  (0, 6)\t0.3241234495558481\n",
      "  (0, 4)\t0.3241234495558481\n",
      "  (0, 1)\t0.3241234495558481\n",
      "  (0, 9)\t0.3241234495558481\n",
      "  (0, 13)\t0.23061650387901597\n",
      "  (0, 8)\t0.3241234495558481\n",
      "  (0, 12)\t0.3241234495558481\n",
      "  (0, 5)\t0.3241234495558481\n",
      "  (0, 7)\t0.3241234495558481\n",
      "  (0, 16)\t0.23061650387901597\n",
      "  (1, 15)\t0.36469322896147516\n",
      "  (1, 3)\t0.36469322896147516\n",
      "  (1, 10)\t0.36469322896147516\n",
      "  (1, 0)\t0.36469322896147516\n",
      "  (1, 2)\t0.36469322896147516\n",
      "  (1, 14)\t0.36469322896147516\n",
      "  (1, 11)\t0.2594822360637418\n",
      "  (1, 13)\t0.2594822360637418\n",
      "  (1, 16)\t0.2594822360637418\n"
     ]
    }
   ],
   "source": [
    "print(tfidf_matrix)"
   ]
  },
  {
   "cell_type": "markdown",
   "id": "7ee9f93a-25fa-4a19-b647-ec3636ba3a18",
   "metadata": {},
   "source": [
    "## 3. 유클리디안 유사도\n",
    "- 가장 기본적인 거리를 측정하는 유사도  \n",
    "## d(x, y) = $\\sqrt{(x_{1} - y_{1})^2 + (x_{2} - y_{2})^2 + ... + (x_{n} - y_{n})^2}$"
   ]
  },
  {
   "cell_type": "code",
   "execution_count": 16,
   "id": "57edba40-3d9b-4d11-87f4-b85921d70725",
   "metadata": {},
   "outputs": [
    {
     "name": "stdout",
     "output_type": "stream",
     "text": [
      "[[1.28099753]]\n"
     ]
    }
   ],
   "source": [
    "from sklearn.metrics.pairwise import euclidean_distances\n",
    "print(euclidean_distances(tfidf_matrix[0:1], tfidf_matrix[1:2]))"
   ]
  },
  {
   "cell_type": "markdown",
   "id": "bb13d894-44c9-489c-aa86-928ecb887e90",
   "metadata": {},
   "source": [
    "- 유클리디안 유사도의 값은 단순히 두 점 사이의 거리를 뜻학 ㅣ때문에 갑싱 상당히 커질 수 있음\n",
    "- 0과 1 사이의 값을 갖도록 정규화 함\n",
    "- L1 정규화 사용(각 벡터 안의 요소 값을 모두 더한 값이 크기가 1이 되도록 조정)"
   ]
  },
  {
   "cell_type": "code",
   "execution_count": 20,
   "id": "ae07febd-2ea2-43d1-9a4d-de7914a5cf2e",
   "metadata": {},
   "outputs": [
    {
     "name": "stdout",
     "output_type": "stream",
     "text": [
      "[[0.20491229]]\n"
     ]
    }
   ],
   "source": [
    "def l1_normalize(v):\n",
    "    norm = np.sum(v)\n",
    "    return v / norm\n",
    "\n",
    "tfidf_norm_l1 = l1_normalize(tfidf_matrix)\n",
    "print(euclidean_distances(tfidf_norm_l1[0:1], tfidf_norm_l1[1:2]))"
   ]
  },
  {
   "cell_type": "markdown",
   "id": "83b3b8b3-c430-4c84-af5d-53d9ae25544a",
   "metadata": {},
   "source": [
    "## 4. 맨하탄 유사도\n",
    "- 맨하탄 거리를 통해 유사도를 구하는 방법  \n",
    "- 사각형 격자로 이루어진 지도에서, 출발점에서 도착점까지를 가로지르지 않고 갈 수 있는 최단거리를 구함  \n",
    "- 유클리디안 거리를 L2거리 라고 부르고, 맨하탄 거리를 L1거리 라고 부름  \n",
    "## MaDistance = $\\sum_{i=1}^n {|a_{i} - b_{i}|}$  \n",
    "- 맨하탄 유사도 또한 L1 정규화 방법을 통해 0과 1 사이의 값을 갖도록 조정"
   ]
  },
  {
   "cell_type": "code",
   "execution_count": 24,
   "id": "a464a178-b2d1-449a-84c1-8af812954ad4",
   "metadata": {},
   "outputs": [
    {
     "name": "stdout",
     "output_type": "stream",
     "text": [
      "[[0.77865927]]\n"
     ]
    }
   ],
   "source": [
    "from sklearn.metrics.pairwise import manhattan_distances\n",
    "print(manhattan_distances(tfidf_norm_l1[0:1], tfidf_norm_l1[1:2]))"
   ]
  },
  {
   "cell_type": "code",
   "execution_count": null,
   "id": "3665fd30-e27c-4a8e-b769-e02e45734e19",
   "metadata": {},
   "outputs": [],
   "source": []
  }
 ],
 "metadata": {
  "kernelspec": {
   "display_name": "Python 3 (ipykernel)",
   "language": "python",
   "name": "python3"
  },
  "language_info": {
   "codemirror_mode": {
    "name": "ipython",
    "version": 3
   },
   "file_extension": ".py",
   "mimetype": "text/x-python",
   "name": "python",
   "nbconvert_exporter": "python",
   "pygments_lexer": "ipython3",
   "version": "3.7.0"
  }
 },
 "nbformat": 4,
 "nbformat_minor": 5
}
