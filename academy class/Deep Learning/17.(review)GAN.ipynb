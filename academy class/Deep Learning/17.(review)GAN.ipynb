{
 "cells": [
  {
   "cell_type": "markdown",
   "id": "c7d703dd-4965-4c00-8082-9cd222ae6d88",
   "metadata": {},
   "source": [
    "모두의 딥러닝 \n",
    "19장, GAN"
   ]
  },
  {
   "cell_type": "markdown",
   "id": "f92f00f8-5828-4c81-a8f1-cb335689d57e",
   "metadata": {},
   "source": [
    "# Generative Adversarial Networks(생성적 적대 신경망, GAN)\n",
    "\n",
    "- 딥러닝 원리를 활용해 가상의 이미지를 생성하는 알고리즘\n",
    "- 이안 굿펠로(Ian Goodfellow)가 GAN 아이디어를 처음으로 제안\n",
    "    - 위조 지폐범과 경찰\n",
    "- 생성자 (Generator) : 가짜를 만들어 내는 파트 (Generator)\n",
    "    - 생성자 활성화 함수로는 ReLU()함수를 쓰고, 판별자로 넘겨주기 직전에는 tanh()함수를 쓴다 \n",
    "        - ReLU() : 0 미만의 값은 0으로, 0보다 큰 값은 그대로 출력 \n",
    "        - tanh() : 출력되는 값을 -1 ~ 1 사이로 맞출 수 있다 \n",
    "- 판별자 (Discriminator) : 진위를 가려내는 파트 \n",
    "\n",
    "* GAN 활용한 사이트\n",
    ": https://www.thispersondoesnotexist.com/"
   ]
  },
  {
   "cell_type": "code",
   "execution_count": 3,
   "id": "bb58b60a-4c59-4ab1-ba73-2c618834e837",
   "metadata": {},
   "outputs": [],
   "source": [
    "from tensorflow.keras.datasets import mnist\n",
    "from tensorflow.keras.layers import Input, Dense, Reshape, Flatten, Dropout\n",
    "from tensorflow.keras.layers import BatchNormalization, Activation, LeakyReLU\n",
    "from tensorflow.keras.models import Sequential, Model\n",
    "from tensorflow.keras.layers import Input, Conv2D, MaxPooling2D, UpSampling2D, concatenate, Conv2DTranspose, BatchNormalization, Dropout\n",
    "import numpy as np\n",
    "import matplotlib.pyplot as plt"
   ]
  },
  {
   "cell_type": "markdown",
   "id": "1480a48d-0fb9-4519-8ce2-cac9499f1cf5",
   "metadata": {},
   "source": [
    "* mnist : 손으로 슨 숫자들도 이루어진 대형 데이터베이스. 다양한 화상 처리 시스템을 트레이닝 하기 위해 일반적으로 사용된다.\n"
   ]
  },
  {
   "cell_type": "code",
   "execution_count": 4,
   "id": "37523345-3b96-48bd-ba3a-00b17ee8a709",
   "metadata": {},
   "outputs": [],
   "source": [
    "import os\n",
    "if not os.path.exists('./gan_images'):\n",
    "    os.makedirs('./gan_images')"
   ]
  },
  {
   "cell_type": "markdown",
   "id": "43d74164-35a2-45c6-8e2e-ef0580fb2152",
   "metadata": {},
   "source": [
    "import os : 파일의 경로나 폴더에 관한 처리를 하는 라이브러리\n",
    "\n",
    "- os.chdir(\"경로\") : 경로의 위치로 작업파일을 이동한다 \n",
    "- os.getcwd()     : 현재 작업 위취를 출력\n",
    "- os.path.exists(\"경로\") : 해당 경로가 존재하는지 True/False 로 출력한다\n",
    "- os.listdir(\"경로\") : 해당 경로에 있는 파일을 전부 읽는다 \n",
    "- os.makedirs(\"파일 이름\") : 현재 작업 위치에 파일을 생성한다. \n",
    "- os.remove(\"파일 이름\") : 현재 작업위치에 해당 이름의 파일을 지운다\n",
    "- os.path.join(\"경로\", \"경로\",..) : 문자열로 된 경로를 합쳐서 새로운 경로를 만든다 "
   ]
  },
  {
   "cell_type": "code",
   "execution_count": 6,
   "id": "89521bcf-f83b-419e-8a73-9159fbd587ed",
   "metadata": {},
   "outputs": [],
   "source": [
    "generator = Sequential()\n",
    "generator.add(Dense(128*7*7, input_dim=100, activation = LeakyReLU(0.2)))\n",
    "generator.add(BatchNormalization())\n",
    "generator.add(Reshape((7,7,128)))\n",
    "generator.add(UpSampling2D())\n",
    "generator.add(Conv2D(64,kernel_size=5, padding='same'))\n",
    "generator.add(BatchNormalization())\n",
    "generator.add(Activation(LeakyReLU(0.2)))\n",
    "generator.add(UpSampling2D())\n",
    "generator.add(Conv2D(1, kernel_size=5, padding='same', activation='tanh'))"
   ]
  },
  {
   "cell_type": "code",
   "execution_count": 7,
   "id": "a8dcf935-ba6a-4808-8682-754868e8ed7d",
   "metadata": {},
   "outputs": [
    {
     "name": "stdout",
     "output_type": "stream",
     "text": [
      "Model: \"sequential_1\"\n",
      "_________________________________________________________________\n",
      "Layer (type)                 Output Shape              Param #   \n",
      "=================================================================\n",
      "dense_1 (Dense)              (None, 6272)              633472    \n",
      "_________________________________________________________________\n",
      "batch_normalization_2 (Batch (None, 6272)              25088     \n",
      "_________________________________________________________________\n",
      "reshape_1 (Reshape)          (None, 7, 7, 128)         0         \n",
      "_________________________________________________________________\n",
      "up_sampling2d_1 (UpSampling2 (None, 14, 14, 128)       0         \n",
      "_________________________________________________________________\n",
      "conv2d_1 (Conv2D)            (None, 14, 14, 64)        204864    \n",
      "_________________________________________________________________\n",
      "batch_normalization_3 (Batch (None, 14, 14, 64)        256       \n",
      "_________________________________________________________________\n",
      "activation_1 (Activation)    (None, 14, 14, 64)        0         \n",
      "_________________________________________________________________\n",
      "up_sampling2d_2 (UpSampling2 (None, 28, 28, 64)        0         \n",
      "_________________________________________________________________\n",
      "conv2d_2 (Conv2D)            (None, 28, 28, 1)         1601      \n",
      "=================================================================\n",
      "Total params: 865,281\n",
      "Trainable params: 852,609\n",
      "Non-trainable params: 12,672\n",
      "_________________________________________________________________\n"
     ]
    }
   ],
   "source": [
    "generator.summary()"
   ]
  },
  {
   "cell_type": "code",
   "execution_count": null,
   "id": "b1e31c2a-2507-4b44-9f40-973bae6c9853",
   "metadata": {},
   "outputs": [],
   "source": []
  }
 ],
 "metadata": {
  "kernelspec": {
   "display_name": "Python 3",
   "language": "python",
   "name": "python3"
  },
  "language_info": {
   "codemirror_mode": {
    "name": "ipython",
    "version": 3
   },
   "file_extension": ".py",
   "mimetype": "text/x-python",
   "name": "python",
   "nbconvert_exporter": "python",
   "pygments_lexer": "ipython3",
   "version": "3.7.0"
  }
 },
 "nbformat": 4,
 "nbformat_minor": 5
}
