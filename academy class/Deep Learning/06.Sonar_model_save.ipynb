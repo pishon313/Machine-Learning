{
 "cells": [
  {
   "cell_type": "markdown",
   "id": "e550206e-782c-4ec3-a311-6043672a2228",
   "metadata": {},
   "source": [
    "모델 저장 및 불러오기\n",
    "\n",
    "- 모델을 저장하고, 해당 모델을 다른 곳에서 불러온 뒤 추가 작업을 할 수 있다. "
   ]
  },
  {
   "cell_type": "code",
   "execution_count": 1,
   "id": "aafe7d57-0ce5-4c20-b512-2095c7353cbb",
   "metadata": {},
   "outputs": [],
   "source": [
    "from tensorflow.keras.models import Sequential\n",
    "from tensorflow.keras.layers import Dense\n",
    "from sklearn.preprocessing import LabelEncoder\n",
    "from sklearn.model_selection import train_test_split\n",
    "import pandas as pd\n",
    "import numpy as np\n",
    "import tensorflow as tf"
   ]
  },
  {
   "cell_type": "code",
   "execution_count": 2,
   "id": "f8651269-123c-46a7-bd7c-dc6fcb29b138",
   "metadata": {},
   "outputs": [],
   "source": [
    "seed = 0\n",
    "np.random.seed(seed)\n",
    "tf.random.set_seed(3)"
   ]
  },
  {
   "cell_type": "code",
   "execution_count": 3,
   "id": "ebee69bc-661b-4a9c-94b6-c5e691d339a7",
   "metadata": {},
   "outputs": [],
   "source": [
    "df = pd.read_csv('data/sonar.csv')"
   ]
  },
  {
   "cell_type": "code",
   "execution_count": 4,
   "id": "849a8c97-7469-4a36-be89-d676251095db",
   "metadata": {},
   "outputs": [],
   "source": [
    "dataset = df.values\n",
    "X = dataset[:, :60].astype(float)\n",
    "Y_obj = dataset[:, 60]"
   ]
  },
  {
   "cell_type": "code",
   "execution_count": 5,
   "id": "afcd7c8d-0881-41f0-80f6-bb24d1b60be8",
   "metadata": {},
   "outputs": [],
   "source": [
    "e = LabelEncoder()\n",
    "e.fit(Y_obj)\n",
    "Y = e.transform(Y_obj)"
   ]
  },
  {
   "cell_type": "code",
   "execution_count": 6,
   "id": "aebacd95-cc48-49c9-ace0-e243668d60ce",
   "metadata": {},
   "outputs": [],
   "source": [
    "X_train, X_test, y_train, y_test = train_test_split(X, Y, test_size=0.3, random_state=seed)"
   ]
  },
  {
   "cell_type": "code",
   "execution_count": 7,
   "id": "93bea42e-2e82-452a-8e83-9b8b7e102f53",
   "metadata": {},
   "outputs": [],
   "source": [
    "model = Sequential()\n",
    "model.add(Dense(24, input_dim =60, activation = 'relu'))\n",
    "model.add(Dense(10, activation = 'relu'))\n",
    "model.add(Dense(1, activation = 'sigmoid'))"
   ]
  },
  {
   "cell_type": "code",
   "execution_count": 15,
   "id": "11486c23-1f5d-4828-8fa5-73587e9adc83",
   "metadata": {},
   "outputs": [
    {
     "ename": "NameError",
     "evalue": "name 'model' is not defined",
     "output_type": "error",
     "traceback": [
      "\u001b[0;31m---------------------------------------------------------------------------\u001b[0m",
      "\u001b[0;31mNameError\u001b[0m                                 Traceback (most recent call last)",
      "\u001b[0;32m<ipython-input-15-bc7b107ac6fa>\u001b[0m in \u001b[0;36m<module>\u001b[0;34m\u001b[0m\n\u001b[0;32m----> 1\u001b[0;31m \u001b[0mmodel\u001b[0m\u001b[0;34m.\u001b[0m\u001b[0mcompile\u001b[0m\u001b[0;34m(\u001b[0m\u001b[0mloss\u001b[0m\u001b[0;34m=\u001b[0m\u001b[0;34m'mean_squared_error'\u001b[0m\u001b[0;34m,\u001b[0m \u001b[0moptimizer\u001b[0m\u001b[0;34m=\u001b[0m\u001b[0;34m'adam'\u001b[0m\u001b[0;34m,\u001b[0m \u001b[0mmetrics\u001b[0m\u001b[0;34m=\u001b[0m\u001b[0;34m[\u001b[0m\u001b[0;34m'accuracy'\u001b[0m\u001b[0;34m]\u001b[0m\u001b[0;34m)\u001b[0m\u001b[0;34m\u001b[0m\u001b[0m\n\u001b[0m",
      "\u001b[0;31mNameError\u001b[0m: name 'model' is not defined"
     ]
    }
   ],
   "source": [
    "model.compile(loss='mean_squared_error', optimizer='adam', metrics=['accuracy'])"
   ]
  },
  {
   "cell_type": "code",
   "execution_count": 9,
   "id": "cd8014b3-5478-41be-9544-7d9b8f275560",
   "metadata": {},
   "outputs": [
    {
     "name": "stdout",
     "output_type": "stream",
     "text": [
      "Train on 207 samples\n",
      "Epoch 1/130\n",
      "207/207 [==============================] - 1s 3ms/sample - loss: 0.2435 - accuracy: 0.5459\n",
      "Epoch 2/130\n",
      "207/207 [==============================] - 0s 320us/sample - loss: 0.2290 - accuracy: 0.6184\n",
      "Epoch 3/130\n",
      "207/207 [==============================] - 0s 294us/sample - loss: 0.2162 - accuracy: 0.7440\n",
      "Epoch 4/130\n",
      "207/207 [==============================] - 0s 279us/sample - loss: 0.2037 - accuracy: 0.6957\n",
      "Epoch 5/130\n",
      "207/207 [==============================] - 0s 280us/sample - loss: 0.1916 - accuracy: 0.7874\n",
      "Epoch 6/130\n",
      "207/207 [==============================] - 0s 262us/sample - loss: 0.1828 - accuracy: 0.7440\n",
      "Epoch 7/130\n",
      "207/207 [==============================] - 0s 280us/sample - loss: 0.1694 - accuracy: 0.7923\n",
      "Epoch 8/130\n",
      "207/207 [==============================] - 0s 262us/sample - loss: 0.1602 - accuracy: 0.7874\n",
      "Epoch 9/130\n",
      "207/207 [==============================] - 0s 275us/sample - loss: 0.1576 - accuracy: 0.7681\n",
      "Epoch 10/130\n",
      "207/207 [==============================] - 0s 266us/sample - loss: 0.1509 - accuracy: 0.8019\n",
      "Epoch 11/130\n",
      "207/207 [==============================] - 0s 269us/sample - loss: 0.1455 - accuracy: 0.8019\n",
      "Epoch 12/130\n",
      "207/207 [==============================] - 0s 290us/sample - loss: 0.1387 - accuracy: 0.8357\n",
      "Epoch 13/130\n",
      "207/207 [==============================] - 0s 276us/sample - loss: 0.1354 - accuracy: 0.8068\n",
      "Epoch 14/130\n",
      "207/207 [==============================] - 0s 286us/sample - loss: 0.1320 - accuracy: 0.8116\n",
      "Epoch 15/130\n",
      "207/207 [==============================] - 0s 276us/sample - loss: 0.1289 - accuracy: 0.8116\n",
      "Epoch 16/130\n",
      "207/207 [==============================] - 0s 278us/sample - loss: 0.1289 - accuracy: 0.8309\n",
      "Epoch 17/130\n",
      "207/207 [==============================] - 0s 265us/sample - loss: 0.1271 - accuracy: 0.8357\n",
      "Epoch 18/130\n",
      "207/207 [==============================] - 0s 283us/sample - loss: 0.1242 - accuracy: 0.8309\n",
      "Epoch 19/130\n",
      "207/207 [==============================] - 0s 281us/sample - loss: 0.1156 - accuracy: 0.8551\n",
      "Epoch 20/130\n",
      "207/207 [==============================] - 0s 289us/sample - loss: 0.1134 - accuracy: 0.8551\n",
      "Epoch 21/130\n",
      "207/207 [==============================] - 0s 277us/sample - loss: 0.1106 - accuracy: 0.8647\n",
      "Epoch 22/130\n",
      "207/207 [==============================] - 0s 301us/sample - loss: 0.1079 - accuracy: 0.8841\n",
      "Epoch 23/130\n",
      "207/207 [==============================] - 0s 288us/sample - loss: 0.1045 - accuracy: 0.8647\n",
      "Epoch 24/130\n",
      "207/207 [==============================] - 0s 266us/sample - loss: 0.1064 - accuracy: 0.8502\n",
      "Epoch 25/130\n",
      "207/207 [==============================] - 0s 292us/sample - loss: 0.1036 - accuracy: 0.8647\n",
      "Epoch 26/130\n",
      "207/207 [==============================] - 0s 273us/sample - loss: 0.0971 - accuracy: 0.8841\n",
      "Epoch 27/130\n",
      "207/207 [==============================] - 0s 287us/sample - loss: 0.0973 - accuracy: 0.8937\n",
      "Epoch 28/130\n",
      "207/207 [==============================] - 0s 275us/sample - loss: 0.0938 - accuracy: 0.8841\n",
      "Epoch 29/130\n",
      "207/207 [==============================] - 0s 277us/sample - loss: 0.0946 - accuracy: 0.8792\n",
      "Epoch 30/130\n",
      "207/207 [==============================] - 0s 264us/sample - loss: 0.0896 - accuracy: 0.9227\n",
      "Epoch 31/130\n",
      "207/207 [==============================] - 0s 262us/sample - loss: 0.0866 - accuracy: 0.9179\n",
      "Epoch 32/130\n",
      "207/207 [==============================] - 0s 285us/sample - loss: 0.0848 - accuracy: 0.9130\n",
      "Epoch 33/130\n",
      "207/207 [==============================] - 0s 258us/sample - loss: 0.0958 - accuracy: 0.8889\n",
      "Epoch 34/130\n",
      "207/207 [==============================] - 0s 272us/sample - loss: 0.0824 - accuracy: 0.8986\n",
      "Epoch 35/130\n",
      "207/207 [==============================] - 0s 280us/sample - loss: 0.0806 - accuracy: 0.8986\n",
      "Epoch 36/130\n",
      "207/207 [==============================] - 0s 270us/sample - loss: 0.0766 - accuracy: 0.9179\n",
      "Epoch 37/130\n",
      "207/207 [==============================] - 0s 272us/sample - loss: 0.0760 - accuracy: 0.9130\n",
      "Epoch 38/130\n",
      "207/207 [==============================] - 0s 262us/sample - loss: 0.0728 - accuracy: 0.9275\n",
      "Epoch 39/130\n",
      "207/207 [==============================] - 0s 279us/sample - loss: 0.0840 - accuracy: 0.9130\n",
      "Epoch 40/130\n",
      "207/207 [==============================] - 0s 269us/sample - loss: 0.0729 - accuracy: 0.9179\n",
      "Epoch 41/130\n",
      "207/207 [==============================] - 0s 266us/sample - loss: 0.0703 - accuracy: 0.9372\n",
      "Epoch 42/130\n",
      "207/207 [==============================] - 0s 263us/sample - loss: 0.0695 - accuracy: 0.9179\n",
      "Epoch 43/130\n",
      "207/207 [==============================] - 0s 261us/sample - loss: 0.0642 - accuracy: 0.9275\n",
      "Epoch 44/130\n",
      "207/207 [==============================] - 0s 266us/sample - loss: 0.0653 - accuracy: 0.9372\n",
      "Epoch 45/130\n",
      "207/207 [==============================] - 0s 293us/sample - loss: 0.0597 - accuracy: 0.9517\n",
      "Epoch 46/130\n",
      "207/207 [==============================] - 0s 275us/sample - loss: 0.0634 - accuracy: 0.9275\n",
      "Epoch 47/130\n",
      "207/207 [==============================] - 0s 276us/sample - loss: 0.0634 - accuracy: 0.9275\n",
      "Epoch 48/130\n",
      "207/207 [==============================] - 0s 272us/sample - loss: 0.0575 - accuracy: 0.9420\n",
      "Epoch 49/130\n",
      "207/207 [==============================] - 0s 272us/sample - loss: 0.0560 - accuracy: 0.9469\n",
      "Epoch 50/130\n",
      "207/207 [==============================] - 0s 266us/sample - loss: 0.0574 - accuracy: 0.9372\n",
      "Epoch 51/130\n",
      "207/207 [==============================] - 0s 275us/sample - loss: 0.0619 - accuracy: 0.9469\n",
      "Epoch 52/130\n",
      "207/207 [==============================] - 0s 277us/sample - loss: 0.0534 - accuracy: 0.9420\n",
      "Epoch 53/130\n",
      "207/207 [==============================] - 0s 284us/sample - loss: 0.0491 - accuracy: 0.9662\n",
      "Epoch 54/130\n",
      "207/207 [==============================] - 0s 307us/sample - loss: 0.0512 - accuracy: 0.9565\n",
      "Epoch 55/130\n",
      "207/207 [==============================] - 0s 281us/sample - loss: 0.0470 - accuracy: 0.9614\n",
      "Epoch 56/130\n",
      "207/207 [==============================] - 0s 274us/sample - loss: 0.0517 - accuracy: 0.9517\n",
      "Epoch 57/130\n",
      "207/207 [==============================] - 0s 300us/sample - loss: 0.0464 - accuracy: 0.9710\n",
      "Epoch 58/130\n",
      "207/207 [==============================] - 0s 275us/sample - loss: 0.0477 - accuracy: 0.9565\n",
      "Epoch 59/130\n",
      "207/207 [==============================] - 0s 270us/sample - loss: 0.0437 - accuracy: 0.9662\n",
      "Epoch 60/130\n",
      "207/207 [==============================] - 0s 285us/sample - loss: 0.0438 - accuracy: 0.9662\n",
      "Epoch 61/130\n",
      "207/207 [==============================] - 0s 285us/sample - loss: 0.0415 - accuracy: 0.9710\n",
      "Epoch 62/130\n",
      "207/207 [==============================] - 0s 268us/sample - loss: 0.0399 - accuracy: 0.9662\n",
      "Epoch 63/130\n",
      "207/207 [==============================] - 0s 279us/sample - loss: 0.0414 - accuracy: 0.9614\n",
      "Epoch 64/130\n",
      "207/207 [==============================] - 0s 275us/sample - loss: 0.0389 - accuracy: 0.9710\n",
      "Epoch 65/130\n",
      "207/207 [==============================] - 0s 277us/sample - loss: 0.0366 - accuracy: 0.9710\n",
      "Epoch 66/130\n",
      "207/207 [==============================] - 0s 277us/sample - loss: 0.0386 - accuracy: 0.9662\n",
      "Epoch 67/130\n",
      "207/207 [==============================] - 0s 274us/sample - loss: 0.0387 - accuracy: 0.9710\n",
      "Epoch 68/130\n",
      "207/207 [==============================] - 0s 271us/sample - loss: 0.0377 - accuracy: 0.9662\n",
      "Epoch 69/130\n",
      "207/207 [==============================] - 0s 267us/sample - loss: 0.0350 - accuracy: 0.9710\n",
      "Epoch 70/130\n",
      "207/207 [==============================] - 0s 269us/sample - loss: 0.0427 - accuracy: 0.9517\n",
      "Epoch 71/130\n",
      "207/207 [==============================] - 0s 273us/sample - loss: 0.0336 - accuracy: 0.9710\n",
      "Epoch 72/130\n",
      "207/207 [==============================] - 0s 269us/sample - loss: 0.0315 - accuracy: 0.9758\n",
      "Epoch 73/130\n",
      "207/207 [==============================] - 0s 281us/sample - loss: 0.0312 - accuracy: 0.9758\n",
      "Epoch 74/130\n",
      "207/207 [==============================] - 0s 277us/sample - loss: 0.0305 - accuracy: 0.9710\n",
      "Epoch 75/130\n",
      "207/207 [==============================] - 0s 266us/sample - loss: 0.0332 - accuracy: 0.9710\n",
      "Epoch 76/130\n",
      "207/207 [==============================] - 0s 281us/sample - loss: 0.0330 - accuracy: 0.9758\n",
      "Epoch 77/130\n",
      "207/207 [==============================] - 0s 275us/sample - loss: 0.0282 - accuracy: 0.9758\n",
      "Epoch 78/130\n",
      "207/207 [==============================] - 0s 280us/sample - loss: 0.0314 - accuracy: 0.9710\n",
      "Epoch 79/130\n",
      "207/207 [==============================] - 0s 297us/sample - loss: 0.0294 - accuracy: 0.9758\n",
      "Epoch 80/130\n",
      "207/207 [==============================] - 0s 281us/sample - loss: 0.0271 - accuracy: 0.9807\n",
      "Epoch 81/130\n",
      "207/207 [==============================] - 0s 284us/sample - loss: 0.0273 - accuracy: 0.9758\n",
      "Epoch 82/130\n",
      "207/207 [==============================] - 0s 272us/sample - loss: 0.0261 - accuracy: 0.9758\n",
      "Epoch 83/130\n",
      "207/207 [==============================] - 0s 298us/sample - loss: 0.0292 - accuracy: 0.9807\n",
      "Epoch 84/130\n",
      "207/207 [==============================] - 0s 287us/sample - loss: 0.0274 - accuracy: 0.9758\n",
      "Epoch 85/130\n",
      "207/207 [==============================] - 0s 288us/sample - loss: 0.0250 - accuracy: 0.9758\n",
      "Epoch 86/130\n",
      "207/207 [==============================] - 0s 293us/sample - loss: 0.0235 - accuracy: 0.9807\n",
      "Epoch 87/130\n",
      "207/207 [==============================] - 0s 281us/sample - loss: 0.0268 - accuracy: 0.9807\n",
      "Epoch 88/130\n",
      "207/207 [==============================] - 0s 291us/sample - loss: 0.0229 - accuracy: 0.9758\n",
      "Epoch 89/130\n",
      "207/207 [==============================] - 0s 274us/sample - loss: 0.0235 - accuracy: 0.9855\n",
      "Epoch 90/130\n",
      "207/207 [==============================] - 0s 280us/sample - loss: 0.0245 - accuracy: 0.9855\n",
      "Epoch 91/130\n",
      "207/207 [==============================] - 0s 279us/sample - loss: 0.0294 - accuracy: 0.9710\n",
      "Epoch 92/130\n",
      "207/207 [==============================] - 0s 283us/sample - loss: 0.0225 - accuracy: 0.9807\n",
      "Epoch 93/130\n",
      "207/207 [==============================] - 0s 288us/sample - loss: 0.0287 - accuracy: 0.9710\n",
      "Epoch 94/130\n",
      "207/207 [==============================] - 0s 271us/sample - loss: 0.0248 - accuracy: 0.9758\n",
      "Epoch 95/130\n",
      "207/207 [==============================] - 0s 275us/sample - loss: 0.0232 - accuracy: 0.9758\n",
      "Epoch 96/130\n",
      "207/207 [==============================] - 0s 303us/sample - loss: 0.0217 - accuracy: 0.9855\n",
      "Epoch 97/130\n",
      "207/207 [==============================] - 0s 280us/sample - loss: 0.0219 - accuracy: 0.9807\n",
      "Epoch 98/130\n",
      "207/207 [==============================] - 0s 266us/sample - loss: 0.0204 - accuracy: 0.9855\n",
      "Epoch 99/130\n",
      "207/207 [==============================] - 0s 288us/sample - loss: 0.0180 - accuracy: 0.9855\n",
      "Epoch 100/130\n",
      "207/207 [==============================] - 0s 270us/sample - loss: 0.0199 - accuracy: 0.9807\n",
      "Epoch 101/130\n",
      "207/207 [==============================] - 0s 276us/sample - loss: 0.0181 - accuracy: 0.9855\n",
      "Epoch 102/130\n",
      "207/207 [==============================] - 0s 273us/sample - loss: 0.0199 - accuracy: 0.9855\n",
      "Epoch 103/130\n",
      "207/207 [==============================] - 0s 270us/sample - loss: 0.0189 - accuracy: 0.9855\n",
      "Epoch 104/130\n",
      "207/207 [==============================] - 0s 270us/sample - loss: 0.0178 - accuracy: 0.9855\n",
      "Epoch 105/130\n",
      "207/207 [==============================] - 0s 276us/sample - loss: 0.0177 - accuracy: 0.9855\n",
      "Epoch 106/130\n",
      "207/207 [==============================] - 0s 271us/sample - loss: 0.0173 - accuracy: 0.9855\n",
      "Epoch 107/130\n",
      "207/207 [==============================] - 0s 272us/sample - loss: 0.0171 - accuracy: 0.9807\n",
      "Epoch 108/130\n",
      "207/207 [==============================] - 0s 283us/sample - loss: 0.0193 - accuracy: 0.9758\n",
      "Epoch 109/130\n",
      "207/207 [==============================] - 0s 281us/sample - loss: 0.0179 - accuracy: 0.9855\n",
      "Epoch 110/130\n",
      "207/207 [==============================] - 0s 269us/sample - loss: 0.0164 - accuracy: 0.9855\n",
      "Epoch 111/130\n",
      "207/207 [==============================] - 0s 280us/sample - loss: 0.0160 - accuracy: 0.9855\n",
      "Epoch 112/130\n",
      "207/207 [==============================] - 0s 276us/sample - loss: 0.0164 - accuracy: 0.9855\n",
      "Epoch 113/130\n",
      "207/207 [==============================] - 0s 279us/sample - loss: 0.0164 - accuracy: 0.9855\n",
      "Epoch 114/130\n",
      "207/207 [==============================] - 0s 292us/sample - loss: 0.0163 - accuracy: 0.9807\n",
      "Epoch 115/130\n",
      "207/207 [==============================] - 0s 279us/sample - loss: 0.0202 - accuracy: 0.9807\n",
      "Epoch 116/130\n",
      "207/207 [==============================] - 0s 278us/sample - loss: 0.0147 - accuracy: 0.9903\n",
      "Epoch 117/130\n",
      "207/207 [==============================] - 0s 338us/sample - loss: 0.0165 - accuracy: 0.9903\n",
      "Epoch 118/130\n",
      "207/207 [==============================] - 0s 271us/sample - loss: 0.0177 - accuracy: 0.9855\n",
      "Epoch 119/130\n",
      "207/207 [==============================] - 0s 289us/sample - loss: 0.0145 - accuracy: 0.9903\n",
      "Epoch 120/130\n",
      "207/207 [==============================] - 0s 294us/sample - loss: 0.0142 - accuracy: 0.9855\n",
      "Epoch 121/130\n",
      "207/207 [==============================] - 0s 281us/sample - loss: 0.0131 - accuracy: 0.9903\n",
      "Epoch 122/130\n",
      "207/207 [==============================] - 0s 269us/sample - loss: 0.0132 - accuracy: 0.9855\n",
      "Epoch 123/130\n",
      "207/207 [==============================] - 0s 292us/sample - loss: 0.0117 - accuracy: 0.9903\n",
      "Epoch 124/130\n",
      "207/207 [==============================] - 0s 285us/sample - loss: 0.0129 - accuracy: 0.9903\n",
      "Epoch 125/130\n",
      "207/207 [==============================] - 0s 299us/sample - loss: 0.0131 - accuracy: 0.9903\n",
      "Epoch 126/130\n",
      "207/207 [==============================] - 0s 287us/sample - loss: 0.0128 - accuracy: 0.9903\n",
      "Epoch 127/130\n",
      "207/207 [==============================] - 0s 279us/sample - loss: 0.0112 - accuracy: 0.9903\n",
      "Epoch 128/130\n",
      "207/207 [==============================] - 0s 290us/sample - loss: 0.0121 - accuracy: 0.9952\n",
      "Epoch 129/130\n",
      "207/207 [==============================] - 0s 282us/sample - loss: 0.0114 - accuracy: 0.9903\n",
      "Epoch 130/130\n",
      "207/207 [==============================] - 0s 310us/sample - loss: 0.0103 - accuracy: 0.9952\n"
     ]
    }
   ],
   "source": [
    "model.fit(X, Y, epochs=130, batch_size=5)\n",
    "model.save('sonar_model.h5')"
   ]
  },
  {
   "cell_type": "code",
   "execution_count": 10,
   "id": "935f59ea-33e0-4f36-9594-d4d4eeea042f",
   "metadata": {},
   "outputs": [
    {
     "name": "stdout",
     "output_type": "stream",
     "text": [
      "63/1 [==================================================================================================================================================================================================================================================================================================================================================================================================================================================================================================================================================================================================================================================================================================================================================================================================================================================================================================================================================================================================================================================================================================================================================================================================================================================================================================================================================================================================================================================================================================================================================================================================================================================================================================================================================================================================================================================================================================================================================================] - 0s 2ms/sample - loss: 0.0112 - accuracy: 0.9841\n",
      "Test Accuracy : 0.9841\n"
     ]
    }
   ],
   "source": [
    "print(\"Test Accuracy : %.4f\" % (model.evaluate(X_test, y_test)[1]))"
   ]
  },
  {
   "cell_type": "code",
   "execution_count": 11,
   "id": "bd60197a-65bf-4df9-9a85-5517e755d8ba",
   "metadata": {},
   "outputs": [],
   "source": [
    "# 모델 불러오기 테스스를 위해 모델 제거 \n",
    "del model"
   ]
  },
  {
   "cell_type": "code",
   "execution_count": 12,
   "id": "0608848c-e2b2-4e6a-8979-3284ea99b57c",
   "metadata": {},
   "outputs": [
    {
     "ename": "NameError",
     "evalue": "name 'model' is not defined",
     "output_type": "error",
     "traceback": [
      "\u001b[0;31m---------------------------------------------------------------------------\u001b[0m",
      "\u001b[0;31mNameError\u001b[0m                                 Traceback (most recent call last)",
      "\u001b[0;32m<ipython-input-12-5f15418b3570>\u001b[0m in \u001b[0;36m<module>\u001b[0;34m\u001b[0m\n\u001b[0;32m----> 1\u001b[0;31m \u001b[0mmodel\u001b[0m\u001b[0;34m.\u001b[0m\u001b[0msummary\u001b[0m\u001b[0;34m(\u001b[0m\u001b[0;34m)\u001b[0m\u001b[0;34m\u001b[0m\u001b[0m\n\u001b[0m",
      "\u001b[0;31mNameError\u001b[0m: name 'model' is not defined"
     ]
    }
   ],
   "source": [
    "model.summary()"
   ]
  },
  {
   "cell_type": "code",
   "execution_count": 13,
   "id": "9d9a53ae-90c0-4ddc-a22a-a50058a7593a",
   "metadata": {},
   "outputs": [
    {
     "ename": "AttributeError",
     "evalue": "'str' object has no attribute 'decode'",
     "output_type": "error",
     "traceback": [
      "\u001b[0;31m---------------------------------------------------------------------------\u001b[0m",
      "\u001b[0;31mAttributeError\u001b[0m                            Traceback (most recent call last)",
      "\u001b[0;32m<ipython-input-13-628477acbcfc>\u001b[0m in \u001b[0;36m<module>\u001b[0;34m\u001b[0m\n\u001b[1;32m      1\u001b[0m \u001b[0;31m# 저장된 모델 불러오기\u001b[0m\u001b[0;34m\u001b[0m\u001b[0;34m\u001b[0m\u001b[0m\n\u001b[1;32m      2\u001b[0m \u001b[0;32mfrom\u001b[0m \u001b[0mtensorflow\u001b[0m\u001b[0;34m.\u001b[0m\u001b[0mkeras\u001b[0m\u001b[0;34m.\u001b[0m\u001b[0mmodels\u001b[0m \u001b[0;32mimport\u001b[0m \u001b[0mload_model\u001b[0m\u001b[0;34m\u001b[0m\u001b[0m\n\u001b[0;32m----> 3\u001b[0;31m \u001b[0mmodel\u001b[0m \u001b[0;34m=\u001b[0m \u001b[0mload_model\u001b[0m\u001b[0;34m(\u001b[0m\u001b[0;34m'sonar_model.h5'\u001b[0m\u001b[0;34m)\u001b[0m\u001b[0;34m\u001b[0m\u001b[0m\n\u001b[0m",
      "\u001b[0;32m~/opt/anaconda3/envs/python-env/lib/python3.7/site-packages/tensorflow_core/python/keras/saving/save.py\u001b[0m in \u001b[0;36mload_model\u001b[0;34m(filepath, custom_objects, compile)\u001b[0m\n\u001b[1;32m    144\u001b[0m   if (h5py is not None and (\n\u001b[1;32m    145\u001b[0m       isinstance(filepath, h5py.File) or h5py.is_hdf5(filepath))):\n\u001b[0;32m--> 146\u001b[0;31m     \u001b[0;32mreturn\u001b[0m \u001b[0mhdf5_format\u001b[0m\u001b[0;34m.\u001b[0m\u001b[0mload_model_from_hdf5\u001b[0m\u001b[0;34m(\u001b[0m\u001b[0mfilepath\u001b[0m\u001b[0;34m,\u001b[0m \u001b[0mcustom_objects\u001b[0m\u001b[0;34m,\u001b[0m \u001b[0mcompile\u001b[0m\u001b[0;34m)\u001b[0m\u001b[0;34m\u001b[0m\u001b[0m\n\u001b[0m\u001b[1;32m    147\u001b[0m \u001b[0;34m\u001b[0m\u001b[0m\n\u001b[1;32m    148\u001b[0m   \u001b[0;32mif\u001b[0m \u001b[0misinstance\u001b[0m\u001b[0;34m(\u001b[0m\u001b[0mfilepath\u001b[0m\u001b[0;34m,\u001b[0m \u001b[0msix\u001b[0m\u001b[0;34m.\u001b[0m\u001b[0mstring_types\u001b[0m\u001b[0;34m)\u001b[0m\u001b[0;34m:\u001b[0m\u001b[0;34m\u001b[0m\u001b[0m\n",
      "\u001b[0;32m~/opt/anaconda3/envs/python-env/lib/python3.7/site-packages/tensorflow_core/python/keras/saving/hdf5_format.py\u001b[0m in \u001b[0;36mload_model_from_hdf5\u001b[0;34m(filepath, custom_objects, compile)\u001b[0m\n\u001b[1;32m    164\u001b[0m     \u001b[0;32mif\u001b[0m \u001b[0mmodel_config\u001b[0m \u001b[0;32mis\u001b[0m \u001b[0;32mNone\u001b[0m\u001b[0;34m:\u001b[0m\u001b[0;34m\u001b[0m\u001b[0m\n\u001b[1;32m    165\u001b[0m       \u001b[0;32mraise\u001b[0m \u001b[0mValueError\u001b[0m\u001b[0;34m(\u001b[0m\u001b[0;34m'No model found in config file.'\u001b[0m\u001b[0;34m)\u001b[0m\u001b[0;34m\u001b[0m\u001b[0m\n\u001b[0;32m--> 166\u001b[0;31m     \u001b[0mmodel_config\u001b[0m \u001b[0;34m=\u001b[0m \u001b[0mjson\u001b[0m\u001b[0;34m.\u001b[0m\u001b[0mloads\u001b[0m\u001b[0;34m(\u001b[0m\u001b[0mmodel_config\u001b[0m\u001b[0;34m.\u001b[0m\u001b[0mdecode\u001b[0m\u001b[0;34m(\u001b[0m\u001b[0;34m'utf-8'\u001b[0m\u001b[0;34m)\u001b[0m\u001b[0;34m)\u001b[0m\u001b[0;34m\u001b[0m\u001b[0m\n\u001b[0m\u001b[1;32m    167\u001b[0m     model = model_config_lib.model_from_config(model_config,\n\u001b[1;32m    168\u001b[0m                                                custom_objects=custom_objects)\n",
      "\u001b[0;31mAttributeError\u001b[0m: 'str' object has no attribute 'decode'"
     ]
    }
   ],
   "source": [
    "# 저장된 모델 불러오기\n",
    "from tensorflow.keras.models import load_model\n",
    "model = load_model('sonar_model.h5')"
   ]
  },
  {
   "cell_type": "code",
   "execution_count": 14,
   "id": "9345e185-5bf5-4d99-823e-6589e143e904",
   "metadata": {},
   "outputs": [
    {
     "ename": "NameError",
     "evalue": "name 'model' is not defined",
     "output_type": "error",
     "traceback": [
      "\u001b[0;31m---------------------------------------------------------------------------\u001b[0m",
      "\u001b[0;31mNameError\u001b[0m                                 Traceback (most recent call last)",
      "\u001b[0;32m<ipython-input-14-1b8805df9cf9>\u001b[0m in \u001b[0;36m<module>\u001b[0;34m\u001b[0m\n\u001b[0;32m----> 1\u001b[0;31m \u001b[0mprint\u001b[0m\u001b[0;34m(\u001b[0m\u001b[0;34m\"Test Accuracy : %.4f\"\u001b[0m \u001b[0;34m%\u001b[0m \u001b[0;34m(\u001b[0m\u001b[0mmodel\u001b[0m\u001b[0;34m.\u001b[0m\u001b[0mevaluate\u001b[0m\u001b[0;34m(\u001b[0m\u001b[0mX_test\u001b[0m\u001b[0;34m,\u001b[0m \u001b[0my_test\u001b[0m\u001b[0;34m)\u001b[0m\u001b[0;34m[\u001b[0m\u001b[0;36m1\u001b[0m\u001b[0;34m]\u001b[0m\u001b[0;34m)\u001b[0m\u001b[0;34m)\u001b[0m\u001b[0;34m\u001b[0m\u001b[0m\n\u001b[0m",
      "\u001b[0;31mNameError\u001b[0m: name 'model' is not defined"
     ]
    }
   ],
   "source": [
    "print(\"Test Accuracy : %.4f\" % (model.evaluate(X_test, y_test)[1]))"
   ]
  },
  {
   "cell_type": "code",
   "execution_count": null,
   "id": "38159029-f357-48f3-97d1-47897ebe00fc",
   "metadata": {},
   "outputs": [],
   "source": []
  }
 ],
 "metadata": {
  "kernelspec": {
   "display_name": "Python 3 (ipykernel)",
   "language": "python",
   "name": "python3"
  },
  "language_info": {
   "codemirror_mode": {
    "name": "ipython",
    "version": 3
   },
   "file_extension": ".py",
   "mimetype": "text/x-python",
   "name": "python",
   "nbconvert_exporter": "python",
   "pygments_lexer": "ipython3",
   "version": "3.7.0"
  }
 },
 "nbformat": 4,
 "nbformat_minor": 5
}
