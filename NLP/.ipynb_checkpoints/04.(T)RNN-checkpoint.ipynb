{
 "cells": [
  {
   "cell_type": "code",
   "execution_count": 1,
   "id": "4df8b40c-c193-4928-8eb7-db4b310ba454",
   "metadata": {},
   "outputs": [],
   "source": [
    "import tensorflow as tf\n",
    "from tensorflow.keras.preprocessing.sequence import pad_sequences\n",
    "from tensorflow.keras.callbacks import EarlyStopping, ModelCheckpoint\n",
    "from tensorflow.keras import layers\n",
    "import numpy as np\n",
    "import pandas as pd\n",
    "import matplotlib.pyplot as plt\n",
    "import os\n",
    "import json"
   ]
  },
  {
   "cell_type": "code",
   "execution_count": 2,
   "id": "bdef5519-b246-4647-9364-0e70b90eb53c",
   "metadata": {},
   "outputs": [],
   "source": [
    "def plot_graph(history, string):\n",
    "    plt.plot(history.history[string])\n",
    "    plt.plot(history.history['val_' + string], '')\n",
    "    plt.xlabel('Epochs')\n",
    "    plt.ylabel(string)\n",
    "    plt.legend([string, 'val_' + string])\n",
    "    plt.show()"
   ]
  },
  {
   "cell_type": "code",
   "execution_count": 3,
   "id": "15828453-61de-4cea-8693-8049bb763eae",
   "metadata": {},
   "outputs": [],
   "source": [
    "DATA_IN_PATH = './data_in/'\n",
    "DATA_OUT_PATH = './data_out/'\n",
    "TRAIN_INPUT_DATA = 'train_input.npy'\n",
    "TRAIN_LABEL_DATA = 'train_label.npy'\n",
    "DATA_CONFIGS = 'data_configs.json'"
   ]
  },
  {
   "cell_type": "code",
   "execution_count": 4,
   "id": "264ee4d1-9539-4629-b0d0-4500faa2dcbc",
   "metadata": {},
   "outputs": [],
   "source": [
    "train_input = np.load(open(DATA_IN_PATH + TRAIN_INPUT_DATA, 'rb'))\n",
    "train_label = np.load(open(DATA_IN_PATH + TRAIN_LABEL_DATA, 'rb'))\n",
    "prepro_configs = json.load(open(DATA_IN_PATH + DATA_CONFIGS, 'r'))"
   ]
  },
  {
   "cell_type": "code",
   "execution_count": 5,
   "id": "84b7077f-bfab-486f-a454-155a092e1643",
   "metadata": {},
   "outputs": [
    {
     "name": "stdout",
     "output_type": "stream",
     "text": [
      "(25000, 174)\n",
      "(25000,)\n"
     ]
    }
   ],
   "source": [
    "print(train_input.shape)\n",
    "print(train_label.shape)"
   ]
  },
  {
   "cell_type": "code",
   "execution_count": 6,
   "id": "5d528576-a522-4ecd-9269-727aefb5fa0d",
   "metadata": {},
   "outputs": [],
   "source": [
    "SEED_NUM = 1234\n",
    "tf.random.set_seed(SEED_NUM)\n",
    "\n",
    "model_name = 'rnn_classifier_en'\n",
    "BATCH_SIZE = 128\n",
    "NUM_EPOCHS = 5\n",
    "VALID_SPLIT = 0.1\n",
    "MAX_LEN = train_input.shape[1]\n",
    "\n",
    "kargs = {'model_name': model_name,\n",
    "         'vocab_size': prepro_configs['vocab_size'],\n",
    "         'embedding_dimension': 100,\n",
    "         'dropout_rate': 0.2,\n",
    "         'lstm_dimension': 150,\n",
    "         'dense_dimension': 150,\n",
    "         'output_dimension': 1}"
   ]
  },
  {
   "cell_type": "markdown",
   "id": "97bd8c0a-37fa-4b13-9d51-d668bc6778cc",
   "metadata": {},
   "source": [
    "### 모델 선언\n",
    "- LSTM 각 단계에서 현재 정보는 input state, 이전 정보는 hidden state 라 함  \n",
    "- LSTM 의 매개변수 중 return_sequences 은 hidden state 의 반환값을 결정하는데  \n",
    "- false 일 경우 predict 시 마지막 hidden state만 출력됨  \n",
    "- true 일 경우 각 time step 별 모든 hidden state 를 출력함  \n",
    "- 이전의 기록들이 다음 레이어로 들어가기 때문에 LSTM레이어끼리 엮기 위해서는 return_sequence를 사용하여야 함 "
   ]
  },
  {
   "cell_type": "code",
   "execution_count": 11,
   "id": "a42209c8-80f2-4c40-80ba-67824c42781d",
   "metadata": {},
   "outputs": [],
   "source": [
    "class RNNClassifier(tf.keras.Model):\n",
    "    def __init__(self, **kargs):\n",
    "        super(RNNClassifier, self).__init__(name=kargs['model_name'])\n",
    "        self.embedding = layers.Embedding(input_dim=kargs['vocab_size'] + 1,\n",
    "                                         output_dim=kargs['embedding_dimension'])\n",
    "        self.lstm_1_layer = layers.LSTM(kargs['lstm_dimension'], return_sequences=True)\n",
    "        self.lstm_2_layer = layers.LSTM(kargs['lstm_dimension'])\n",
    "        self.dropout = layers.Dropout(kargs['dropout_rate'])\n",
    "        self.fc1 = layers.Dense(kargs['dense_dimension'], activation=tf.keras.activations.tanh)\n",
    "        self.fc2 = layers.Dense(kargs['output_dimension'], activation=tf.keras.activations.sigmoid)\n",
    "        \n",
    "    def call(self, x):\n",
    "        x = self.embedding(x)\n",
    "        x = self.dropout(x)\n",
    "        x = self.lstm_1_layer(x)\n",
    "        x = self.lstm_2_layer(x)\n",
    "        x = self.dropout(x)\n",
    "        x = self.fc1(x)\n",
    "        x = self.dropout(x)\n",
    "        x = self.fc2(x)\n",
    "        \n",
    "        return x"
   ]
  },
  {
   "cell_type": "code",
   "execution_count": 12,
   "id": "f8825d48-804c-43d5-abce-ba4b84dceba4",
   "metadata": {},
   "outputs": [],
   "source": [
    "model = RNNClassifier(**kargs)\n",
    "model.compile(optimizer=tf.keras.optimizers.Adam(1e-4),\n",
    "             loss=tf.keras.losses.BinaryCrossentropy(),\n",
    "             metrics=[tf.keras.metrics.BinaryAccuracy(name='accuracy')])"
   ]
  },
  {
   "cell_type": "code",
   "execution_count": 13,
   "id": "c0fe1d46-111d-4578-af26-8cd351f8dbcc",
   "metadata": {},
   "outputs": [
    {
     "name": "stdout",
     "output_type": "stream",
     "text": [
      "./data_out/rnn_classifier_en -- Folder already exists \n",
      "\n"
     ]
    }
   ],
   "source": [
    "earlystop_callback = EarlyStopping(monitor='val_accuracy', min_delta=0.0001, patience=3)\n",
    "checkpoint_path = DATA_OUT_PATH + model_name + '/weights.h5'\n",
    "checkpoint_dir = os.path.dirname(checkpoint_path)\n",
    "\n",
    "if os.path.exists(checkpoint_dir):\n",
    "    print('{} -- Folder already exists \\n'.format(checkpoint_dir))\n",
    "else:\n",
    "    os.makedirs(checkpoint_dir, exist_ok=True)\n",
    "    print('{} -- Folder create complete \\n'.format(checkpoint_dir))\n",
    "    \n",
    "cp_callback = ModelCheckpoint(checkpoint_path, monitor='val_accuracy', verbose=1,\n",
    "                             save_best_only=True, save_weights_only=True)"
   ]
  },
  {
   "cell_type": "code",
   "execution_count": 14,
   "id": "de7a24ba-76ce-4970-8055-2c2eb1b05a15",
   "metadata": {},
   "outputs": [
    {
     "name": "stdout",
     "output_type": "stream",
     "text": [
      "Epoch 1/5\n",
      "176/176 [==============================] - ETA: 0s - loss: 0.6931 - accuracy: 0.5076\n",
      "Epoch 00001: val_accuracy improved from -inf to 0.51120, saving model to ./data_out/rnn_classifier_en\\weights.h5\n",
      "176/176 [==============================] - 168s 954ms/step - loss: 0.6931 - accuracy: 0.5076 - val_loss: 0.6925 - val_accuracy: 0.5112\n",
      "Epoch 2/5\n",
      "176/176 [==============================] - ETA: 0s - loss: 0.6244 - accuracy: 0.6009\n",
      "Epoch 00002: val_accuracy improved from 0.51120 to 0.84800, saving model to ./data_out/rnn_classifier_en\\weights.h5\n",
      "176/176 [==============================] - 166s 942ms/step - loss: 0.6244 - accuracy: 0.6009 - val_loss: 0.3630 - val_accuracy: 0.8480\n",
      "Epoch 3/5\n",
      "176/176 [==============================] - ETA: 0s - loss: 0.2888 - accuracy: 0.8822\n",
      "Epoch 00003: val_accuracy improved from 0.84800 to 0.88160, saving model to ./data_out/rnn_classifier_en\\weights.h5\n",
      "176/176 [==============================] - 165s 937ms/step - loss: 0.2888 - accuracy: 0.8822 - val_loss: 0.2871 - val_accuracy: 0.8816\n",
      "Epoch 4/5\n",
      "176/176 [==============================] - ETA: 0s - loss: 0.1781 - accuracy: 0.9349\n",
      "Epoch 00004: val_accuracy improved from 0.88160 to 0.89080, saving model to ./data_out/rnn_classifier_en\\weights.h5\n",
      "176/176 [==============================] - 164s 934ms/step - loss: 0.1781 - accuracy: 0.9349 - val_loss: 0.2798 - val_accuracy: 0.8908\n",
      "Epoch 5/5\n",
      "176/176 [==============================] - ETA: 0s - loss: 0.1137 - accuracy: 0.9612\n",
      "Epoch 00005: val_accuracy improved from 0.89080 to 0.89160, saving model to ./data_out/rnn_classifier_en\\weights.h5\n",
      "176/176 [==============================] - 166s 941ms/step - loss: 0.1137 - accuracy: 0.9612 - val_loss: 0.3313 - val_accuracy: 0.8916\n"
     ]
    }
   ],
   "source": [
    "history = model.fit(train_input, train_label, batch_size=BATCH_SIZE, epochs=NUM_EPOCHS,\n",
    "                   validation_split=VALID_SPLIT,\n",
    "                   callbacks=[earlystop_callback, cp_callback])"
   ]
  },
  {
   "cell_type": "code",
   "execution_count": 15,
   "id": "0316fa40-e4ba-429f-b439-574822da644f",
   "metadata": {},
   "outputs": [
    {
     "data": {
      "image/png": "[encoded data removed]",
      "text/plain": [
       "<Figure size 432x288 with 1 Axes>"
      ]
     },
     "metadata": {
      "needs_background": "light"
     },
     "output_type": "display_data"
    }
   ],
   "source": [
    "plot_graph(history, 'accuracy')"
   ]
  },
  {
   "cell_type": "code",
   "execution_count": 16,
   "id": "c8aa3af4-16ea-438d-ac33-fff64ea8f12b",
   "metadata": {},
   "outputs": [
    {
     "data": {
      "image/png": "[encoded data removed]",
      "text/plain": [
       "<Figure size 432x288 with 1 Axes>"
      ]
     },
     "metadata": {
      "needs_background": "light"
     },
     "output_type": "display_data"
    }
   ],
   "source": [
    "plot_graph(history, 'loss')"
   ]
  },
  {
   "cell_type": "code",
   "execution_count": 17,
   "id": "5d130204-dda3-4032-a81f-0b94c100b7fa",
   "metadata": {},
   "outputs": [],
   "source": [
    "TEST_INPUT_DATA = 'test_input.npy'\n",
    "TEST_ID_DATA = 'test_id.npy'\n",
    "\n",
    "test_input = np.load(open(DATA_IN_PATH + TEST_INPUT_DATA, 'rb'))\n",
    "test_input = pad_sequences(test_input, maxlen=test_input.shape[1])"
   ]
  },
  {
   "cell_type": "code",
   "execution_count": 18,
   "id": "82942870-75dc-4b7c-809d-d216b037a711",
   "metadata": {},
   "outputs": [],
   "source": [
    "SAVE_FILE_NM = 'weights.h5'\n",
    "model.load_weights(os.path.join(DATA_OUT_PATH, model_name, SAVE_FILE_NM))"
   ]
  },
  {
   "cell_type": "code",
   "execution_count": 19,
   "id": "efcc92e3-b8ac-4ac3-8fa0-b5911af35ee8",
   "metadata": {},
   "outputs": [],
   "source": [
    "predictions = model.predict(test_input, batch_size=BATCH_SIZE)\n",
    "predictions = predictions.squeeze(-1)"
   ]
  },
  {
   "cell_type": "code",
   "execution_count": 20,
   "id": "c5b4ebc3-fab6-416c-894c-f9aeac871406",
   "metadata": {},
   "outputs": [
    {
     "name": "stdout",
     "output_type": "stream",
     "text": [
      "[0.996095   0.00258106 0.4240222  0.15913102 0.9929869  0.5994234\n",
      " 0.00253016 0.94547796 0.00123331 0.08799604]\n"
     ]
    }
   ],
   "source": [
    "print(predictions[:10])"
   ]
  },
  {
   "cell_type": "code",
   "execution_count": 22,
   "id": "e0dd27d1-4c65-4e9f-8df0-c5306cbc8075",
   "metadata": {},
   "outputs": [
    {
     "data": {
      "text/html": [
       "<div>\n",
       "<style scoped>\n",
       "    .dataframe tbody tr th:only-of-type {\n",
       "        vertical-align: middle;\n",
       "    }\n",
       "\n",
       "    .dataframe tbody tr th {\n",
       "        vertical-align: top;\n",
       "    }\n",
       "\n",
       "    .dataframe thead th {\n",
       "        text-align: right;\n",
       "    }\n",
       "</style>\n",
       "<table border=\"1\" class=\"dataframe\">\n",
       "  <thead>\n",
       "    <tr style=\"text-align: right;\">\n",
       "      <th></th>\n",
       "      <th>id</th>\n",
       "      <th>sentiment</th>\n",
       "    </tr>\n",
       "  </thead>\n",
       "  <tbody>\n",
       "    <tr>\n",
       "      <th>0</th>\n",
       "      <td>\"12311_10\"</td>\n",
       "      <td>0.996095</td>\n",
       "    </tr>\n",
       "    <tr>\n",
       "      <th>1</th>\n",
       "      <td>\"8348_2\"</td>\n",
       "      <td>0.002581</td>\n",
       "    </tr>\n",
       "    <tr>\n",
       "      <th>2</th>\n",
       "      <td>\"5828_4\"</td>\n",
       "      <td>0.424022</td>\n",
       "    </tr>\n",
       "    <tr>\n",
       "      <th>3</th>\n",
       "      <td>\"7186_2\"</td>\n",
       "      <td>0.159131</td>\n",
       "    </tr>\n",
       "    <tr>\n",
       "      <th>4</th>\n",
       "      <td>\"12128_7\"</td>\n",
       "      <td>0.992987</td>\n",
       "    </tr>\n",
       "  </tbody>\n",
       "</table>\n",
       "</div>"
      ],
      "text/plain": [
       "           id  sentiment\n",
       "0  \"12311_10\"   0.996095\n",
       "1    \"8348_2\"   0.002581\n",
       "2    \"5828_4\"   0.424022\n",
       "3    \"7186_2\"   0.159131\n",
       "4   \"12128_7\"   0.992987"
      ]
     },
     "execution_count": 22,
     "metadata": {},
     "output_type": "execute_result"
    }
   ],
   "source": [
    "import pandas as pd\n",
    "\n",
    "test_id = np.load(open(DATA_IN_PATH + TEST_ID_DATA, 'rb'), allow_pickle=True)\n",
    "\n",
    "if not os.path.exists(DATA_OUT_PATH):\n",
    "    os.makedirs(DATA_OUT_PATH)\n",
    "    \n",
    "output = pd.DataFrame({'id': list(test_id), 'sentiment': list(predictions)})\n",
    "output.head()"
   ]
  },
  {
   "cell_type": "code",
   "execution_count": 23,
   "id": "33504926-7346-44d0-b297-3730c133eeed",
   "metadata": {},
   "outputs": [],
   "source": [
    "output.to_csv(DATA_OUT_PATH + 'review_result_rnn.csv', index=False, quoting=3)"
   ]
  },
  {
   "cell_type": "code",
   "execution_count": 24,
   "id": "dfa31ddc-8213-4c5b-9c0a-66fcdaf5c1fb",
   "metadata": {},
   "outputs": [
    {
     "name": "stdout",
     "output_type": "stream",
     "text": [
      "Model: \"rnn_classifier_en\"\n",
      "_________________________________________________________________\n",
      "Layer (type)                 Output Shape              Param #   \n",
      "=================================================================\n",
      "embedding_1 (Embedding)      multiple                  7406600   \n",
      "_________________________________________________________________\n",
      "lstm_2 (LSTM)                multiple                  150600    \n",
      "_________________________________________________________________\n",
      "lstm_3 (LSTM)                multiple                  180600    \n",
      "_________________________________________________________________\n",
      "dropout_1 (Dropout)          multiple                  0         \n",
      "_________________________________________________________________\n",
      "dense_2 (Dense)              multiple                  22650     \n",
      "_________________________________________________________________\n",
      "dense_3 (Dense)              multiple                  151       \n",
      "=================================================================\n",
      "Total params: 7,760,601\n",
      "Trainable params: 7,760,601\n",
      "Non-trainable params: 0\n",
      "_________________________________________________________________\n"
     ]
    }
   ],
   "source": [
    "model.summary()"
   ]
  },
  {
   "cell_type": "code",
   "execution_count": null,
   "id": "2018383b-fb92-4034-b8f9-9b4f9dcf2522",
   "metadata": {},
   "outputs": [],
   "source": []
  }
 ],
 "metadata": {
  "kernelspec": {
   "display_name": "Python 3 (ipykernel)",
   "language": "python",
   "name": "python3"
  },
  "language_info": {
   "codemirror_mode": {
    "name": "ipython",
    "version": 3
   },
   "file_extension": ".py",
   "mimetype": "text/x-python",
   "name": "python",
   "nbconvert_exporter": "python",
   "pygments_lexer": "ipython3",
   "version": "3.8.11"
  }
 },
 "nbformat": 4,
 "nbformat_minor": 5
}
