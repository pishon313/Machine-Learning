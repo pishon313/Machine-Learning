{
 "cells": [
  {
   "cell_type": "code",
   "execution_count": 1,
   "id": "3844b69f-2986-45ea-9ac2-4c472a530ec9",
   "metadata": {},
   "outputs": [],
   "source": [
    "import os\n",
    "import pandas as pd\n",
    "import numpy as np\n",
    "from sklearn.feature_extraction.text import TfidfVectorizer\n",
    "from sklearn.model_selection import train_test_split\n",
    "from sklearn.linear_model import LogisticRegression"
   ]
  },
  {
   "cell_type": "code",
   "execution_count": 4,
   "id": "8c9ed90e-98d0-475a-85d1-1b8eb6704b2f",
   "metadata": {},
   "outputs": [],
   "source": [
    "DATA_IN_PATH = './data_in/'\n",
    "TRAIN_CLEAN_DATA = 'train_clean.csv'\n",
    "\n",
    "train_data = pd.read_csv(DATA_IN_PATH + TRAIN_CLEAN_DATA)\n",
    "reviews = list(train_data['review'])\n",
    "sentiments = list(train_data['sentiment'])"
   ]
  },
  {
   "cell_type": "code",
   "execution_count": 12,
   "id": "b4bf3187-381e-49b2-810d-5c5d0b787c6f",
   "metadata": {},
   "outputs": [],
   "source": [
    "vectorizer = TfidfVectorizer(min_df=0.0, sublinear_tf = True,\n",
    "                             ngram_range=(1,3), max_features=5000, analyzer='char')\n",
    "x = vectorizer.fit_transform(reviews)\n",
    "# ngram_range-(1,3) : 단어가 feature 가 되므로 그 범위\n",
    "# max_feature : 내부적으로 tf 를 구할 떄, 길이에 한정을 주는 것"
   ]
  },
  {
   "cell_type": "markdown",
   "id": "3e3a658a-4030-4d92-9e2f-3f01f32dff1a",
   "metadata": {},
   "source": [
    "- min_df : 특정 토큰의 df(특정 단어 t가 등장한 문서의 ㅅ) ㄱ밧이 이 값보다 더 적게 나오면 벡터화 과정에서 제거함\n",
    "- analyzer\n",
    "    a. 분석하기 위한 n-gram 기준 단위, 'word'와 'char'2가지 옵션을 제공\n",
    "    b. 'word'의 경우 단어를 하나 단위로 하는 것, 'char' 는 문자 하나를 단위로 하는 것\n",
    "- sublinear_tf\n",
    "    a. 문서의 단어 빈도 수에 대한 smooothing 여부를 설정\n",
    "    b. analyzer의 단위를 'char'로 했기 때문에 tf값이 너무 큰 값으로 나옴\n",
    "    c. 이 를 전체적으로 줄이는 스케일링의 일환으로 tf => 1 + log(tf) 으로 대체함\n",
    "- ngram_range : ngram 에서 사용될 단위 수 n의 범위 "
   ]
  },
  {
   "cell_type": "code",
   "execution_count": 14,
   "id": "ca58c40d-981f-49e8-ada7-9d3c7ea6843b",
   "metadata": {},
   "outputs": [
    {
     "name": "stdout",
     "output_type": "stream",
     "text": [
      "[' ', ' a', ' aa', ' ab', ' ac', ' ad', ' ae', ' af', ' ag', ' ah', ' ai', ' ak', ' al', ' am', ' an', ' ap', ' ar', ' as', ' at', ' au', ' av', ' aw', ' ax', ' az', ' b', ' b ', ' ba', ' bb', ' be', ' bi', ' bl', ' bo', ' br', ' bu', ' by', ' c', ' c ', ' ca', ' ce', ' cg', ' ch', ' ci', ' cl', ' co', ' cr', ' cu', ' cy', ' d', ' da', ' de', ' di', ' do', ' dr', ' du', ' dv', ' dw', ' dy', ' e', ' e ', ' ea', ' eb', ' ec', ' ed', ' ee', ' ef', ' eg', ' ei', ' el', ' em', ' en', ' ep', ' eq', ' er', ' es', ' et', ' eu', ' ev', ' ex', ' ey', ' f', ' f ', ' fa', ' fb', ' fe', ' fi', ' fl', ' fo', ' fr', ' fu', ' fx', ' g', ' g ', ' ga', ' ge', ' gh', ' gi', ' gl', ' go', ' gr', ' gu', ' gw', ' gy', ' h', ' h ', ' ha', ' hb', ' he', ' hi', ' hm', ' ho', ' hu', ' hy', ' i', ' ia', ' ic', ' id', ' ig', ' ii', ' il', ' im', ' in', ' ir', ' is', ' it', ' iv', ' j', ' j ', ' ja', ' je', ' ji', ' jo', ' jr', ' ju', ' k', ' k ', ' ka', ' ke', ' kh', ' ki', ' kl', ' kn', ' ko', ' kr', ' ku', ' ky', ' l', ' l ', ' la', ' le', ' li', ' ll', ' lo', ' lu', ' ly', ' m', ' ma', ' mc', ' me', ' mg', ' mi', ' mm', ' mo', ' mr', ' ms', ' mu', ' my', ' n', ' n ', ' na', ' nd', ' ne', ' ni', ' no', ' nu', ' ny', ' o', ' oa', ' ob', ' oc', ' od', ' of', ' oh', ' oi', ' ok', ' ol', ' om', ' on', ' oo', ' op', ' or', ' os', ' ot', ' ou', ' ov', ' ow', ' oz', ' p', ' p ', ' pa', ' pe', ' pg', ' ph', ' pi', ' pl', ' po', ' pr', ' ps', ' pu', ' py', ' q', ' qu', ' r', ' r ', ' ra', ' rd', ' re', ' rh', ' ri', ' ro', ' ru', ' ry', ' s', ' sa', ' sc', ' se', ' sg', ' sh', ' si', ' sk', ' sl', ' sm', ' sn', ' so', ' sp', ' sq', ' st', ' su', ' sw', ' sy', ' t', ' ta', ' te', ' th', ' ti', ' to', ' tr', ' ts', ' tu', ' tv', ' tw', ' ty', ' u', ' u ', ' ug', ' uk', ' ul', ' um', ' un', ' up', ' ur', ' us', ' ut', ' v', ' v ', ' va', ' ve', ' vh', ' vi', ' vo', ' vs', ' vu', ' w', ' w ', ' wa', ' we', ' wh', ' wi', ' wo', ' wr', ' wu', ' ww', ' x', ' x ', ' y', ' ya', ' ye', ' yo', ' yu', ' z', ' za', ' ze', ' zi', ' zo', ' zu', 'a', 'a ', 'a a', 'a b', 'a c', 'a d', 'a e', 'a f', 'a g', 'a h', 'a i', 'a j', 'a k', 'a l', 'a m', 'a n', 'a o', 'a p', 'a q', 'a r', 'a s', 'a t', 'a u', 'a v', 'a w', 'a y', 'aa', 'aa ', 'aaa', 'aar', 'ab', 'ab ', 'aba', 'abb', 'abc', 'abe', 'abh', 'abi', 'abl', 'abo', 'abr', 'abs', 'abu', 'aby', 'ac', 'ac ', 'aca', 'acc', 'ace', 'ach', 'aci', 'ack', 'acl', 'aco', 'acq', 'acr', 'act', 'acu', 'acy', 'ad', 'ad ', 'ada', 'adc', 'add', 'ade', 'adf', 'adg', 'adh', 'adi', 'adj', 'adl', 'adm', 'adn', 'ado', 'adr', 'ads', 'adu', 'adv', 'adw', 'ady', 'ae', 'ae ', 'ael', 'aes', 'af', 'af ', 'afe', 'aff', 'afi', 'afo', 'afr', 'aft', 'ag', 'ag ', 'aga', 'age', 'agg', 'agh', 'agi', 'agl', 'agn', 'ago', 'agr', 'ags', 'agu', 'ah', 'ah ', 'aha', 'ahe', 'ahi', 'aho', 'ai', 'ai ', 'aic', 'aid', 'aig', 'ail', 'aim', 'ain', 'air', 'ais', 'ait', 'aiv', 'aj', 'aj ', 'aja', 'ajo', 'ak', 'ak ', 'aka', 'ake', 'aki', 'akn', 'ako', 'aks', 'aku', 'aky', 'al', 'al ', 'ala', 'alb', 'alc', 'ald', 'ale', 'alf', 'alg', 'ali', 'alk', 'all', 'alm', 'alo', 'alp', 'alr', 'als', 'alt', 'alu', 'alv', 'alw', 'aly', 'am', 'am ', 'ama', 'amb', 'ame', 'ami', 'aml', 'amm', 'amn', 'amo', 'amp', 'amr', 'ams', 'amu', 'amy', 'an', 'an ', 'ana', 'anc', 'and', 'ane', 'ang', 'anh', 'ani', 'ank', 'anl', 'ann', 'ano', 'ans', 'ant', 'anu', 'anw', 'anx', 'any', 'anz', 'ao', 'ao ', 'aor', 'ap', 'ap ', 'apa', 'ape', 'aph', 'api', 'apl', 'apo', 'app', 'apr', 'aps', 'apt', 'aq', 'aq ', 'aqu', 'ar', 'ar ', 'ara', 'arb', 'arc', 'ard', 'are', 'arf', 'arg', 'ari', 'ark', 'arl', 'arm', 'arn', 'aro', 'arp', 'arq', 'arr', 'ars', 'art', 'arv', 'ary', 'arz', 'as', 'as ', 'asa', 'asc', 'ase', 'ash', 'asi', 'ask', 'asl', 'asm', 'aso', 'asp', 'ass', 'ast', 'asu', 'asy', 'at', 'at ', 'ata', 'atc', 'ate', 'ath', 'ati', 'atl', 'atm', 'atn', 'ato', 'atr', 'ats', 'att', 'atu', 'aty', 'au', 'au ', 'auc', 'aud', 'aug', 'aul', 'aum', 'aun', 'aur', 'aus', 'aut', 'av', 'ava', 'ave', 'avi', 'avo', 'avy', 'aw', 'aw ', 'awa', 'awe', 'awf', 'awi', 'awk', 'awl', 'awn', 'awr', 'aws', 'awy', 'ax', 'ax ', 'axe', 'axi', 'ay', 'ay ', 'aya', 'ayb', 'aye', 'ayi', 'ayl', 'aym', 'ayn', 'ayo', 'ays', 'ayw', 'az', 'az ', 'aza', 'aze', 'azi', 'azo', 'azy', 'azz', 'b', 'b ', 'b a', 'b b', 'b c', 'b d', 'b e', 'b f', 'b g', 'b h', 'b i', 'b j', 'b l', 'b m', 'b n', 'b o', 'b p', 'b r', 'b s', 'b t', 'b u', 'b w', 'ba', 'ba ', 'bab', 'bac', 'bad', 'baf', 'bag', 'bai', 'bak', 'bal', 'ban', 'bar', 'bas', 'bat', 'bau', 'bay', 'bb', 'bba', 'bbc', 'bbe', 'bbi', 'bbl', 'bbo', 'bby', 'bc', 'bc ', 'bd', 'be', 'be ', 'bea', 'bec', 'bed', 'bee', 'bef', 'beg', 'beh', 'bei', 'bel', 'ben', 'ber', 'bes', 'bet', 'bew', 'bey', 'bh', 'bha', 'bi', 'bi ', 'bia', 'bib', 'bic', 'bid', 'bie', 'big', 'bik', 'bil', 'bin', 'bio', 'bir', 'bis', 'bit', 'biz', 'bj', 'bje', 'bl', 'bla', 'ble', 'bli', 'blo', 'blu', 'bly', 'bm', 'bn', 'bno', 'bo', 'bo ', 'boa', 'bob', 'bod', 'bog', 'boi', 'bol', 'bom', 'bon', 'boo', 'bor', 'bos', 'bot', 'bou', 'bow', 'box', 'boy', 'bp', 'bpl', 'br', 'bra', 'bre', 'bri', 'bro', 'bru', 'bs', 'bs ', 'bsc', 'bse', 'bsi', 'bso', 'bst', 'bsu', 'bt', 'bt ', 'bta', 'bte', 'bti', 'btl', 'bu', 'bu ', 'bub', 'buc', 'bud', 'buf', 'bug', 'bui', 'bul', 'bum', 'bun', 'bur', 'bus', 'but', 'buy', 'bv', 'bvi', 'by', 'by ', 'bye', 'byr', 'bys', 'c', 'c ', 'c a', 'c b', 'c c', 'c d', 'c e', 'c f', 'c g', 'c h', 'c i', 'c j', 'c k', 'c l', 'c m', 'c n', 'c o', 'c p', 'c r', 'c s', 'c t', 'c u', 'c v', 'c w', 'c y', 'ca', 'ca ', 'cab', 'cad', 'cag', 'cai', 'cak', 'cal', 'cam', 'can', 'cap', 'car', 'cas', 'cat', 'cau', 'cav', 'cb', 'cc', 'cca', 'cce', 'cci', 'ccl', 'cco', 'ccu', 'cd', 'cdo', 'ce', 'ce ', 'cea', 'cec', 'ced', 'cee', 'cef', 'cei', 'cel', 'cem', 'cen', 'cep', 'cer', 'ces', 'cet', 'cey', 'cg', 'cgi', 'ch', 'ch ', 'cha', 'chc', 'che', 'chi', 'chl', 'chm', 'chn', 'cho', 'chr', 'cht', 'chu', 'chw', 'chy', 'ci', 'ci ', 'cia', 'cid', 'cie', 'cif', 'cig', 'cil', 'cin', 'cio', 'cip', 'cir', 'cis', 'cit', 'civ', 'ciz', 'ck', 'ck ', 'cka', 'ckb', 'ckd', 'cke', 'ckg', 'ckh', 'cki', 'ckl', 'ckm', 'ckn', 'cko', 'cks', 'ckt', 'ckw', 'cky', 'cl', 'cla', 'cle', 'cli', 'clo', 'clu', 'cm', 'cn', 'co', 'co ', 'coa', 'cob', 'coc', 'cod', 'coe', 'cof', 'cog', 'coh', 'coi', 'col', 'com', 'con', 'coo', 'cop', 'cor', 'cos', 'cot', 'cou', 'cov', 'cow', 'cox', 'coy', 'cq', 'cqu', 'cr', 'cra', 'cre', 'cri', 'cro', 'cru', 'cry', 'cs', 'cs ', 'ct', 'ct ', 'cta', 'cte', 'cti', 'ctl', 'cto', 'ctr', 'cts', 'ctu', 'cu', 'cub', 'cue', 'cul', 'cum', 'cun', 'cup', 'cur', 'cus', 'cut', 'cy', 'cy ', 'cyb', 'cyc', 'cyn', 'cz', 'd', 'd ', 'd a', 'd b', 'd c', 'd d', 'd e', 'd f', 'd g', 'd h', 'd i', 'd j', 'd k', 'd l', 'd m', 'd n', 'd o', 'd p', 'd q', 'd r', 'd s', 'd t', 'd u', 'd v', 'd w', 'd y', 'd z', 'da', 'da ', 'dab', 'dac', 'dad', 'dag', 'dah', 'dai', 'dal', 'dam', 'dan', 'dap', 'dar', 'das', 'dat', 'dau', 'dav', 'daw', 'day', 'daz', 'db', 'db ', 'dba', 'dbe', 'dbo', 'dc', 'dca', 'dco', 'dd', 'dd ', 'dda', 'dde', 'ddi', 'ddl', 'ddr', 'dds', 'ddy', 'de', 'de ', 'dea', 'deb', 'dec', 'ded', 'dee', 'def', 'deg', 'dek', 'del', 'dem', 'den', 'deo', 'dep', 'deq', 'der', 'des', 'det', 'dev', 'dew', 'df', 'dfa', 'dfu', 'dg', 'dge', 'dgi', 'dgr', 'dgy', 'dh', 'dhi', 'dho', 'di', 'di ', 'dia', 'dib', 'dic', 'did', 'die', 'dif', 'dig', 'dil', 'dim', 'din', 'dio', 'dip', 'dir', 'dis', 'dit', 'diu', 'div', 'dix', 'dj', 'dl', 'dle', 'dli', 'dly', 'dm', 'dma', 'dmi', 'dmo', 'dn', 'dna', 'dne', 'dni', 'do', 'do ', 'doc', 'dod', 'doe', 'dog', 'dol', 'dom', 'don', 'doo', 'dop', 'dor', 'dos', 'dot', 'dou', 'dow', 'doz', 'dp', 'dpa', 'dr', 'dr ', 'dra', 'dre', 'dri', 'dro', 'dru', 'dry', 'ds', 'ds ', 'dsc', 'dse', 'dsh', 'dso', 'dst', 'dt', 'dtr', 'du', 'dua', 'dub', 'duc', 'dud', 'due', 'duk', 'dul', 'dum', 'dun', 'duo', 'dup', 'dur', 'dus', 'dut', 'dv', 'dva', 'dvd', 'dve', 'dvi', 'dw', 'dwa', 'dwe', 'dwi', 'dy', 'dy ', 'dyi', 'dyn', 'dys', 'dz', 'e', 'e ', 'e a', 'e b', 'e c', 'e d', 'e e', 'e f', 'e g', 'e h', 'e i', 'e j', 'e k', 'e l', 'e m', 'e n', 'e o', 'e p', 'e q', 'e r', 'e s', 'e t', 'e u', 'e v', 'e w', 'e y', 'e z', 'ea', 'ea ', 'eab', 'eac', 'ead', 'eaf', 'eag', 'eah', 'eak', 'eal', 'eam', 'ean', 'eap', 'ear', 'eas', 'eat', 'eau', 'eav', 'eaz', 'eb', 'eb ', 'eba', 'ebb', 'ebe', 'ebo', 'ebr', 'ebs', 'ebu', 'ec', 'ec ', 'eca', 'ecc', 'ece', 'ech', 'eci', 'eck', 'ecl', 'eco', 'ecr', 'ect', 'ecu', 'ecy', 'ed', 'ed ', 'eda', 'edd', 'ede', 'edg', 'edi', 'edl', 'edn', 'edo', 'edr', 'eds', 'edu', 'edw', 'edy', 'ee', 'ee ', 'eeb', 'eec', 'eed', 'eee', 'eef', 'eei', 'eek', 'eel', 'eem', 'een', 'eep', 'eer', 'ees', 'eet', 'eev', 'eez', 'ef', 'ef ', 'efa', 'efe', 'eff', 'efi', 'efl', 'efo', 'efr', 'efs', 'eft', 'efu', 'eg', 'eg ', 'ega', 'ege', 'egg', 'egi', 'egl', 'egm', 'egn', 'ego', 'egr', 'egs', 'egu', 'egy', 'eh', 'eha', 'ehe', 'ehi', 'eho', 'ei', 'ei ', 'eid', 'eig', 'eil', 'eim', 'ein', 'eir', 'eis', 'eit', 'eiv', 'ej', 'eje', 'eju', 'ek', 'ek ', 'eke', 'eki', 'eks', 'el', 'el ', 'ela', 'elb', 'elc', 'eld', 'ele', 'elf', 'elg', 'eli', 'ell', 'elm', 'elo', 'elp', 'els', 'elt', 'elu', 'elv', 'ely', 'em', 'em ', 'ema', 'emb', 'eme', 'emi', 'emm', 'emn', 'emo', 'emp', 'ems', 'emu', 'emy', 'en', 'en ', 'ena', 'enb', 'enc', 'end', 'ene', 'enf', 'eng', 'enh', 'eni', 'enj', 'enl', 'enn', 'eno', 'enp', 'enr', 'ens', 'ent', 'enu', 'env', 'enw', 'eny', 'enz', 'eo', 'eo ', 'eog', 'eol', 'eon', 'eop', 'eor', 'eos', 'eot', 'eou', 'ep', 'ep ', 'epa', 'epe', 'eph', 'epi', 'epl', 'epo', 'epp', 'epr', 'eps', 'ept', 'epu', 'epy', 'eq', 'equ', 'er', 'er ', 'era', 'erb', 'erc', 'erd', 'ere', 'erf', 'erg', 'erh', 'eri', 'erk', 'erl', 'erm', 'ern', 'ero', 'erp', 'err', 'ers', 'ert', 'eru', 'erv', 'erw', 'ery', 'es', 'es ', 'esa', 'esb', 'esc', 'ese', 'esh', 'esi', 'esk', 'esl', 'esm', 'eso', 'esp', 'esq', 'ess', 'est', 'esu', 'esy', 'et', 'et ', 'eta', 'etb', 'etc', 'ete', 'eth', 'eti', 'etl', 'etn', 'eto', 'etr', 'ets', 'ett', 'etu', 'etw', 'ety', 'eu', 'eu ', 'eud', 'eum', 'eun', 'eup', 'eur', 'eus', 'eut', 'ev', 'eva', 'eve', 'evi', 'evo', 'ew', 'ew ', 'ewa', 'ewb', 'ewe', 'ewh', 'ewi', 'ewl', 'ewo', 'ews', 'ex', 'ex ', 'exa', 'exc', 'exe', 'exh', 'exi', 'exo', 'exp', 'ext', 'exu', 'exy', 'ey', 'ey ', 'eye', 'eym', 'eyn', 'eyo', 'eyr', 'eys', 'ez', 'ez ', 'eze', 'f', 'f ', 'f a', 'f b', 'f c', 'f d', 'f e', 'f f', 'f g', 'f h', 'f i', 'f k', 'f l', 'f m', 'f n', 'f o', 'f p', 'f r', 'f s', 'f t', 'f w', 'fa', 'fab', 'fac', 'fad', 'fai', 'fak', 'fal', 'fam', 'fan', 'far', 'fas', 'fat', 'fau', 'fav', 'fay', 'fb', 'fbi', 'fe', 'fe ', 'fea', 'fec', 'fed', 'fee', 'fei', 'fel', 'fem', 'fen', 'fer', 'fes', 'fet', 'fev', 'ff', 'ff ', 'ffa', 'ffe', 'ffi', 'ffl', 'ffm', 'ffo', 'ffr', 'ffs', 'ffy', 'fi', 'fi ', 'fia', 'fic', 'fid', 'fie', 'fif', 'fig', 'fil', 'fin', 'fir', 'fis', 'fit', 'fiv', 'fix', 'fl', 'fla', 'fle', 'fli', 'flo', 'flu', 'fly', 'fm', 'fma', 'fo', 'foc', 'fog', 'fol', 'fon', 'foo', 'for', 'fos', 'fou', 'fox', 'fr', 'fra', 'fre', 'fri', 'fro', 'fru', 'fs', 'fs ', 'ft', 'ft ', 'fte', 'fti', 'fts', 'fty', 'fu', 'fu ', 'fug', 'ful', 'fun', 'fur', 'fus', 'fut', 'fw', 'fwa', 'fx', 'fx ', 'fy', 'fy ', 'fyi', 'g', 'g ', 'g a', 'g b', 'g c', 'g d', 'g e', 'g f', 'g g', 'g h', 'g i', 'g j', 'g k', 'g l', 'g m', 'g n', 'g o', 'g p', 'g q', 'g r', 'g s', 'g t', 'g u', 'g v', 'g w', 'g y', 'g z', 'ga', 'ga ', 'gab', 'gac', 'gad', 'gag', 'gai', 'gal', 'gam', 'gan', 'gap', 'gar', 'gas', 'gat', 'gau', 'gav', 'gay', 'gaz', 'gd', 'gdo', 'ge', 'ge ', 'gea', 'ged', 'gee', 'gei', 'gel', 'gem', 'gen', 'geo', 'ger', 'ges', 'get', 'gf', 'gfu', 'gg', 'gg ', 'gga', 'gge', 'ggi', 'ggl', 'ggr', 'ggy', 'gh', 'gh ', 'gha', 'ghb', 'ghe', 'ghi', 'ghl', 'gho', 'ghs', 'ght', 'gi', 'gi ', 'gia', 'gib', 'gic', 'gid', 'gie', 'gif', 'gig', 'gil', 'gim', 'gin', 'gio', 'gir', 'gis', 'git', 'giv', 'gl', 'gla', 'gle', 'gli', 'glo', 'glu', 'gly', 'gm', 'gm ', 'gma', 'gme', 'gn', 'gn ', 'gna', 'gne', 'gni', 'gno', 'gns', 'go', 'go ', 'goa', 'god', 'goe', 'goi', 'gol', 'gon', 'goo', 'gor', 'gos', 'got', 'gou', 'gov', 'gr', 'gra', 'gre', 'gri', 'gro', 'gru', 'gry', 'gs', 'gs ', 'gst', 'gt', 'gth', 'gto', 'gu', 'gua', 'gue', 'gui', 'gul', 'gum', 'gun', 'gur', 'gus', 'gut', 'guy', 'gw', 'gy', 'gy ', 'gyp', 'h', 'h ', 'h a', 'h b', 'h c', 'h d', 'h e', 'h f', 'h g', 'h h', 'h i', 'h j', 'h k', 'h l', 'h m', 'h n', 'h o', 'h p', 'h q', 'h r', 'h s', 'h t', 'h u', 'h v', 'h w', 'h y', 'ha', 'ha ', 'hab', 'hac', 'had', 'hae', 'hag', 'hah', 'hai', 'hak', 'hal', 'ham', 'han', 'hao', 'hap', 'har', 'has', 'hat', 'hau', 'hav', 'haw', 'hay', 'haz', 'hb', 'hba', 'hbo', 'hc', 'hco', 'hd', 'hda', 'he', 'he ', 'hea', 'hec', 'hed', 'hee', 'hef', 'hei', 'hel', 'hem', 'hen', 'heo', 'hep', 'her', 'hes', 'het', 'hew', 'hey', 'hf', 'hfu', 'hh', 'hhh', 'hi', 'hi ', 'hia', 'hib', 'hic', 'hid', 'hie', 'hif', 'hig', 'hik', 'hil', 'him', 'hin', 'hio', 'hip', 'hir', 'his', 'hit', 'hiv', 'hiz', 'hk', 'hl', 'hle', 'hli', 'hlo', 'hly', 'hm', 'hma', 'hme', 'hmm', 'hn', 'hn ', 'hne', 'hni', 'hnn', 'hno', 'hns', 'ho', 'ho ', 'hob', 'hoc', 'hod', 'hoe', 'hof', 'hog', 'hoi', 'hok', 'hol', 'hom', 'hon', 'hoo', 'hop', 'hor', 'hos', 'hot', 'hou', 'hov', 'how', 'hr', 'hra', 'hre', 'hri', 'hro', 'hru', 'hs', 'hs ', 'hst', 'ht', 'ht ', 'hta', 'hte', 'htf', 'hti', 'htl', 'htm', 'hts', 'hty', 'hu', 'hu ', 'huc', 'hud', 'hug', 'huh', 'hul', 'hum', 'hun', 'hur', 'hus', 'hut', 'hw', 'hwa', 'hwh', 'hy', 'hy ', 'hyd', 'hyp', 'hys', 'i', 'i ', 'i a', 'i b', 'i c', 'i d', 'i e', 'i f', 'i g', 'i h', 'i i', 'i j', 'i k', 'i l', 'i m', 'i n', 'i o', 'i p', 'i r', 'i s', 'i t', 'i v', 'i w', 'ia', 'ia ', 'iab', 'iac', 'iag', 'ial', 'iam', 'ian', 'iar', 'ias', 'iat', 'ib', 'iba', 'ibb', 'ibe', 'ibi', 'ibl', 'ibr', 'ibu', 'ic', 'ic ', 'ica', 'ice', 'ich', 'ici', 'ick', 'icl', 'ico', 'icr', 'ics', 'ict', 'icu', 'icy', 'id', 'id ', 'ida', 'idd', 'ide', 'idg', 'idi', 'idl', 'idm', 'idn', 'ido', 'ids', 'idu', 'idy', 'ie', 'ie ', 'iec', 'ied', 'ief', 'ieg', 'iel', 'ien', 'ier', 'ies', 'iet', 'ieu', 'iev', 'iew', 'if', 'if ', 'ife', 'iff', 'ifi', 'ifl', 'ifo', 'ift', 'ifu', 'ify', 'ig', 'ig ', 'iga', 'ige', 'igg', 'igh', 'igi', 'igm', 'ign', 'igo', 'igr', 'igs', 'igu', 'ih', 'ii', 'ii ', 'iii', 'iik', 'ij', 'ik', 'ik ', 'ika', 'ike', 'iki', 'iko', 'il', 'il ', 'ila', 'ilb', 'ild', 'ile', 'ili', 'ilk', 'ill', 'ilm', 'ilo', 'ils', 'ilt', 'ilu', 'ilv', 'ily', 'im', 'im ', 'ima', 'imb', 'imd', 'ime', 'imi', 'iml', 'imm', 'imo', 'imp', 'ims', 'imu', 'in', 'in ', 'ina', 'inb', 'inc', 'ind', 'ine', 'inf', 'ing', 'inh', 'ini', 'inj', 'ink', 'inl', 'inm', 'inn', 'ino', 'ins', 'int', 'inu', 'inv', 'iny', 'io', 'io ', 'ioc', 'iod', 'iog', 'iol', 'ion', 'ior', 'ios', 'iot', 'iou', 'ip', 'ip ', 'ipa', 'ipe', 'ipi', 'ipl', 'ipo', 'ipp', 'ips', 'ipt', 'ipu', 'iq', 'iqu', 'ir', 'ir ', 'ira', 'irc', 'ird', 'ire', 'irg', 'iri', 'irk', 'irl', 'irm', 'iro', 'irp', 'irr', 'irs', 'irt', 'iru', 'iry', 'is', 'is ', 'isa', 'isb', 'isc', 'isd', 'ise', 'isf', 'isg', 'ish', 'isi', 'isk', 'isl', 'ism', 'isn', 'iso', 'isp', 'isr', 'iss', 'ist', 'isu', 'it', 'it ', 'ita', 'itc', 'ite', 'ith', 'iti', 'itl', 'itm', 'itn', 'ito', 'itr', 'its', 'itt', 'itu', 'ity', 'itz', 'iu', 'ium', 'ius', 'iv', 'iv ', 'iva', 'ive', 'ivi', 'ivo', 'ix', 'ix ', 'ixe', 'ixi', 'ixo', 'ixt', 'iy', 'iya', 'iz', 'iz ', 'iza', 'ize', 'izi', 'izo', 'izz', 'j', 'j ', 'ja', 'ja ', 'jac', 'jai', 'jak', 'jam', 'jan', 'jap', 'jar', 'jas', 'jaw', 'jay', 'jaz', 'je', 'jea', 'jec', 'jef', 'jen', 'jer', 'jes', 'jet', 'jew', 'ji', 'ji ', 'jim', 'jo', 'jo ', 'joa', 'job', 'joe', 'joh', 'joi', 'jok', 'jol', 'jon', 'jor', 'jos', 'jou', 'joy', 'jr', 'jr ', 'ju', 'jua', 'jud', 'jul', 'jum', 'jun', 'jur', 'jus', 'juv', 'k', 'k ', 'k a', 'k b', 'k c', 'k d', 'k e', 'k f', 'k g', 'k h', 'k i', 'k j', 'k k', 'k l', 'k m', 'k n', 'k o', 'k p', 'k q', 'k r', 'k s', 'k t', 'k u', 'k v', 'k w', 'k y', 'ka', 'ka ', 'kab', 'kag', 'kal', 'kan', 'kap', 'kar', 'kas', 'kat', 'kay', 'kaz', 'kb', 'kbu', 'kd', 'kdr', 'ke', 'ke ', 'kea', 'ked', 'kee', 'kei', 'kel', 'kem', 'ken', 'kep', 'ker', 'kes', 'ket', 'keu', 'kev', 'kew', 'key', 'kf', 'kfu', 'kg', 'kgr', 'kh', 'kha', 'ki', 'ki ', 'kic', 'kid', 'kie', 'kil', 'kim', 'kin', 'kip', 'kir', 'kis', 'kit', 'kk', 'kl', 'kla', 'kle', 'kli', 'klu', 'kly', 'km', 'kma', 'kn', 'kne', 'kni', 'kno', 'ko', 'ko ', 'kol', 'kon', 'kor', 'kov', 'kr', 'kra', 'kri', 'kru', 'ks', 'ks ', 'ksh', 'kso', 'kst', 'kt', 'ku', 'kub', 'kud', 'kul', 'kum', 'kun', 'kur', 'kw', 'kwa', 'kwo', 'ky', 'ky ', 'kyl', 'l', 'l ', 'l a', 'l b', 'l c', 'l d', 'l e', 'l f', 'l g', 'l h', 'l i', 'l j', 'l k', 'l l', 'l m', 'l n', 'l o', 'l p', 'l q', 'l r', 'l s', 'l t', 'l u', 'l v', 'l w', 'l y', 'l z', 'la', 'la ', 'lab', 'lac', 'lad', 'lag', 'lah', 'lai', 'lak', 'lal', 'lam', 'lan', 'lap', 'lar', 'las', 'lat', 'lau', 'lav', 'law', 'lax', 'lay', 'laz', 'lb', 'lbe', 'lbo', 'lbu', 'lc', 'lch', 'lci', 'lco', 'ld', 'ld ', 'lda', 'ldb', 'lde', 'ldh', 'ldi', 'ldl', 'ldo', 'ldr', 'lds', 'ldw', 'le', 'le ', 'lea', 'leb', 'lec', 'led', 'lee', 'lef', 'leg', 'lei', 'lel', 'lem', 'len', 'leo', 'lep', 'ler', 'les', 'let', 'lev', 'lew', 'lex', 'ley', 'lf', 'lf ', 'lfi', 'lfr', 'lfw', 'lg', 'lga', 'lge', 'lgi', 'lh', 'lho', 'li', 'li ', 'lia', 'lib', 'lic', 'lid', 'lie', 'lif', 'lig', 'lik', 'lil', 'lim', 'lin', 'lio', 'lip', 'lir', 'lis', 'lit', 'liu', 'liv', 'lix', 'liz', 'lk', 'lk ', 'lke', 'lki', 'lks', 'll', 'll ', 'lla', 'llb', 'lle', 'lli', 'llm', 'lln', 'llo', 'lls', 'llu', 'lly', 'lm', 'lm ', 'lma', 'lme', 'lmi', 'lmm', 'lmo', 'lms', 'ln', 'ln ', 'lne', 'lo', 'lo ', 'loa', 'lob', 'loc', 'lod', 'lof', 'log', 'loi', 'lol', 'lom', 'lon', 'loo', 'lop', 'lor', 'los', 'lot', 'lou', 'lov', 'low', 'loy', 'lp', 'lp ', 'lpe', 'lph', 'lpi', 'lps', 'lr', 'lre', 'lri', 'lro', 'lry', 'ls', 'ls ', 'lse', 'lsh', 'lsi', 'lso', 'lst', 'lt', 'lt ', 'lta', 'lte', 'lth', 'lti', 'lto', 'ltr', 'lts', 'ltu', 'lty', 'lu', 'lua', 'lub', 'luc', 'lud', 'lue', 'luf', 'lug', 'lui', 'luk', 'lul', 'lum', 'lun', 'lur', 'lus', 'lut', 'lv', 'lva', 'lve', 'lvi', 'lw', 'lwa', 'ly', 'ly ', 'lyi', 'lyn', 'lyr', 'lys', 'lyw', 'm', 'm ', 'm a', 'm b', 'm c', 'm d', 'm e', 'm f', 'm g', 'm h', 'm i', 'm j', 'm k', 'm l', 'm m', 'm n', 'm o', 'm p', 'm q', 'm r', 'm s', 'm t', 'm u', 'm v', 'm w', 'm y', 'ma', 'ma ', 'mab', 'mac', 'mad', 'maf', 'mag', 'mah', 'mai', 'maj', 'mak', 'mal', 'mam', 'man', 'mar', 'mas', 'mat', 'mau', 'max', 'may', 'maz', 'mb', 'mb ', 'mba', 'mbe', 'mbi', 'mbl', 'mbo', 'mbr', 'mbs', 'mbu', 'mc', 'mcc', 'mcd', 'mcg', 'md', 'mdb', 'me', 'me ', 'mea', 'meb', 'mec', 'med', 'mee', 'meg', 'meh', 'mei', 'mel', 'mem', 'men', 'meo', 'mer', 'mes', 'met', 'mew', 'mex', 'mey', 'mf', 'mfo', 'mg', 'mgm', 'mh', 'mi', 'mi ', 'mia', 'mic', 'mid', 'mie', 'mig', 'mii', 'mik', 'mil', 'min', 'mir', 'mis', 'mit', 'mix', 'miy', 'miz', 'ml', 'mle', 'mli', 'mly', 'mm', 'mm ', 'mma', 'mme', 'mmi', 'mmm', 'mmo', 'mmu', 'mmy', 'mn', 'mn ', 'mne', 'mni', 'mo', 'mo ', 'mob', 'moc', 'mod', 'mog', 'moi', 'mok', 'mol', 'mom', 'mon', 'moo', 'mor', 'mos', 'mot', 'mou', 'mov', 'mp', 'mp ', 'mpa', 'mpe', 'mph', 'mpi', 'mpl', 'mpo', 'mpr', 'mps', 'mpt', 'mpu', 'mpy', 'mr', 'mr ', 'mrs', 'ms', 'ms ', 'mst', 'msy', 'mt', 'mu', 'muc', 'mud', 'mug', 'mul', 'mum', 'mun', 'mup', 'mur', 'mus', 'mut', 'mw', 'my', 'my ', 'myr', 'mys', 'myt', 'n', 'n ', 'n a', 'n b', 'n c', 'n d', 'n e', 'n f', 'n g', 'n h', 'n i', 'n j', 'n k', 'n l', 'n m', 'n n', 'n o', 'n p', 'n q', 'n r', 'n s', 'n t', 'n u', 'n v', 'n w', 'n y', 'n z', 'na', 'na ', 'nab', 'nac', 'nad', 'nag', 'nah', 'nai', 'nak', 'nal', 'nam', 'nan', 'nap', 'nar', 'nas', 'nat', 'nau', 'nav', 'naw', 'naz', 'nb', 'nba', 'nbe', 'nbo', 'nc', 'nc ', 'nca', 'nce', 'nch', 'nci', 'ncl', 'nco', 'ncr', 'nct', 'ncu', 'ncy', 'nd', 'nd ', 'nda', 'nde', 'ndf', 'ndg', 'ndh', 'ndi', 'ndl', 'ndm', 'ndo', 'ndp', 'ndr', 'nds', 'ndt', 'ndu', 'ndy', 'ne', 'ne ', 'nea', 'nec', 'ned', 'nee', 'nef', 'neg', 'nei', 'nel', 'nem', 'nen', 'neo', 'nep', 'ner', 'nes', 'net', 'neu', 'nev', 'new', 'nex', 'ney', 'nez', 'nf', 'nfa', 'nfe', 'nfi', 'nfl', 'nfo', 'nfr', 'nfu', 'ng', 'ng ', 'nga', 'nge', 'ngf', 'ngh', 'ngi', 'ngl', 'ngo', 'ngr', 'ngs', 'ngt', 'ngu', 'ngw', 'nh', 'nha', 'nhe', 'nhi', 'nho', 'ni', 'ni ', 'nia', 'nib', 'nic', 'nie', 'nif', 'nig', 'nik', 'nil', 'nim', 'nin', 'nio', 'nip', 'niq', 'nir', 'nis', 'nit', 'niu', 'niv', 'niz', 'nj', 'nja', 'njo', 'nju', 'nk', 'nk ', 'nka', 'nke', 'nkf', 'nki', 'nkl', 'nkn', 'nks', 'nky', 'nl', 'nla', 'nle', 'nli', 'nlo', 'nly', 'nm', 'nma', 'nme', 'nn', 'nn ', 'nna', 'nne', 'nni', 'nno', 'nnu', 'nny', 'no', 'no ', 'nob', 'noc', 'nod', 'nog', 'noi', 'nol', 'nom', 'non', 'noo', 'nop', 'nor', 'nos', 'not', 'nou', 'nov', 'now', 'nox', 'noy', 'np', 'npl', 'npr', 'nq', 'nqu', 'nr', 'nra', 'nre', 'nri', 'nro', 'nry', 'ns', 'ns ', 'nsa', 'nsc', 'nse', 'nsf', 'nsh', 'nsi', 'nsk', 'nsl', 'nso', 'nsp', 'nst', 'nsu', 'nsw', 'nt', 'nt ', 'nta', 'nte', 'nth', 'nti', 'ntl', 'ntm', 'nto', 'ntr', 'nts', 'ntu', 'ntw', 'nty', 'nu', 'nua', 'nuc', 'nud', 'nue', 'nuf', 'nui', 'num', 'nun', 'nuo', 'nur', 'nus', 'nut', 'nv', 'nva', 'nve', 'nvi', 'nvo', 'nw', 'nwa', 'nwh', 'nwi', 'nwr', 'nwy', 'nx', 'nxi', 'ny', 'ny ', 'nyb', 'nym', 'nyo', 'nyt', 'nyw', 'nz', 'nza', 'nze', 'nzo', 'o', 'o ', 'o a', 'o b', 'o c', 'o d', 'o e', 'o f', 'o g', 'o h', 'o i', 'o j', 'o k', 'o l', 'o m', 'o n', 'o o', 'o p', 'o q', 'o r', 'o s', 'o t', 'o u', 'o v', 'o w', 'o y', 'oa', 'oac', 'oad', 'oak', 'oal', 'oam', 'oan', 'oap', 'oar', 'oas', 'oat', 'ob', 'ob ', 'oba', 'obb', 'obe', 'obi', 'obj', 'obl', 'obn', 'obo', 'obs', 'obt', 'obv', 'oby', 'oc', 'oc ', 'oca', 'occ', 'oce', 'och', 'oci', 'ock', 'oco', 'ocr', 'oct', 'ocu', 'od', 'od ', 'oda', 'odd', 'ode', 'odf', 'odg', 'odi', 'odl', 'odn', 'odo', 'odr', 'ods', 'odu', 'ody', 'oe', 'oe ', 'oel', 'oen', 'oer', 'oes', 'oet', 'oev', 'oey', 'of', 'of ', 'ofa', 'ofe', 'off', 'ofi', 'ofo', 'oft', 'ofy', 'og', 'og ', 'oga', 'oge', 'ogg', 'ogi', 'ogn', 'ogr', 'ogs', 'ogu', 'ogy', 'oh', 'oh ', 'oha', 'ohe', 'ohn', 'oho', 'oi', 'oia', 'oic', 'oid', 'oig', 'oil', 'oin', 'oir', 'ois', 'oit', 'oj', 'oje', 'ok', 'ok ', 'oka', 'oke', 'oki', 'okl', 'oks', 'oky', 'ol', 'ol ', 'ola', 'olc', 'old', 'ole', 'olf', 'oli', 'olk', 'oll', 'olm', 'oln', 'olo', 'olp', 'ols', 'olt', 'olu', 'olv', 'oly', 'om', 'om ', 'oma', 'omb', 'ome', 'omf', 'omi', 'oml', 'omm', 'omn', 'omo', 'omp', 'oms', 'omy', 'on', 'on ', 'ona', 'onc', 'ond', 'one', 'onf', 'ong', 'oni', 'onk', 'onl', 'onm', 'onn', 'ono', 'onq', 'onr', 'ons', 'ont', 'onu', 'onv', 'ony', 'oo', 'oo ', 'oob', 'ood', 'oof', 'oog', 'ook', 'ool', 'oom', 'oon', 'ooo', 'oop', 'oor', 'oos', 'oot', 'oov', 'ooz', 'op', 'op ', 'opa', 'opc', 'ope', 'oph', 'opi', 'opl', 'opm', 'opo', 'opp', 'opr', 'ops', 'opt', 'opu', 'opy', 'or', 'or ', 'ora', 'orb', 'orc', 'ord', 'ore', 'orf', 'org', 'orh', 'ori', 'ork', 'orl', 'orm', 'orn', 'oro', 'orp', 'orr', 'ors', 'ort', 'oru', 'orw', 'ory', 'os', 'os ', 'osa', 'osc', 'ose', 'osh', 'osi', 'osl', 'osn', 'oso', 'osp', 'oss', 'ost', 'osu', 'ot', 'ot ', 'ota', 'otb', 'otc', 'ote', 'oth', 'oti', 'otl', 'oto', 'ots', 'ott', 'oty', 'ou', 'ou ', 'oub', 'ouc', 'oud', 'oue', 'oug', 'oui', 'oul', 'oun', 'oup', 'our', 'ous', 'out', 'ov', 'ov ', 'ova', 'ove', 'ovi', 'ovo', 'ow', 'ow ', 'owa', 'owb', 'owc', 'owd', 'owe', 'owh', 'owi', 'owl', 'own', 'ows', 'ox', 'ox ', 'oxe', 'oxi', 'oy', 'oy ', 'oya', 'oyd', 'oye', 'oyf', 'oyi', 'oyl', 'oym', 'oys', 'oz', 'oz ', 'oze', 'p', 'p ', 'p a', 'p b', 'p c', 'p d', 'p e', 'p f', 'p g', 'p h', 'p i', 'p j', 'p k', 'p l', 'p m', 'p n', 'p o', 'p p', 'p r', 'p s', 'p t', 'p u', 'p v', 'p w', 'p y', 'pa', 'pa ', 'pab', 'pac', 'pad', 'pag', 'pai', 'pal', 'pam', 'pan', 'pap', 'par', 'pas', 'pat', 'pau', 'paw', 'pay', 'pb', 'pbe', 'pc', 'pco', 'pd', 'pda', 'pe', 'pe ', 'pea', 'pec', 'ped', 'pee', 'pef', 'peg', 'pel', 'pen', 'peo', 'pep', 'per', 'pes', 'pet', 'pf', 'pg', 'pg ', 'ph', 'ph ', 'pha', 'phe', 'phi', 'pho', 'phr', 'phs', 'phy', 'pi', 'pi ', 'pia', 'pic', 'pid', 'pie', 'pig', 'pik', 'pil', 'pin', 'pio', 'pip', 'pir', 'pis', 'pit', 'pk', 'pki', 'pl', 'pla', 'ple', 'pli', 'plo', 'plu', 'ply', 'pm', 'pme', 'pn', 'pno', 'po', 'po ', 'poc', 'poe', 'poi', 'pok', 'pol', 'pon', 'poo', 'pop', 'por', 'pos', 'pot', 'pou', 'pov', 'pow', 'pp', 'ppa', 'ppe', 'ppi', 'ppl', 'ppo', 'ppr', 'ppy', 'pr', 'pra', 'pre', 'pri', 'pro', 'ps', 'ps ', 'pse', 'psi', 'pso', 'pst', 'psy', 'pt', 'pt ', 'pta', 'pte', 'pth', 'pti', 'ptl', 'pto', 'pts', 'ptu', 'pty', 'pu', 'pub', 'pul', 'pum', 'pun', 'pup', 'pur', 'pus', 'put', 'puz', 'pw', 'py', 'py ', 'q', 'q ', 'qu', 'qua', 'que', 'qui', 'quo', 'r', 'r ', 'r a', 'r b', 'r c', 'r d', 'r e', 'r f', 'r g', 'r h', 'r i', 'r j', 'r k', 'r l', 'r m', 'r n', 'r o', 'r p', 'r q', 'r r', 'r s', 'r t', 'r u', 'r v', 'r w', 'r y', 'r z', 'ra', 'ra ', 'rab', 'rac', 'rad', 'rae', 'raf', 'rag', 'rah', 'rai', 'raj', 'rak', 'ral', 'ram', 'ran', 'rao', 'rap', 'raq', 'rar', 'ras', 'rat', 'rau', 'rav', 'raw', 'ray', 'raz', 'rb', 'rb ', 'rba', 'rbe', 'rbi', 'rbl', 'rbo', 'rby', 'rc', 'rc ', 'rca', 'rce', 'rch', 'rci', 'rcl', 'rco', 'rcu', 'rcy', 'rd', 'rd ', 'rda', 'rdb', 'rde', 'rdi', 'rdl', 'rdo', 'rdr', 'rds', 'rdy', 're', 're ', 'rea', 'reb', 'rec', 'red', 'ree', 'ref', 'reg', 'reh', 'rei', 'rej', 'rek', 'rel', 'rem', 'ren', 'reo', 'rep', 'req', 'rer', 'res', 'ret', 'reu', 'rev', 'rew', 'rex', 'rey', 'rf', 'rf ', 'rfa', 'rfe', 'rfi', 'rfl', 'rfo', 'rfu', 'rg', 'rg ', 'rga', 'rge', 'rgh', 'rgi', 'rgo', 'rgr', 'rgu', 'rgy', 'rh', 'rha', 'rhe', 'rho', 'rhy', 'ri', 'ri ', 'ria', 'rib', 'ric', 'rid', 'rie', 'rif', 'rig', 'rik', 'ril', 'rim', 'rin', 'rio', 'rip', 'ris', 'rit', 'riu', 'riv', 'rix', 'riz', 'rj', 'rk', 'rk ', 'rka', 'rke', 'rki', 'rkl', 'rkn', 'rko', 'rks', 'rky', 'rl', 'rl ', 'rla', 'rld', 'rle', 'rlf', 'rli', 'rlo', 'rls', 'rly', 'rm', 'rm ', 'rma', 'rme', 'rmi', 'rml', 'rmo', 'rms', 'rmu', 'rmy', 'rn', 'rn ', 'rna', 'rne', 'rni', 'rnm', 'rno', 'rns', 'rny', 'ro', 'ro ', 'roa', 'rob', 'roc', 'rod', 'roe', 'rof', 'rog', 'roh', 'roi', 'roj', 'rok', 'rol', 'rom', 'ron', 'roo', 'rop', 'ror', 'ros', 'rot', 'rou', 'rov', 'row', 'rox', 'roy', 'roz', 'rp', 'rp ', 'rpa', 'rpe', 'rph', 'rpi', 'rpl', 'rpo', 'rpr', 'rps', 'rq', 'rqu', 'rr', 'rr ', 'rra', 'rre', 'rri', 'rro', 'rru', 'rry', 'rs', 'rs ', 'rsa', 'rsc', 'rse', 'rsh', 'rsi', 'rso', 'rsp', 'rst', 'rsu', 'rt', 'rt ', 'rta', 'rtb', 'rte', 'rtf', 'rth', 'rti', 'rtl', 'rtm', 'rtn', 'rto', 'rtr', 'rts', 'rtu', 'rtw', 'rty', 'ru', 'ru ', 'rub', 'ruc', 'rud', 'rue', 'rug', 'rui', 'rul', 'rum', 'run', 'rup', 'rur', 'rus', 'rut', 'rv', 'rva', 'rve', 'rvi', 'rvo', 'rw', 'rwa', 'rwe', 'rwh', 'rwi', 'rwo', 'ry', 'ry ', 'rya', 'ryb', 'ryd', 'ryi', 'ryl', 'rym', 'ryn', 'ryo', 'rys', 'ryt', 'ryw', 'rz', 'rza', 's', 's ', 's a', 's b', 's c', 's d', 's e', 's f', 's g', 's h', 's i', 's j', 's k', 's l', 's m', 's n', 's o', 's p', 's q', 's r', 's s', 's t', 's u', 's v', 's w', 's y', 's z', 'sa', 'sa ', 'sab', 'sac', 'sad', 'saf', 'sag', 'sai', 'sak', 'sal', 'sam', 'san', 'sap', 'sar', 'sas', 'sat', 'sau', 'sav', 'saw', 'say', 'sb', 'sba', 'sbe', 'sbi', 'sbu', 'sby', 'sc', 'sc ', 'sca', 'sce', 'sch', 'sci', 'scl', 'sco', 'scr', 'scu', 'sd', 'sda', 'se', 'se ', 'sea', 'seb', 'sec', 'sed', 'see', 'sef', 'seg', 'sei', 'sel', 'sem', 'sen', 'sep', 'seq', 'ser', 'ses', 'set', 'seu', 'sev', 'sew', 'sex', 'sey', 'sf', 'sfa', 'sfe', 'sfi', 'sfo', 'sfu', 'sfy', 'sg', 'sg ', 'sgr', 'sgu', 'sh', 'sh ', 'sha', 'shb', 'she', 'shi', 'shl', 'shm', 'shn', 'sho', 'shr', 'shu', 'shw', 'shy', 'si', 'si ', 'sia', 'sib', 'sic', 'sid', 'sie', 'sif', 'sig', 'sil', 'sim', 'sin', 'sio', 'sip', 'sir', 'sis', 'sit', 'siv', 'six', 'siz', 'sj', 'sk', 'sk ', 'ska', 'ske', 'ski', 'sks', 'sku', 'sky', 'sl', 'sla', 'sle', 'sli', 'slo', 'slu', 'sly', 'sm', 'sm ', 'sma', 'sme', 'smi', 'smo', 'sms', 'smu', 'sn', 'sna', 'sne', 'sni', 'sno', 'so', 'so ', 'soa', 'sob', 'soc', 'sod', 'soe', 'sof', 'sol', 'som', 'son', 'soo', 'sop', 'sor', 'sou', 'sov', 'sp', 'sp ', 'spa', 'spe', 'sph', 'spi', 'spl', 'spo', 'spr', 'spu', 'spy', 'sq', 'squ', 'sr', 'sra', 'sre', 'ss', 'ss ', 'ssa', 'sse', 'ssf', 'ssi', 'ssl', 'ssm', 'ssn', 'sso', 'ssu', 'ssy', 'st', 'st ', 'sta', 'ste', 'sth', 'sti', 'stl', 'stm', 'sto', 'str', 'sts', 'stu', 'stw', 'sty', 'su', 'sua', 'sub', 'suc', 'sud', 'sue', 'suf', 'sug', 'sui', 'sul', 'sum', 'sun', 'sup', 'sur', 'sus', 'sut', 'sw', 'swa', 'swe', 'swi', 'swo', 'sy', 'sy ', 'syc', 'syl', 'sym', 'syn', 'sys', 't', 't ', 't a', 't b', 't c', 't d', 't e', 't f', 't g', 't h', 't i', 't j', 't k', 't l', 't m', 't n', 't o', 't p', 't q', 't r', 't s', 't t', 't u', 't v', 't w', 't y', 't z', 'ta', 'ta ', 'tab', 'tac', 'tad', 'taf', 'tag', 'tai', 'tak', 'tal', 'tam', 'tan', 'tap', 'tar', 'tas', 'tat', 'tau', 'tax', 'tay', 'tb', 'tba', 'tbr', 'tc', 'tc ', 'tca', 'tch', 'tco', 'td', 'tdo', 'te', 'te ', 'tea', 'tec', 'ted', 'tee', 'tef', 'teg', 'tei', 'tel', 'tem', 'ten', 'teo', 'tep', 'ter', 'tes', 'teu', 'tev', 'tew', 'tex', 'tf', 'tfi', 'tfo', 'tfu', 'tg', 'th', 'th ', 'tha', 'thd', 'the', 'thf', 'thi', 'thl', 'thm', 'thn', 'tho', 'thr', 'ths', 'tht', 'thu', 'thw', 'thy', 'ti', 'ti ', 'tia', 'tib', 'tic', 'tid', 'tie', 'tif', 'tig', 'til', 'tim', 'tin', 'tio', 'tip', 'tiq', 'tir', 'tis', 'tit', 'tiv', 'tiz', 'tl', 'tla', 'tle', 'tli', 'tly', 'tm', 'tma', 'tme', 'tmo', 'tn', 'tna', 'tne', 'to', 'to ', 'tob', 'toc', 'tod', 'toe', 'tog', 'toi', 'tok', 'tol', 'tom', 'ton', 'too', 'top', 'tor', 'tos', 'tot', 'tou', 'tow', 'toy', 'tp', 'tr', 'tra', 'tre', 'tri', 'tro', 'tru', 'try', 'ts', 'ts ', 'tsc', 'tsi', 'tso', 'tst', 'tsu', 'tsy', 'tt', 'tt ', 'tta', 'tte', 'tth', 'tti', 'ttl', 'tto', 'ttr', 'tts', 'tty', 'tu', 'tua', 'tub', 'tuc', 'tud', 'tue', 'tuf', 'tui', 'tul', 'tum', 'tun', 'tuo', 'tup', 'tur', 'tus', 'tut', 'tv', 'tv ', 'tw', 'twa', 'twe', 'twi', 'two', 'twr', 'ty', 'ty ', 'tyl', 'typ', 'tyr', 'tz', 'tz ', 'u', 'u ', 'u a', 'u b', 'u c', 'u d', 'u f', 'u g', 'u m', 'u p', 'u r', 'u s', 'u t', 'u w', 'ua', 'uab', 'uad', 'uag', 'uai', 'ual', 'uan', 'uar', 'uas', 'uat', 'ub', 'ub ', 'uba', 'ubb', 'ube', 'ubi', 'ubj', 'ubl', 'ubm', 'ubp', 'ubr', 'ubs', 'ubt', 'ubu', 'uc', 'uca', 'ucc', 'uce', 'uch', 'uci', 'uck', 'ucl', 'uct', 'ucy', 'ud', 'ud ', 'uda', 'udd', 'ude', 'udg', 'udi', 'udl', 'udo', 'udr', 'uds', 'udy', 'ue', 'ue ', 'ued', 'uee', 'uel', 'uen', 'uer', 'ues', 'uet', 'uf', 'uff', 'ug', 'ug ', 'uga', 'uge', 'ugg', 'ugh', 'ugl', 'ugo', 'ugs', 'ugu', 'uh', 'uh ', 'ui', 'uic', 'uid', 'uie', 'uil', 'uin', 'uip', 'uir', 'uis', 'uit', 'uk', 'uk ', 'uka', 'uke', 'ukh', 'ul', 'ul ', 'ula', 'ulc', 'uld', 'ule', 'ulf', 'ulg', 'uli', 'ulk', 'ull', 'uln', 'ulo', 'ulp', 'uls', 'ult', 'uly', 'um', 'um ', 'uma', 'umb', 'ume', 'umi', 'umm', 'umo', 'ump', 'ums', 'un', 'un ', 'una', 'unb', 'unc', 'und', 'une', 'unf', 'ung', 'unh', 'uni', 'unk', 'unl', 'unm', 'unn', 'uno', 'unp', 'unr', 'uns', 'unt', 'unu', 'unw', 'uo', 'uo ', 'uot', 'uou', 'up', 'up ', 'upa', 'upd', 'upe', 'upi', 'upl', 'upo', 'upp', 'upr', 'ups', 'upt', 'ur', 'ur ', 'ura', 'urb', 'urc', 'urd', 'ure', 'urf', 'urg', 'uri', 'urk', 'url', 'urm', 'urn', 'uro', 'urp', 'urr', 'urs', 'urt', 'urv', 'ury', 'us', 'us ', 'usa', 'usb', 'usc', 'use', 'ush', 'usi', 'usl', 'usn', 'usp', 'uss', 'ust', 'usu', 'usy', 'ut', 'ut ', 'uta', 'utc', 'utd', 'ute', 'utf', 'uth', 'uti', 'utl', 'uto', 'utr', 'uts', 'utt', 'utu', 'uty', 'uv', 'uve', 'ux', 'ux ', 'uy', 'uy ', 'uyi', 'uys', 'uz', 'uzz', 'v', 'v ', 'v a', 'v b', 'v c', 'v d', 'v e', 'v f', 'v l', 'v m', 'v p', 'v r', 'v s', 'v t', 'v w', 'va', 'va ', 'vab', 'vac', 'vad', 'vag', 'vai', 'val', 'vam', 'van', 'var', 'vas', 'vat', 'vau', 'vd', 'vd ', 've', 've ', 'vea', 'ved', 'veg', 'veh', 'vei', 'vel', 'vem', 'ven', 'ver', 'ves', 'vet', 'vey', 'vh', 'vhs', 'vi', 'via', 'vib', 'vic', 'vid', 'vie', 'vig', 'vil', 'vin', 'vio', 'vir', 'vis', 'vit', 'viv', 'vo', 'vo ', 'voc', 'voi', 'vok', 'vol', 'von', 'vor', 'vot', 'vou', 'voy', 'vs', 'vs ', 'vu', 'vul', 'vy', 'vy ', 'w', 'w ', 'w a', 'w b', 'w c', 'w d', 'w e', 'w f', 'w g', 'w h', 'w i', 'w j', 'w k', 'w l', 'w m', 'w n', 'w o', 'w p', 'w q', 'w r', 'w s', 'w t', 'w u', 'w v', 'w w', 'w y', 'wa', 'wa ', 'wac', 'wad', 'wag', 'wai', 'wak', 'wal', 'wan', 'war', 'was', 'wat', 'wav', 'way', 'wb', 'wba', 'wbo', 'wc', 'wca', 'wd', 'wd ', 'we', 'we ', 'wea', 'web', 'wed', 'wee', 'wei', 'wel', 'wen', 'wer', 'wes', 'wet', 'wev', 'wf', 'wfu', 'wh', 'wha', 'whe', 'whi', 'who', 'wi', 'wic', 'wid', 'wie', 'wif', 'wig', 'wii', 'wil', 'wim', 'win', 'wip', 'wir', 'wis', 'wit', 'wiv', 'wiz', 'wk', 'wkw', 'wl', 'wl ', 'wle', 'wli', 'wly', 'wm', 'wma', 'wn', 'wn ', 'wne', 'wni', 'wnr', 'wns', 'wo', 'wo ', 'wol', 'wom', 'won', 'woo', 'wor', 'wou', 'wow', 'wr', 'wra', 'wre', 'wri', 'wro', 'ws', 'ws ', 'wso', 'wsp', 'wt', 'wu', 'ww', 'ww ', 'wwi', 'www', 'wy', 'wyc', 'wye', 'wyn', 'x', 'x ', 'x a', 'x b', 'x c', 'x d', 'x e', 'x f', 'x g', 'x h', 'x i', 'x k', 'x l', 'x m', 'x n', 'x o', 'x p', 'x r', 'x s', 'x t', 'x v', 'x w', 'xa', 'xac', 'xag', 'xam', 'xan', 'xas', 'xc', 'xce', 'xch', 'xci', 'xcl', 'xcr', 'xcu', 'xe', 'xec', 'xed', 'xer', 'xes', 'xh', 'xhi', 'xi', 'xic', 'xim', 'xin', 'xio', 'xis', 'xit', 'xo', 'xon', 'xp', 'xpa', 'xpe', 'xpl', 'xpo', 'xpr', 'xt', 'xt ', 'xte', 'xti', 'xtr', 'xtu', 'xu', 'xua', 'xx', 'xy', 'xy ', 'y', 'y ', 'y a', 'y b', 'y c', 'y d', 'y e', 'y f', 'y g', 'y h', 'y i', 'y j', 'y k', 'y l', 'y m', 'y n', 'y o', 'y p', 'y q', 'y r', 'y s', 'y t', 'y u', 'y v', 'y w', 'y y', 'y z', 'ya', 'ya ', 'yab', 'yag', 'yal', 'yan', 'yar', 'yb', 'ybe', 'ybo', 'yc', 'ych', 'yck', 'ycl', 'yd', 'yd ', 'yda', 'yde', 'ye', 'ye ', 'yea', 'yed', 'yel', 'yer', 'yes', 'yet', 'yf', 'yfr', 'yfu', 'yg', 'yh', 'yi', 'yin', 'yk', 'yl', 'yl ', 'yla', 'yle', 'yli', 'yll', 'ylo', 'ylv', 'ym', 'yma', 'ymb', 'yme', 'ymo', 'ymp', 'yn', 'yn ', 'yna', 'ync', 'ynd', 'yne', 'yni', 'ynn', 'yno', 'yo', 'yo ', 'yon', 'yor', 'you', 'yp', 'ype', 'ypi', 'ypo', 'ypt', 'yr', 'yra', 'yre', 'yri', 'yro', 'ys', 'ys ', 'ysi', 'ysm', 'yso', 'yst', 'yt', 'yte', 'yth', 'yti', 'yu', 'yw', 'ywa', 'ywh', 'ywo', 'yz', 'z', 'z ', 'z a', 'z b', 'z c', 'z g', 'z l', 'z m', 'z p', 'z s', 'z t', 'za', 'za ', 'zab', 'zan', 'zar', 'zat', 'ze', 'ze ', 'zed', 'zel', 'zen', 'zer', 'zes', 'zh', 'zi', 'zi ', 'zie', 'zil', 'zin', 'zis', 'zl', 'zle', 'zli', 'zo', 'zo ', 'zom', 'zon', 'zoo', 'zor', 'zu', 'zu ', 'zy', 'zy ', 'zz', 'zz ', 'zza', 'zzi', 'zzl', 'zzy', 'zzz']\n"
     ]
    }
   ],
   "source": [
    "features = vectorizer.get_feature_names()\n",
    "print(features)\n",
    "# blank도 여게서는 문자\n",
    "# 알바벳이 1개짜리, 2개짜리 등등 모두 조합을 하는 것"
   ]
  },
  {
   "cell_type": "code",
   "execution_count": 15,
   "id": "decb9fc2-69b5-4570-9a4b-bb1656f4a1b1",
   "metadata": {},
   "outputs": [
    {
     "name": "stdout",
     "output_type": "stream",
     "text": [
      "(25000, 5000)\n"
     ]
    }
   ],
   "source": [
    "print(x.shape)"
   ]
  },
  {
   "cell_type": "code",
   "execution_count": 16,
   "id": "e7bae25a-1b60-4a17-806a-c3bb21882e2c",
   "metadata": {},
   "outputs": [],
   "source": [
    "RANDOM_SEED = 42\n",
    "TEST_SPLIT = 0.2\n",
    "\n",
    "y = np.array(sentiments)\n",
    "x_train, x_eval, y_train, y_eval = \\\n",
    "train_test_split(x,y, test_size = TEST_SPLIT, random_state=RANDOM_SEED)"
   ]
  },
  {
   "cell_type": "code",
   "execution_count": 18,
   "id": "93c24359-f764-48fd-a2d4-0ddc52cd80bd",
   "metadata": {},
   "outputs": [
    {
     "data": {
      "text/plain": [
       "LogisticRegression(class_weight='balanced')"
      ]
     },
     "execution_count": 18,
     "metadata": {},
     "output_type": "execute_result"
    }
   ],
   "source": [
    "lgs = LogisticRegression(class_weight='balanced')\n",
    "lgs.fit(x_train, y_train)"
   ]
  },
  {
   "cell_type": "markdown",
   "id": "5cab6a65-0b06-4668-8b51-1b436a473021",
   "metadata": {},
   "source": [
    "- class_weight='balanced'  \n",
    "a. 타깃의 비율이 고르지 않을 경우 예를 들면, 이중 분류 문제에서 학습데이터의 구성이 특정한 한 쪽의 타깃으로 쏠릴 경우 데이터가 적은 타깃은 충분히 학습하지 못함  \n",
    "b. 이런 언밸런스를 극복하기 위해 데이터가 적은 타깃에 대한 손실함수를 수행할 때, 가중치 벡터 W 에 더 많은 가중치를 부여함  \n",
    "c. 이 때문에 커진 오차를 줄이기 위해 모델은 데이터가 적은 타깃에 대한 학습에 더 치중하게 됨  \n",
    "d. 이 때 사용하는 W 에 곱하는 가중치는 다음과 같음  \n",
    "wj=n_samples / (n_classes * n_samplesj)  \n",
    "wj 각 클래스에 대한 가중치  \n",
    "n_samples 전체 샘플의 수  \n",
    "n_classes 전체 클래스 종류의 수(이진 분류는 2)  \n",
    "n_samplesj 각 클래스의 샘플 수"
   ]
  },
  {
   "cell_type": "code",
   "execution_count": 20,
   "id": "2b89308d-6b94-45d0-8476-47aa65453696",
   "metadata": {},
   "outputs": [],
   "source": [
    "predicted = lgs.predict(x_eval)"
   ]
  },
  {
   "cell_type": "code",
   "execution_count": 21,
   "id": "dd199805-c9f1-4b9e-9f8e-09d2fdf9660b",
   "metadata": {},
   "outputs": [
    {
     "name": "stdout",
     "output_type": "stream",
     "text": [
      "[0 1 0 ... 0 0 0]\n"
     ]
    }
   ],
   "source": [
    "print(predicted)"
   ]
  },
  {
   "cell_type": "code",
   "execution_count": 23,
   "id": "39e40c1a-2f26-4ae6-a75e-9697ba9ca6b0",
   "metadata": {},
   "outputs": [
    {
     "name": "stdout",
     "output_type": "stream",
     "text": [
      "Accuracy: 0.859800\n"
     ]
    }
   ],
   "source": [
    "print('Accuracy: %f' % lgs.score(x_eval, y_eval))"
   ]
  },
  {
   "cell_type": "code",
   "execution_count": 24,
   "id": "12527ed4-4561-494a-8638-82b02937553b",
   "metadata": {},
   "outputs": [],
   "source": [
    "TEST_CLEAN_DATA = 'test_clean.csv'\n",
    "test_data = pd.read_csv(DATA_IN_PATH + TEST_CLEAN_DATA)"
   ]
  },
  {
   "cell_type": "code",
   "execution_count": 25,
   "id": "1be68063-a116-4db9-a3b3-83219a878008",
   "metadata": {},
   "outputs": [
    {
     "name": "stdout",
     "output_type": "stream",
     "text": [
      "                                              review          id\n",
      "0  naturally film main themes mortality nostalgia...  \"12311_10\"\n",
      "1  movie disaster within disaster film full great...    \"8348_2\"\n",
      "2  movie kids saw tonight child loved one point k...    \"5828_4\"\n",
      "3  afraid dark left impression several different ...    \"7186_2\"\n",
      "4  accurate depiction small time mob life filmed ...   \"12128_7\"\n"
     ]
    }
   ],
   "source": [
    "print(test_data.head())"
   ]
  },
  {
   "cell_type": "code",
   "execution_count": 26,
   "id": "eb875da8-9f78-4cbc-8a56-d7c50854db8a",
   "metadata": {},
   "outputs": [],
   "source": [
    "testDataVecs = vectorizer.transform(test_data['review'])"
   ]
  },
  {
   "cell_type": "code",
   "execution_count": 28,
   "id": "a8916d26-75d9-4acb-a34e-e4a5f970634c",
   "metadata": {},
   "outputs": [
    {
     "name": "stdout",
     "output_type": "stream",
     "text": [
      "[1 0 1 ... 0 1 0]\n"
     ]
    }
   ],
   "source": [
    "test_predicted = lgs.predict(testDataVecs)\n",
    "print(test_predicted)"
   ]
  },
  {
   "cell_type": "code",
   "execution_count": 30,
   "id": "30396531-abe1-4e89-a838-fb5704a08ddb",
   "metadata": {},
   "outputs": [],
   "source": [
    "# 캐글이 제출하기위 해 아이디와 정답이 있는 파일을 별도로 만들어서 저장 \n",
    "DATA_OUT_PATH = './data_out/'\n",
    "if not os.path.exists(DATA_OUT_PATH):\n",
    "    os.makedirs(DATA_OUT_PATH)\n",
    "\n",
    "answer_dataset = pd.DataFrame({'id': test_data['id'], 'sentiment': test_predicted})"
   ]
  },
  {
   "cell_type": "code",
   "execution_count": 31,
   "id": "0acf6c01-3ba6-4486-856d-065d718ad469",
   "metadata": {},
   "outputs": [
    {
     "name": "stdout",
     "output_type": "stream",
     "text": [
      "           id  sentiment\n",
      "0  \"12311_10\"          1\n",
      "1    \"8348_2\"          0\n",
      "2    \"5828_4\"          1\n",
      "3    \"7186_2\"          0\n",
      "4   \"12128_7\"          1\n"
     ]
    }
   ],
   "source": [
    "print(answer_dataset.head())"
   ]
  },
  {
   "cell_type": "code",
   "execution_count": 32,
   "id": "3f5d28e0-0100-4b02-b447-f9f7c913c6dc",
   "metadata": {},
   "outputs": [],
   "source": [
    "answer_dataset.to_csv(DATA_OUT_PATH + 'lgs_tfidf_answer.csv', index=False, quoting=3)"
   ]
  },
  {
   "cell_type": "markdown",
   "id": "9dc2e500-ab53-4146-a04a-ab6a9de59aaf",
   "metadata": {},
   "source": [
    "완성된 파일을 Late Submission 에 제출"
   ]
  },
  {
   "cell_type": "code",
   "execution_count": null,
   "id": "2708fbcf-4f69-4939-873e-386ebb8e8a1a",
   "metadata": {},
   "outputs": [],
   "source": []
  }
 ],
 "metadata": {
  "kernelspec": {
   "display_name": "Python 3 (ipykernel)",
   "language": "python",
   "name": "python3"
  },
  "language_info": {
   "codemirror_mode": {
    "name": "ipython",
    "version": 3
   },
   "file_extension": ".py",
   "mimetype": "text/x-python",
   "name": "python",
   "nbconvert_exporter": "python",
   "pygments_lexer": "ipython3",
   "version": "3.7.0"
  }
 },
 "nbformat": 4,
 "nbformat_minor": 5
}
