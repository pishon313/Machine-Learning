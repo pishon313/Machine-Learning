{
 "cells": [
  {
   "cell_type": "code",
   "execution_count": 1,
   "id": "c0073b8c-e16f-4f42-a8c6-4094c015d134",
   "metadata": {},
   "outputs": [],
   "source": [
    "import tensorflow as tf\n",
    "from tensorflow.keras.preprocessing.sequence import pad_sequences\n",
    "from tensorflow.keras.callbacks import EarlyStopping, ModelCheckpoint\n",
    "from tensorflow.keras import layers\n",
    "import numpy as np\n",
    "import pandas as pd\n",
    "import matplotlib.pyplot as plt\n",
    "import os\n",
    "import json"
   ]
  },
  {
   "cell_type": "code",
   "execution_count": 2,
   "id": "d6ffbdb6-e905-4239-87d5-57c38d81f792",
   "metadata": {},
   "outputs": [],
   "source": [
    "def plot_graphs(history, string):\n",
    "    plt.plot(history.history[string])\n",
    "    plt.plot(history.history['val_' + string],'')\n",
    "    plt.xlabel('Epochs')\n",
    "    plt.ylabel(string)\n",
    "    plt.legend([string, 'val_' + string])\n",
    "    plt.show()"
   ]
  },
  {
   "cell_type": "code",
   "execution_count": 3,
   "id": "a292ec97-323d-4f9c-babe-dd8ab256f886",
   "metadata": {},
   "outputs": [],
   "source": [
    "DATA_IN_PATH = './data_in/'\n",
    "DATA_OUT_PATH = './data_out/'\n",
    "TRAIN_INPUT_DATA = 'train_input.npy'\n",
    "TRAIN_LABEL_DATA = 'train_label.npy'\n",
    "DATA_CONFIGS = 'data_configs.json'"
   ]
  },
  {
   "cell_type": "code",
   "execution_count": 4,
   "id": "360c8f38-0a10-444e-91c7-bd1a893e230a",
   "metadata": {},
   "outputs": [],
   "source": [
    "SEED_NUM = 1234\n",
    "tf.random.set_seed(SEED_NUM)"
   ]
  },
  {
   "cell_type": "code",
   "execution_count": 5,
   "id": "9247c32c-6020-4606-a514-31232aecf5dd",
   "metadata": {},
   "outputs": [],
   "source": [
    "# data를 받아옴\n",
    "\n",
    "train_input = np.load(open(DATA_IN_PATH + TRAIN_INPUT_DATA, 'rb'))\n",
    "train_label = np.load(open(DATA_IN_PATH + TRAIN_LABEL_DATA, 'rb'))\n",
    "prepro_configs = json.load(open(DATA_IN_PATH + DATA_CONFIGS, 'r'))"
   ]
  },
  {
   "cell_type": "code",
   "execution_count": 6,
   "id": "0c69fc8e-74c5-47de-b8f1-2ebb67efb81e",
   "metadata": {},
   "outputs": [],
   "source": [
    "model_name = 'cnn_classifier_en'\n",
    "BATCH_SIZE = 512\n",
    "# NUM_EPOCHS = 2\n",
    "NUM_EPOCHS = 10  # 어차피 early stopping 시킬거니까 10번 주자\n",
    "VALID_SPLIT = 0.1\n",
    "MAX_LEN = train_input.shape[1]\n",
    "\n",
    "kargs = {'model_name': model_name,\n",
    "        'vocab_size': prepro_configs['vocab_size'],\n",
    "        'embedding_size': 128,   # 단어 하나당 128 차원\n",
    "        'num_filters': 100,\n",
    "        'dropout_rate': 0.5,\n",
    "        'hidden_dimension': 250,\n",
    "        'output_dimension': 1}\n",
    "\n",
    "# 여기까지 하면 classifier 정리 끝"
   ]
  },
  {
   "cell_type": "code",
   "execution_count": 7,
   "id": "d4f30174-88e9-4f35-9d91-e3373313812c",
   "metadata": {},
   "outputs": [],
   "source": [
    "# 레이어 선언, 레이어 쌓기\n",
    "# 책 p199에선 region sizes가 234지만, 여기선 345로 할 것\n",
    "# 책에선 5차원, 여기선 단어 하나당 128 차원  (?)\n",
    "class CNNClassifier(tf.keras.Model):\n",
    "    def __init__(self, **kargs):\n",
    "        super(CNNClassifier, self).__init__(name=kargs['model_name'])\n",
    "        self.embedding = layers.Embedding(input_dim=kargs['vocab_size'] + 1,\n",
    "                                         output_dim=kargs['embedding_size'] )\n",
    "        # 커널싱즈 3.4.5개로\n",
    "        self.conv_list =[layers.Conv1D(filters=kargs['num_filters'],  #출력개수\n",
    "                                       kernel_size=kernel_size,\n",
    "                                       padding='valid',\n",
    "                                       activation='relu',\n",
    "                                       kernel_constraint=tf.keras.constraints.MaxNorm(max_value=3.))  # 제약을 줌 ->\n",
    "                         # 커널을 생성할때, 가중치값을 3을 못넘게 -> MaxNorm값을 줌 -> 스케일이 이 이상 커짖 ㅣ않게 제약을 준 것\n",
    "                         for kernel_size in [3, 4, 5]]\n",
    "        self.pooling = layers.GlobalMaxPooling1D()\n",
    "        # 지가 알아서 큰 사이즈 전체(?) 입력값으로 받겠다.\n",
    "        self.dropout = layers.Dropout(kargs['dropout_rate'])\n",
    "        self.fc1 = layers.Dense(units=kargs['hidden_dimension'],\n",
    "                                activation='relu',\n",
    "                                kernel_constraint=tf.keras.constraints.MaxNorm(max_value=3.))\n",
    "        self.fc2 = layers.Dense(units=kargs['output_dimension'],\n",
    "                                activation='sigmoid',\n",
    "                                kernel_constraint=tf.keras.constraints.MaxNorm(max_value=3.))\n",
    "        \n",
    "    def call(self, x):   # call 함수 생성.  call만 만들면 됨\n",
    "        x = self.embedding(x)\n",
    "        x = self.dropout(x)\n",
    "        # p199 에서 출력을 각각 maxpooling하고 붙임 그걸 다음과 같은 문법으로 나타냄\n",
    "        x = tf.concat([self.pooling(conv(x)) for conv in self.conv_list], axis=-1)  # inerconfresion 문법?\n",
    "        # conv를 각각 넣어서 list로 만들고 그것을 concat함.  axis = -1방향으로\n",
    "        x = self.fc1(x)\n",
    "        x = self.fc2(x)\n",
    "        \n",
    "        return x"
   ]
  },
  {
   "cell_type": "code",
   "execution_count": 8,
   "id": "4fb3d869-5ffb-48f4-8bba-b7b24bb94b62",
   "metadata": {},
   "outputs": [],
   "source": [
    "model = CNNClassifier(**kargs)\n",
    "model.compile(optimizer=tf.keras.optimizers.Adam(),\n",
    "             loss=tf.keras.losses.BinaryCrossentropy(),\n",
    "             metrics=[tf.keras.metrics.BinaryAccuracy(name='accuracy')])"
   ]
  },
  {
   "cell_type": "code",
   "execution_count": 9,
   "id": "76acf22c-6949-4e7b-91b4-824c3c7b27f4",
   "metadata": {},
   "outputs": [
    {
     "name": "stdout",
     "output_type": "stream",
     "text": [
      "./data_out/cnn_classifier_en -- Folder already exists \n",
      "\n"
     ]
    }
   ],
   "source": [
    "earlystop_callback = EarlyStopping(monitor='val_accuracy', min_delta=0.0001, patience=2)\n",
    "\n",
    "checkpoint_path = DATA_OUT_PATH + model_name + '/weights.h5'\n",
    "checkpoint_dir = os.path.dirname(checkpoint_path)\n",
    "\n",
    "if os.path.exists(checkpoint_dir):\n",
    "    print('{} -- Folder already exists \\n'.format(checkpoint_dir))\n",
    "else:\n",
    "    os.makedirs(checkpoint_dir, exist_ok=True)\n",
    "    print('{} -- Folder create complete \\n'.format(checkpoint_dir))\n",
    "    \n",
    "cp_callback = ModelCheckpoint(checkpoint_path, monitor='val_accuracy', verbose=1,\n",
    "                             save_best_only=True, save_weights_only=True)"
   ]
  },
  {
   "cell_type": "code",
   "execution_count": 10,
   "id": "081838bb-9f0e-4963-96c2-f084f3aa6b69",
   "metadata": {},
   "outputs": [
    {
     "name": "stdout",
     "output_type": "stream",
     "text": [
      "Epoch 1/10\n",
      "44/44 [==============================] - 6s 54ms/step - loss: 0.6709 - accuracy: 0.5960 - val_loss: 0.5596 - val_accuracy: 0.7752\n",
      "\n",
      "Epoch 00001: val_accuracy improved from -inf to 0.77520, saving model to ./data_out/cnn_classifier_en\\weights.h5\n",
      "Epoch 2/10\n",
      "44/44 [==============================] - 2s 42ms/step - loss: 0.3789 - accuracy: 0.8404 - val_loss: 0.3088 - val_accuracy: 0.8768\n",
      "\n",
      "Epoch 00002: val_accuracy improved from 0.77520 to 0.87680, saving model to ./data_out/cnn_classifier_en\\weights.h5\n",
      "Epoch 3/10\n",
      "44/44 [==============================] - 2s 42ms/step - loss: 0.2129 - accuracy: 0.9187 - val_loss: 0.2915 - val_accuracy: 0.8880\n",
      "\n",
      "Epoch 00003: val_accuracy improved from 0.87680 to 0.88800, saving model to ./data_out/cnn_classifier_en\\weights.h5\n",
      "Epoch 4/10\n",
      "44/44 [==============================] - 2s 43ms/step - loss: 0.1280 - accuracy: 0.9543 - val_loss: 0.3290 - val_accuracy: 0.8780\n",
      "\n",
      "Epoch 00004: val_accuracy did not improve from 0.88800\n",
      "Epoch 5/10\n",
      "44/44 [==============================] - 2s 43ms/step - loss: 0.0724 - accuracy: 0.9775 - val_loss: 0.3823 - val_accuracy: 0.8724\n",
      "\n",
      "Epoch 00005: val_accuracy did not improve from 0.88800\n"
     ]
    }
   ],
   "source": [
    "history = model.fit(train_input, train_label, batch_size=BATCH_SIZE, epochs=NUM_EPOCHS, \n",
    "                    validation_split=VALID_SPLIT, callbacks=[earlystop_callback, cp_callback])"
   ]
  },
  {
   "cell_type": "code",
   "execution_count": 11,
   "id": "c35ae88d-a851-48c0-aa03-ee5ac221608e",
   "metadata": {},
   "outputs": [
    {
     "data": {
      "image/png": "[encoded data removed]",
      "text/plain": [
       "<Figure size 432x288 with 1 Axes>"
      ]
     },
     "metadata": {
      "needs_background": "light"
     },
     "output_type": "display_data"
    }
   ],
   "source": [
    "plot_graphs(history, 'accuracy')"
   ]
  },
  {
   "cell_type": "code",
   "execution_count": 12,
   "id": "1c6437b7-6ccc-4369-add9-41453aadabf3",
   "metadata": {},
   "outputs": [
    {
     "data": {
      "image/png": "[encoded data removed]",
      "text/plain": [
       "<Figure size 432x288 with 1 Axes>"
      ]
     },
     "metadata": {
      "needs_background": "light"
     },
     "output_type": "display_data"
    }
   ],
   "source": [
    "plot_graphs(history, 'loss')"
   ]
  },
  {
   "cell_type": "code",
   "execution_count": null,
   "id": "d4a4b0ed-cf7c-4215-a61d-a3311f17386d",
   "metadata": {},
   "outputs": [],
   "source": []
  }
 ],
 "metadata": {
  "kernelspec": {
   "display_name": "Python 3 (ipykernel)",
   "language": "python",
   "name": "python3"
  },
  "language_info": {
   "codemirror_mode": {
    "name": "ipython",
    "version": 3
   },
   "file_extension": ".py",
   "mimetype": "text/x-python",
   "name": "python",
   "nbconvert_exporter": "python",
   "pygments_lexer": "ipython3",
   "version": "3.7.0"
  }
 },
 "nbformat": 4,
 "nbformat_minor": 5
}
