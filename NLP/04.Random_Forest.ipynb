{
 "cells": [
  {
   "cell_type": "code",
   "execution_count": 18,
   "id": "e26cb110-fab3-4f9d-ac30-f5065a0332e0",
   "metadata": {},
   "outputs": [],
   "source": [
    "책 181 p\n"
   ]
  },
  {
   "cell_type": "code",
   "execution_count": null,
   "id": "87d4b7ae-b2c7-473b-b4eb-c271709ce220",
   "metadata": {},
   "outputs": [],
   "source": [
    "import pandas as pd\n",
    "import numpy as np\n",
    "import os \n",
    "from sklearn.feature_extraction.text import CountVectorizer"
   ]
  },
  {
   "cell_type": "code",
   "execution_count": 19,
   "id": "d9e5db8b-450f-4d53-a15e-8de11ebd9eca",
   "metadata": {},
   "outputs": [],
   "source": [
    "DATA_IN_PATH = './data_in/'\n",
    "DATA_OUT_PATH = './data_out/'\n",
    "TRAIN_CLEAN_DATA = 'train_clean.csv'\n",
    "\n",
    "train_data = pd.read_csv(DATA_IN_PATH + TRAIN_CLEAN_DATA)"
   ]
  },
  {
   "cell_type": "code",
   "execution_count": 20,
   "id": "688f19ab-2829-49fb-9fa7-c17330f5d74d",
   "metadata": {},
   "outputs": [],
   "source": [
    "reviews = list(train_data['review'])\n",
    "y = np.array(train_data['sentiment'])"
   ]
  },
  {
   "cell_type": "code",
   "execution_count": 21,
   "id": "b5b9a625-b378-4318-9519-d68330c8c333",
   "metadata": {},
   "outputs": [],
   "source": [
    "vectorizer = CountVectorizer(analyzer='word', max_features=5000)\n",
    "train_data_features = vectorizer.fit_transform(reviews)"
   ]
  },
  {
   "cell_type": "code",
   "execution_count": 22,
   "id": "9a60bc79-f6a0-4ee8-8c11-afab34581107",
   "metadata": {},
   "outputs": [
    {
     "name": "stdout",
     "output_type": "stream",
     "text": [
      "(25000, 5000)\n"
     ]
    }
   ],
   "source": [
    "print(train_data_features.shape)"
   ]
  },
  {
   "cell_type": "code",
   "execution_count": 23,
   "id": "44261df0-6e74-4ece-a51f-3aba2fe52cf9",
   "metadata": {},
   "outputs": [],
   "source": [
    "from sklearn.model_selection import train_test_split\n",
    "\n",
    "RANDOM_SEED = 42\n",
    "TEST_SPLIT = 0.2\n",
    "\n",
    "x_train, x_eval, y_train, y_eval = \\\n",
    "    train_test_split(train_data_features, y, test_size = TEST_SPLIT, random_state=RANDOM_SEED)"
   ]
  },
  {
   "cell_type": "code",
   "execution_count": 24,
   "id": "6592eab0-be19-420a-8250-3e7ad47d6e00",
   "metadata": {},
   "outputs": [
    {
     "data": {
      "text/plain": [
       "RandomForestClassifier()"
      ]
     },
     "execution_count": 24,
     "metadata": {},
     "output_type": "execute_result"
    }
   ],
   "source": [
    "from sklearn.ensemble import RandomForestClassifier\n",
    "\n",
    "forest = RandomForestClassifier(n_estimators=100)\n",
    "# n_estimators=100 : 내부적으로 의사결정을 할 때 의사결정트리를 몇개를 만들지 정할 수 있다.\n",
    "forest.fit(x_train, y_train)"
   ]
  },
  {
   "cell_type": "code",
   "execution_count": 25,
   "id": "bea9c9ee-bec7-4322-89a6-a1db78432116",
   "metadata": {},
   "outputs": [
    {
     "name": "stdout",
     "output_type": "stream",
     "text": [
      "Accuracy: 0.845800\n"
     ]
    }
   ],
   "source": [
    "print('Accuracy: %f' % forest.score(x_eval, y_eval))"
   ]
  },
  {
   "cell_type": "code",
   "execution_count": 17,
   "id": "10605a3c-da6d-4a28-893f-8898f24a225c",
   "metadata": {},
   "outputs": [],
   "source": [
    "# 파일명 정해서 캐글에 올리기 "
   ]
  },
  {
   "cell_type": "code",
   "execution_count": null,
   "id": "55ed3f02-ab76-44b6-86cb-575b5de70def",
   "metadata": {},
   "outputs": [],
   "source": []
  }
 ],
 "metadata": {
  "kernelspec": {
   "display_name": "Python 3 (ipykernel)",
   "language": "python",
   "name": "python3"
  },
  "language_info": {
   "codemirror_mode": {
    "name": "ipython",
    "version": 3
   },
   "file_extension": ".py",
   "mimetype": "text/x-python",
   "name": "python",
   "nbconvert_exporter": "python",
   "pygments_lexer": "ipython3",
   "version": "3.7.0"
  }
 },
 "nbformat": 4,
 "nbformat_minor": 5
}
