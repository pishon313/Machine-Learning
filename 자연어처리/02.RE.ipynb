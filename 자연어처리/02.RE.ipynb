{
 "cells": [
  {
   "cell_type": "markdown",
   "id": "1fb29328-9d6e-46c7-be5f-865d7259d091",
   "metadata": {},
   "source": [
    "Whar is RE ? \n",
    "- 어떤 문자열의 패턴을 쉽게 찾을 수 있게 해준다 \n",
    "    ex) 홈페이지 가입 시 아이디, 비번, 폰번호, 이메일 등 입력 요소를 규칙에 맞게 해주는 것\n",
    "\n",
    "- 자연어처리 97p"
   ]
  },
  {
   "cell_type": "markdown",
   "id": "265670bc-2738-4dca-8425-9c1a51576819",
   "metadata": {},
   "source": [
    "### 대괄호([]) 사이의 문자와 매칭하라는 의미\n",
    "- 대괄호 사이의 문자는 기본적으로 OR 조합\n",
    "- .[abc]. 해당 텍스트에 a 또는 b 또는 c 라는 문자가 있는지 검사\n",
    "- .[Tt]om Tom 또는 tom 을 찾음"
   ]
  },
  {
   "cell_type": "code",
   "execution_count": 1,
   "id": "442501d1-c750-45ea-8431-0ff0e40507b6",
   "metadata": {},
   "outputs": [],
   "source": [
    "import re"
   ]
  },
  {
   "cell_type": "code",
   "execution_count": 2,
   "id": "0c16dd22-41ef-4173-90e9-7ab62230f3d3",
   "metadata": {},
   "outputs": [
    {
     "name": "stdout",
     "output_type": "stream",
     "text": [
      "<re.Match object; span=(0, 3), match='Tom'>\n"
     ]
    }
   ],
   "source": [
    "p = re.compile(r'[Tt]om')\n",
    "# RE 임을 알려주기 위해 [Tt] 앞에 r을 붙인다 \n",
    "result = p.match('Tom is a student')\n",
    "print(result)"
   ]
  },
  {
   "cell_type": "code",
   "execution_count": 6,
   "id": "14e3ca5d-2f0d-4d66-b1c0-e952213f8839",
   "metadata": {},
   "outputs": [
    {
     "name": "stdout",
     "output_type": "stream",
     "text": [
      "None\n"
     ]
    }
   ],
   "source": [
    "result = p.match('My name is Tom')\n",
    "print(result)\n",
    "# 여기서 Tom 을 못찾는 이유는, Tom 앞에 다른 문자들이 있기 때문이다"
   ]
  },
  {
   "cell_type": "code",
   "execution_count": 7,
   "id": "5d49f536-4879-4ac0-8bdc-d1d8d40ccfe6",
   "metadata": {},
   "outputs": [
    {
     "name": "stdout",
     "output_type": "stream",
     "text": [
      "<re.Match object; span=(0, 2), match='k1'>\n"
     ]
    }
   ],
   "source": [
    "result = re.match('[A-Za-z][0-9]', 'k12345')\n",
    "print(result)"
   ]
  },
  {
   "cell_type": "code",
   "execution_count": 9,
   "id": "3492f3c4-34a6-42c3-95ab-cc74356f63f9",
   "metadata": {},
   "outputs": [
    {
     "name": "stdout",
     "output_type": "stream",
     "text": [
      "None\n"
     ]
    }
   ],
   "source": [
    "result = re.match(r'[A-Za-z][0-9]','ka12345')\n",
    "print(result)"
   ]
  },
  {
   "cell_type": "markdown",
   "id": "dba0d606-c109-476e-a4a1-704ac78212f2",
   "metadata": {},
   "source": [
    "## 반복 메타 문자\n",
    "- 휴대폰 번호\n",
    "- 위의 방식으로 휴대전화 번호 매칭 방법\n",
    "    - [0-9]+-[0-9]+[0-9]\n",
    "    - 하지만 여전히 문제, 기존 3-3-4 자리 사용하는 번호도 존재\n",
    "    \n",
    "- {}는 반복 횟수를 지정\n",
    "- {0,} - 0번 이상 출현\n",
    "- {1,} - 1번 이상 출현\n",
    "- {1,3} - 1번에서 3번까지 출현\n",
    "- 위휴대전화 번호를 아래와 같이 변경\n",
    "- [0-9]{3}-[0-9]{3,4}-[0-9]{4}\n",
    "- 01[016789]-[0-9]{3,4}-[0-9]{4}"
   ]
  },
  {
   "cell_type": "code",
   "execution_count": 10,
   "id": "89321585-0ddf-4362-9263-a2f4816f7139",
   "metadata": {},
   "outputs": [
    {
     "name": "stdout",
     "output_type": "stream",
     "text": [
      "<re.Match object; span=(0, 13), match='010-1234-9875'>\n"
     ]
    }
   ],
   "source": [
    "p = re.compile(r'01[016789]-[0-9]{3,4}-[0-9]{4}')\n",
    "result = p.match('010-1234-9875')\n",
    "print(result)"
   ]
  },
  {
   "cell_type": "code",
   "execution_count": 12,
   "id": "e1ff3683-4581-4f32-8fef-09dfa4acb0b3",
   "metadata": {},
   "outputs": [
    {
     "name": "stdout",
     "output_type": "stream",
     "text": [
      "None\n"
     ]
    }
   ],
   "source": [
    "result = p.match('010-1234-9y75')\n",
    "print(result)"
   ]
  },
  {
   "cell_type": "code",
   "execution_count": 13,
   "id": "1502e80c-d79a-4454-ac20-24c44730e847",
   "metadata": {},
   "outputs": [
    {
     "name": "stdout",
     "output_type": "stream",
     "text": [
      "None\n"
     ]
    }
   ],
   "source": [
    "result = p.match('015-1234-9875')\n",
    "print(result)"
   ]
  },
  {
   "cell_type": "markdown",
   "id": "1c07c9a9-480c-4cd2-9927-71243d7a872f",
   "metadata": {},
   "source": [
    "'*' 0번 이상 반복"
   ]
  },
  {
   "cell_type": "code",
   "execution_count": 14,
   "id": "3ac7aa7e-fc07-4408-8355-4dbcf321a36e",
   "metadata": {},
   "outputs": [
    {
     "name": "stdout",
     "output_type": "stream",
     "text": [
      "<re.Match object; span=(0, 7), match='abc3def'>\n"
     ]
    }
   ],
   "source": [
    "p = re.compile(r'abc[0-9]*def')\n",
    "result = p.match('abc3def')\n",
    "print(result)"
   ]
  },
  {
   "cell_type": "code",
   "execution_count": 15,
   "id": "9f3f7e35-8c9f-4e73-be94-496eea593d5f",
   "metadata": {},
   "outputs": [
    {
     "name": "stdout",
     "output_type": "stream",
     "text": [
      "<re.Match object; span=(0, 9), match='abc456def'>\n"
     ]
    }
   ],
   "source": [
    "result = p.match('abc456def')\n",
    "print(result)"
   ]
  },
  {
   "cell_type": "code",
   "execution_count": 16,
   "id": "5eae7622-55df-49f4-a29c-6ba7a0d1df5e",
   "metadata": {},
   "outputs": [
    {
     "name": "stdout",
     "output_type": "stream",
     "text": [
      "<re.Match object; span=(0, 6), match='abcdef'>\n"
     ]
    }
   ],
   "source": [
    "result = p.match('abcdef')\n",
    "print(result)"
   ]
  },
  {
   "cell_type": "code",
   "execution_count": 26,
   "id": "bb89cedc-34da-47d3-8fa9-cbb2fc383dd0",
   "metadata": {},
   "outputs": [
    {
     "name": "stdout",
     "output_type": "stream",
     "text": [
      "<re.Match object; span=(0, 4), match='1abc'>\n"
     ]
    }
   ],
   "source": [
    "# 5만 아니면 된다는 의미\n",
    "p = re.compile(r'[^5]abc')\n",
    "result = p.match('1abc')\n",
    "print(result)"
   ]
  },
  {
   "cell_type": "code",
   "execution_count": 18,
   "id": "28c5f5f3-637e-4c22-9fa3-f6f36bbc2e58",
   "metadata": {},
   "outputs": [
    {
     "name": "stdout",
     "output_type": "stream",
     "text": [
      "None\n"
     ]
    }
   ],
   "source": [
    "result = p.match('abc')\n",
    "print(result)"
   ]
  },
  {
   "cell_type": "code",
   "execution_count": 19,
   "id": "cb478add-8905-4226-8494-9d23c9334ad9",
   "metadata": {},
   "outputs": [
    {
     "name": "stdout",
     "output_type": "stream",
     "text": [
      "None\n"
     ]
    }
   ],
   "source": [
    "resut = p.match('234abc')\n",
    "print(result)"
   ]
  },
  {
   "cell_type": "code",
   "execution_count": 20,
   "id": "ddaa2417-1093-43bd-be73-b359c9ee8406",
   "metadata": {},
   "outputs": [
    {
     "name": "stdout",
     "output_type": "stream",
     "text": [
      "<re.Match object; span=(0, 4), match='tabc'>\n"
     ]
    }
   ],
   "source": [
    "result = p.match('tabc')\n",
    "print(result)"
   ]
  },
  {
   "cell_type": "code",
   "execution_count": 22,
   "id": "cfcd6142-8edc-486e-b8b7-d4e874ee61eb",
   "metadata": {},
   "outputs": [
    {
     "name": "stdout",
     "output_type": "stream",
     "text": [
      "None\n"
     ]
    }
   ],
   "source": [
    "result = p.match('5abc')\n",
    "print(result)"
   ]
  },
  {
   "cell_type": "code",
   "execution_count": 23,
   "id": "cf4652f2-8c83-4b7d-8bdf-ecf9495747c7",
   "metadata": {},
   "outputs": [
    {
     "name": "stdout",
     "output_type": "stream",
     "text": [
      "<re.Match object; span=(0, 6), match='abcdef'>\n"
     ]
    }
   ],
   "source": [
    "p = re.compile(r'abc[0-9]?def')\n",
    "result = p.match('abcdef')\n",
    "print(result)"
   ]
  },
  {
   "cell_type": "code",
   "execution_count": 24,
   "id": "e73c424a-96d6-4e95-a7a5-f4596a040694",
   "metadata": {},
   "outputs": [
    {
     "name": "stdout",
     "output_type": "stream",
     "text": [
      "<re.Match object; span=(0, 7), match='abc4def'>\n"
     ]
    }
   ],
   "source": [
    "p = re.compile(r'abc[0-9]?def')\n",
    "result = p.match('abc4def')\n",
    "print(result)"
   ]
  },
  {
   "cell_type": "code",
   "execution_count": 27,
   "id": "5ab47a49-a499-41c8-8ff9-8574c156990e",
   "metadata": {},
   "outputs": [
    {
     "name": "stdout",
     "output_type": "stream",
     "text": [
      "None\n"
     ]
    }
   ],
   "source": [
    "# 사이에 올 수 있는 것이 0번 또는 1번이기에 2번 연속으로 나오면 매치가 안된다\n",
    "p = re.compile(r'abc[0-9]?def')\n",
    "result = p.match('abc48def')\n",
    "print(result)"
   ]
  },
  {
   "cell_type": "code",
   "execution_count": 28,
   "id": "aedb5103-a22d-48c2-8881-a08522afd86e",
   "metadata": {},
   "outputs": [
    {
     "name": "stdout",
     "output_type": "stream",
     "text": [
      "<re.Match object; span=(0, 6), match='3defr9'>\n"
     ]
    }
   ],
   "source": [
    "# 여기서의 ^  의미는, 반드시 3으로 시작해야 하며, 중간에 알파벳이 나오고, $의 의미는 반드시 9로 끝나야 한다 \n",
    "p = re.compile(r'^3[A-Za-z]+9$')\n",
    "print(p.match('3defr9'))"
   ]
  },
  {
   "cell_type": "code",
   "execution_count": 29,
   "id": "83528154-a906-416c-aed2-a5d934f5873e",
   "metadata": {},
   "outputs": [
    {
     "name": "stdout",
     "output_type": "stream",
     "text": [
      "None\n"
     ]
    }
   ],
   "source": [
    "print(p.match('defr9'))"
   ]
  },
  {
   "cell_type": "code",
   "execution_count": 30,
   "id": "3546a28c-8caf-4ce8-be2a-b10b74692e3f",
   "metadata": {},
   "outputs": [
    {
     "name": "stdout",
     "output_type": "stream",
     "text": [
      "None\n"
     ]
    }
   ],
   "source": [
    "print(p.match('34defr98'))"
   ]
  },
  {
   "cell_type": "code",
   "execution_count": 31,
   "id": "24c98f08-4986-4410-b3c7-2df6ad6a5cac",
   "metadata": {},
   "outputs": [
    {
     "name": "stdout",
     "output_type": "stream",
     "text": [
      "None\n"
     ]
    }
   ],
   "source": [
    "print(p.match('34defr98'))"
   ]
  },
  {
   "cell_type": "code",
   "execution_count": 32,
   "id": "d4a6fe1c-c2d2-4fde-a9d2-27dd6b03cb16",
   "metadata": {},
   "outputs": [
    {
     "name": "stdout",
     "output_type": "stream",
     "text": [
      "<re.Match object; span=(0, 3), match='4p8'>\n"
     ]
    }
   ],
   "source": [
    "p = re.compile(r'[0-9].8$')\n",
    "print(p.match('4p8'))"
   ]
  },
  {
   "cell_type": "code",
   "execution_count": 33,
   "id": "1416d453-1af5-47dc-a69e-ff1bff37e5f1",
   "metadata": {},
   "outputs": [
    {
     "name": "stdout",
     "output_type": "stream",
     "text": [
      "<re.Match object; span=(0, 3), match='448'>\n"
     ]
    }
   ],
   "source": [
    "print(p.match('448'))"
   ]
  },
  {
   "cell_type": "code",
   "execution_count": 34,
   "id": "8d8ec551-da42-4957-878b-994b3599d366",
   "metadata": {},
   "outputs": [
    {
     "name": "stdout",
     "output_type": "stream",
     "text": [
      "None\n"
     ]
    }
   ],
   "source": [
    "print(p.match('48'))"
   ]
  },
  {
   "cell_type": "code",
   "execution_count": 35,
   "id": "d699f65f-6771-4baa-a156-a5950d409ab4",
   "metadata": {},
   "outputs": [
    {
     "name": "stdout",
     "output_type": "stream",
     "text": [
      "<re.Match object; span=(0, 4), match='1abc'>\n"
     ]
    }
   ],
   "source": [
    "p = re.compile(r'\\dabc')\n",
    "print(p.match('1abc'))"
   ]
  },
  {
   "cell_type": "code",
   "execution_count": 36,
   "id": "097808e2-c48e-4b4b-80fb-e6211232de55",
   "metadata": {},
   "outputs": [
    {
     "name": "stdout",
     "output_type": "stream",
     "text": [
      "None\n"
     ]
    }
   ],
   "source": [
    "print(p.match('122abc'))"
   ]
  },
  {
   "cell_type": "code",
   "execution_count": 37,
   "id": "3494484a-d0a4-4b9f-82b4-08f628c232c9",
   "metadata": {},
   "outputs": [
    {
     "name": "stdout",
     "output_type": "stream",
     "text": [
      "None\n"
     ]
    }
   ],
   "source": [
    "print(p.match('qabc'))"
   ]
  },
  {
   "cell_type": "code",
   "execution_count": 38,
   "id": "db13b685-f6fb-4e0e-a542-1b3cdf2f4561",
   "metadata": {},
   "outputs": [
    {
     "name": "stdout",
     "output_type": "stream",
     "text": [
      "<re.Match object; span=(0, 4), match='a123'>\n"
     ]
    }
   ],
   "source": [
    "p = re.compile(r'\\D123')\n",
    "print(p.match('a123'))"
   ]
  },
  {
   "cell_type": "code",
   "execution_count": 39,
   "id": "0aaed77e-3851-40a6-82be-17c254040cb1",
   "metadata": {},
   "outputs": [
    {
     "name": "stdout",
     "output_type": "stream",
     "text": [
      "None\n"
     ]
    }
   ],
   "source": [
    "print(p.match('5123'))"
   ]
  },
  {
   "cell_type": "code",
   "execution_count": 49,
   "id": "7a2dfeec-2fa3-4fa6-8d11-d9497547b066",
   "metadata": {},
   "outputs": [
    {
     "name": "stdout",
     "output_type": "stream",
     "text": [
      "abc 76\n"
     ]
    }
   ],
   "source": [
    "p = re.compile(r'abc\\s[0-9]+')\n",
    "print('abc 76')"
   ]
  },
  {
   "cell_type": "code",
   "execution_count": 42,
   "id": "4b9ed939-8866-4062-8e93-ab243e817c8e",
   "metadata": {},
   "outputs": [
    {
     "name": "stdout",
     "output_type": "stream",
     "text": [
      "None\n"
     ]
    }
   ],
   "source": [
    "print(p.match('abc76'))"
   ]
  },
  {
   "cell_type": "code",
   "execution_count": 43,
   "id": "db9ad4ac-6fde-4705-9d53-2ad0445e3940",
   "metadata": {},
   "outputs": [
    {
     "name": "stdout",
     "output_type": "stream",
     "text": [
      "None\n"
     ]
    }
   ],
   "source": [
    "p =re.compile(r'abc\\S[0-9]+')\n",
    "print(p.match('abc 76'))"
   ]
  },
  {
   "cell_type": "code",
   "execution_count": 44,
   "id": "2ffd2a7d-6aef-4433-8c5f-fa671e3edc1b",
   "metadata": {},
   "outputs": [
    {
     "name": "stdout",
     "output_type": "stream",
     "text": [
      "<re.Match object; span=(0, 6), match='abcp76'>\n"
     ]
    }
   ],
   "source": [
    "print(p.match('abcp76'))"
   ]
  },
  {
   "cell_type": "code",
   "execution_count": 45,
   "id": "c504ceed-2357-4d27-a16e-a4e114f9fd33",
   "metadata": {},
   "outputs": [
    {
     "name": "stdout",
     "output_type": "stream",
     "text": [
      "<re.Match object; span=(0, 6), match='f94848'>\n"
     ]
    }
   ],
   "source": [
    "p = re.compile(r'\\w[0-9]+') # w: 알파벳. 숫자가 올 수 있다는 뜻 \n",
    "print(p.match('f94848'))"
   ]
  },
  {
   "cell_type": "code",
   "execution_count": 46,
   "id": "ef5584f2-ddf1-448c-99e4-8c6b04be352c",
   "metadata": {},
   "outputs": [
    {
     "name": "stdout",
     "output_type": "stream",
     "text": [
      "None\n"
     ]
    }
   ],
   "source": [
    "print(p.match('-f948484'))"
   ]
  },
  {
   "cell_type": "code",
   "execution_count": 47,
   "id": "21440eae-082c-4407-a45a-ac116feb577f",
   "metadata": {},
   "outputs": [
    {
     "name": "stdout",
     "output_type": "stream",
     "text": [
      "<re.Match object; span=(0, 7), match='-948484'>\n"
     ]
    }
   ],
   "source": [
    "p = re.compile(f'\\W[0-9]+')\n",
    "print(p.match('-948484'))"
   ]
  },
  {
   "cell_type": "code",
   "execution_count": 48,
   "id": "4bc7b06e-cc60-456c-b817-12064abf8ff1",
   "metadata": {},
   "outputs": [
    {
     "name": "stdout",
     "output_type": "stream",
     "text": [
      "None\n"
     ]
    }
   ],
   "source": [
    "print(p.match('r948484'))"
   ]
  },
  {
   "cell_type": "markdown",
   "id": "874c2f95-9358-414c-bf87-19960bc64e2e",
   "metadata": {},
   "source": [
    "참고!\\\n",
    "p = re.compile(^[\\w.%+\\-]+@[\\w.\\-]+\\.[A-Za-z]{2,3}$)"
   ]
  },
  {
   "cell_type": "code",
   "execution_count": null,
   "id": "f71cb616-149c-436f-8178-954736c00639",
   "metadata": {},
   "outputs": [],
   "source": []
  }
 ],
 "metadata": {
  "kernelspec": {
   "display_name": "Python 3",
   "language": "python",
   "name": "python3"
  },
  "language_info": {
   "codemirror_mode": {
    "name": "ipython",
    "version": 3
   },
   "file_extension": ".py",
   "mimetype": "text/x-python",
   "name": "python",
   "nbconvert_exporter": "python",
   "pygments_lexer": "ipython3",
   "version": "3.7.0"
  }
 },
 "nbformat": 4,
 "nbformat_minor": 5
}
