{
 "cells": [
  {
   "cell_type": "markdown",
   "id": "e679c1f1-62c4-4e71-a9b1-3e9b668a75b0",
   "metadata": {},
   "source": [
    "# 폐암환자\n",
    "- 예측해야 할 값이 있으며, 예측해야 할 값과 데이터를 학습시키는 방식이므로 '지도 학습 (Supervised Learning)'\n",
    "- 두 개 이상의 범주에서 선택을 묻는 지도학습 방법으미로 (생사를 확인하는 분제이므로 ) '분류' 문제\n",
    "    - 회귀 : 수치를 예상하나는 것\n",
    "    - 분류 : 두 개 이상의 클램스(범주)에서 선택을 하는 것\n",
    "- 분류 대상 클래스가 2개이므로 바이너리 분류 문제"
   ]
  },
  {
   "cell_type": "code",
   "execution_count": 2,
   "id": "bf8d3875-da9b-401c-a8b0-5c177b475746",
   "metadata": {},
   "outputs": [],
   "source": [
    "from tensorflow.keras.models import Sequential\n",
    "from tensorflow.keras.layers import Dense\n",
    "# Sequential 모델은 레이어를 선형으로 연결하여 구성. 레이어 인스턴스를 생성자에게 넘겨줌으로써 Sequential 모델을 구성.\n",
    "# 또한, .add()메소드를 통해서 쉽게 레이어 추가 가능 \n",
    "\n",
    "import numpy as np\n",
    "import tensorflow as tf"
   ]
  },
  {
   "cell_type": "code",
   "execution_count": 3,
   "id": "d20af1e1-1f58-4639-b884-f188629a9c01",
   "metadata": {},
   "outputs": [],
   "source": [
    "np.random.seed(3)\n",
    "# 매번 같은 수가 나오도록 (난수가 예측 가능하도록) 숫자를 고정해준다. \n",
    "tf.random.set_seed(3)\n",
    "# 난수 발생의 초기값 지정"
   ]
  },
  {
   "cell_type": "code",
   "execution_count": 4,
   "id": "c7564307-8be3-4349-a667-d326be196b40",
   "metadata": {},
   "outputs": [],
   "source": [
    "Data_set = np.loadtxt('data/ThoraricSurgery.csv', delimiter = ',')\n",
    "#  delimiter = ',' : 콤마로 구분되있다는 뜻"
   ]
  },
  {
   "cell_type": "code",
   "execution_count": 5,
   "id": "f93ad6dd-2cae-4901-96f2-49bc66071790",
   "metadata": {},
   "outputs": [],
   "source": [
    "# 퓨터 X 와 타겟 Y 설정\n",
    "X = Data_set[:, :17]\n",
    "Y = Data_set[:, 17]"
   ]
  },
  {
   "cell_type": "code",
   "execution_count": 7,
   "id": "3ea6c457-8175-42bf-b27f-e8301274c662",
   "metadata": {},
   "outputs": [
    {
     "name": "stdout",
     "output_type": "stream",
     "text": [
      "[145.     2.     3.64   2.48   2.     0.     0.     0.     1.     1.\n",
      "  11.     0.     0.     0.     1.     0.    70.  ]\n"
     ]
    }
   ],
   "source": [
    "print(X[17])"
   ]
  },
  {
   "cell_type": "code",
   "execution_count": 5,
   "id": "09d6e22c-aac5-4cad-bf7b-1a495c04f7bd",
   "metadata": {},
   "outputs": [
    {
     "name": "stdout",
     "output_type": "stream",
     "text": [
      "[14.    2.    3.98  3.06  2.    0.    0.    0.    1.    1.   14.    0.\n",
      "  0.    0.    1.    0.   80.  ]\n"
     ]
    }
   ],
   "source": [
    "print(X[3])"
   ]
  },
  {
   "cell_type": "code",
   "execution_count": 6,
   "id": "8eef0ed3-fb39-4af7-b767-503ae24f8f16",
   "metadata": {},
   "outputs": [
    {
     "name": "stdout",
     "output_type": "stream",
     "text": [
      "[0. 0. 1. 1. 0. 0. 0. 1. 0. 0. 0. 0. 0. 0. 1. 0. 0. 0. 0. 0. 0. 0. 0. 0.\n",
      " 0. 0. 1. 0. 0. 1. 1. 0. 0. 0. 0. 0. 1. 0. 0. 1. 0. 0. 0. 1. 0. 1. 0. 0.\n",
      " 1. 0. 0. 0. 0. 0. 0. 0. 1. 0. 1. 0. 0. 0. 0. 0. 0. 0. 0. 0. 0. 0. 0. 0.\n",
      " 1. 0. 1. 0. 0. 0. 0. 0. 0. 0. 0. 0. 0. 0. 1. 0. 0. 0. 0. 0. 0. 0. 1. 0.\n",
      " 1. 0. 0. 0. 0. 0. 0. 0. 0. 0. 0. 0. 1. 0. 1. 0. 0. 0. 0. 0. 0. 0. 0. 0.\n",
      " 0. 0. 0. 1. 0. 0. 0. 0. 1. 0. 0. 0. 0. 0. 0. 0. 0. 0. 0. 0. 0. 0. 0. 0.\n",
      " 0. 0. 0. 1. 0. 0. 0. 0. 1. 0. 0. 0. 0. 0. 0. 0. 0. 0. 0. 1. 1. 0. 0. 0.\n",
      " 0. 0. 0. 0. 0. 0. 0. 0. 0. 0. 1. 0. 1. 0. 1. 0. 0. 0. 0. 0. 0. 0. 0. 0.\n",
      " 0. 0. 0. 1. 0. 0. 1. 1. 0. 0. 0. 0. 0. 0. 0. 0. 0. 0. 1. 0. 1. 0. 0. 0.\n",
      " 0. 0. 0. 0. 0. 1. 0. 1. 0. 0. 0. 0. 0. 0. 0. 1. 0. 0. 0. 0. 0. 0. 0. 0.\n",
      " 1. 0. 0. 0. 0. 0. 0. 0. 0. 1. 0. 0. 0. 0. 0. 0. 1. 0. 1. 0. 0. 0. 0. 0.\n",
      " 0. 0. 0. 0. 0. 0. 0. 0. 0. 0. 0. 0. 0. 1. 1. 0. 0. 0. 0. 1. 0. 0. 1. 0.\n",
      " 0. 0. 0. 1. 0. 0. 0. 0. 0. 0. 1. 0. 0. 0. 0. 0. 0. 0. 0. 0. 0. 1. 0. 0.\n",
      " 0. 0. 1. 0. 0. 0. 0. 0. 0. 1. 0. 0. 0. 1. 0. 0. 0. 0. 0. 0. 0. 0. 0. 0.\n",
      " 0. 0. 0. 0. 0. 0. 0. 0. 0. 1. 0. 0. 0. 0. 0. 0. 0. 0. 0. 0. 0. 0. 0. 0.\n",
      " 0. 0. 0. 0. 0. 0. 0. 0. 1. 0. 0. 0. 0. 0. 0. 0. 0. 0. 0. 0. 0. 0. 0. 0.\n",
      " 0. 0. 1. 0. 0. 0. 0. 0. 0. 0. 0. 0. 0. 0. 0. 0. 0. 0. 0. 0. 0. 0. 1. 0.\n",
      " 0. 1. 0. 1. 0. 0. 0. 1. 1. 0. 0. 0. 0. 0. 0. 0. 0. 0. 0. 0. 0. 0. 0. 0.\n",
      " 0. 0. 0. 0. 0. 0. 0. 0. 0. 0. 0. 1. 0. 0. 0. 0. 1. 0. 0. 1. 1. 0. 0. 1.\n",
      " 1. 0. 1. 0. 0. 1. 1. 0. 0. 0. 0. 0. 1. 0.]\n"
     ]
    }
   ],
   "source": [
    "print(Y)"
   ]
  },
  {
   "cell_type": "markdown",
   "id": "08331419-d431-4f2d-874b-0b686c1053ed",
   "metadata": {},
   "source": [
    "## Sequential model\n",
    "\n",
    "- 정확히 하나의 입력 텐서와 하나의 출력 텐서가 있는 일반 레이어 스택에 사용\n",
    "\n",
    "##### 모댈 작성\n",
    "1. 레이어의 목록을 Sequential 생성자에 전달하여 Sequential 모델을\n",
    "    - model = keras.Sequential(\n",
    "            [\n",
    "                layers.Dense(2, activation=\"relu\"),\n",
    "                layers.Dense(3, activation=\"relu\"),\n",
    "                layers.Dense(4),\n",
    "            ]\n",
    "                )\n",
    "                \n",
    "2. add() 메서드를 통해 Sequential 모델을 작성\n",
    "    - model.add(layers.Dense(2, activation=\"relu\"))\n",
    "    \n",
    "3. 레이어 제거\n",
    "    - model.pop()"
   ]
  },
  {
   "cell_type": "markdown",
   "id": "7b493f1a-af2b-46d9-8491-0957cb059842",
   "metadata": {},
   "source": [
    "Fully Connected Network (FCN)\n",
    "- 신경망처럼 밀집되어 있는 완전 연결망을 뜻함\n",
    "- FCN 를 사용할 때, Sqeuntial 에서는 Dense()를 쓴다"
   ]
  },
  {
   "cell_type": "code",
   "execution_count": 11,
   "id": "d4fccccb-1156-497a-bdd4-b3e9dae367ca",
   "metadata": {},
   "outputs": [],
   "source": [
    "model = Sequential()\n",
    "model.add(Dense(30, input_dim=17, activation='relu'))\n",
    "#dense: 밀집되어있다,\n",
    "# 입력 17, 출력을 30개 만들겠다는 듯\n",
    "model.add(Dense(1, activation='sigmoid'))"
   ]
  },
  {
   "cell_type": "code",
   "execution_count": 12,
   "id": "2990937d-d653-4624-acf9-a3b9475c488d",
   "metadata": {},
   "outputs": [
    {
     "name": "stdout",
     "output_type": "stream",
     "text": [
      "Model: \"sequential_2\"\n",
      "_________________________________________________________________\n",
      "Layer (type)                 Output Shape              Param #   \n",
      "=================================================================\n",
      "dense_4 (Dense)              (None, 30)                540       \n",
      "_________________________________________________________________\n",
      "dense_5 (Dense)              (None, 1)                 31        \n",
      "=================================================================\n",
      "Total params: 571\n",
      "Trainable params: 571\n",
      "Non-trainable params: 0\n",
      "_________________________________________________________________\n"
     ]
    }
   ],
   "source": [
    "model.summary()"
   ]
  },
  {
   "cell_type": "code",
   "execution_count": 13,
   "id": "e6ba0faf-57df-4e1b-9a95-14b19d8648fb",
   "metadata": {},
   "outputs": [
    {
     "name": "stdout",
     "output_type": "stream",
     "text": [
      "Train on 470 samples\n",
      "Epoch 1/100\n",
      "470/470 [==============================] - 0s 922us/sample - loss: 0.8509 - accuracy: 0.1489\n",
      "Epoch 2/100\n",
      "470/470 [==============================] - 0s 121us/sample - loss: 0.8019 - accuracy: 0.1915\n",
      "Epoch 3/100\n",
      "470/470 [==============================] - 0s 126us/sample - loss: 0.7083 - accuracy: 0.2830\n",
      "Epoch 4/100\n",
      "470/470 [==============================] - 0s 119us/sample - loss: 0.4940 - accuracy: 0.4936\n",
      "Epoch 5/100\n",
      "470/470 [==============================] - 0s 117us/sample - loss: 0.1489 - accuracy: 0.8511\n",
      "Epoch 6/100\n",
      "470/470 [==============================] - 0s 111us/sample - loss: 0.1489 - accuracy: 0.8511\n",
      "Epoch 7/100\n",
      "470/470 [==============================] - 0s 112us/sample - loss: 0.1489 - accuracy: 0.8511\n",
      "Epoch 8/100\n",
      "470/470 [==============================] - 0s 113us/sample - loss: 0.1489 - accuracy: 0.8511\n",
      "Epoch 9/100\n",
      "470/470 [==============================] - 0s 117us/sample - loss: 0.1489 - accuracy: 0.8511\n",
      "Epoch 10/100\n",
      "470/470 [==============================] - 0s 114us/sample - loss: 0.1489 - accuracy: 0.8511\n",
      "Epoch 11/100\n",
      "470/470 [==============================] - 0s 115us/sample - loss: 0.1489 - accuracy: 0.8511\n",
      "Epoch 12/100\n",
      "470/470 [==============================] - 0s 124us/sample - loss: 0.1489 - accuracy: 0.8511\n",
      "Epoch 13/100\n",
      "470/470 [==============================] - 0s 112us/sample - loss: 0.1489 - accuracy: 0.8511\n",
      "Epoch 14/100\n",
      "470/470 [==============================] - 0s 119us/sample - loss: 0.1489 - accuracy: 0.8511\n",
      "Epoch 15/100\n",
      "470/470 [==============================] - 0s 121us/sample - loss: 0.1489 - accuracy: 0.8511\n",
      "Epoch 16/100\n",
      "470/470 [==============================] - 0s 113us/sample - loss: 0.1489 - accuracy: 0.8511\n",
      "Epoch 17/100\n",
      "470/470 [==============================] - 0s 111us/sample - loss: 0.1489 - accuracy: 0.8511\n",
      "Epoch 18/100\n",
      "470/470 [==============================] - 0s 110us/sample - loss: 0.1489 - accuracy: 0.8511\n",
      "Epoch 19/100\n",
      "470/470 [==============================] - 0s 116us/sample - loss: 0.1489 - accuracy: 0.8511\n",
      "Epoch 20/100\n",
      "470/470 [==============================] - 0s 121us/sample - loss: 0.1489 - accuracy: 0.8511\n",
      "Epoch 21/100\n",
      "470/470 [==============================] - 0s 115us/sample - loss: 0.1489 - accuracy: 0.8511\n",
      "Epoch 22/100\n",
      "470/470 [==============================] - 0s 117us/sample - loss: 0.1489 - accuracy: 0.8511\n",
      "Epoch 23/100\n",
      "470/470 [==============================] - 0s 112us/sample - loss: 0.1489 - accuracy: 0.8511\n",
      "Epoch 24/100\n",
      "470/470 [==============================] - 0s 115us/sample - loss: 0.1489 - accuracy: 0.8511\n",
      "Epoch 25/100\n",
      "470/470 [==============================] - 0s 115us/sample - loss: 0.1489 - accuracy: 0.8511\n",
      "Epoch 26/100\n",
      "470/470 [==============================] - 0s 119us/sample - loss: 0.1489 - accuracy: 0.8511\n",
      "Epoch 27/100\n",
      "470/470 [==============================] - 0s 117us/sample - loss: 0.1489 - accuracy: 0.8511\n",
      "Epoch 28/100\n",
      "470/470 [==============================] - 0s 112us/sample - loss: 0.1489 - accuracy: 0.8511\n",
      "Epoch 29/100\n",
      "470/470 [==============================] - 0s 123us/sample - loss: 0.1489 - accuracy: 0.8511\n",
      "Epoch 30/100\n",
      "470/470 [==============================] - 0s 110us/sample - loss: 0.1489 - accuracy: 0.8511\n",
      "Epoch 31/100\n",
      "470/470 [==============================] - 0s 112us/sample - loss: 0.1489 - accuracy: 0.8511\n",
      "Epoch 32/100\n",
      "470/470 [==============================] - 0s 116us/sample - loss: 0.1489 - accuracy: 0.8511\n",
      "Epoch 33/100\n",
      "470/470 [==============================] - 0s 118us/sample - loss: 0.1489 - accuracy: 0.8511\n",
      "Epoch 34/100\n",
      "470/470 [==============================] - 0s 120us/sample - loss: 0.1489 - accuracy: 0.8511\n",
      "Epoch 35/100\n",
      "470/470 [==============================] - 0s 123us/sample - loss: 0.1489 - accuracy: 0.8511\n",
      "Epoch 36/100\n",
      "470/470 [==============================] - 0s 113us/sample - loss: 0.1489 - accuracy: 0.8511\n",
      "Epoch 37/100\n",
      "470/470 [==============================] - 0s 116us/sample - loss: 0.1489 - accuracy: 0.8511\n",
      "Epoch 38/100\n",
      "470/470 [==============================] - 0s 121us/sample - loss: 0.1489 - accuracy: 0.8511\n",
      "Epoch 39/100\n",
      "470/470 [==============================] - 0s 119us/sample - loss: 0.1489 - accuracy: 0.8511\n",
      "Epoch 40/100\n",
      "470/470 [==============================] - 0s 117us/sample - loss: 0.1489 - accuracy: 0.8511\n",
      "Epoch 41/100\n",
      "470/470 [==============================] - 0s 120us/sample - loss: 0.1489 - accuracy: 0.8511\n",
      "Epoch 42/100\n",
      "470/470 [==============================] - 0s 110us/sample - loss: 0.1489 - accuracy: 0.8511\n",
      "Epoch 43/100\n",
      "470/470 [==============================] - 0s 115us/sample - loss: 0.1489 - accuracy: 0.8511\n",
      "Epoch 44/100\n",
      "470/470 [==============================] - 0s 118us/sample - loss: 0.1489 - accuracy: 0.8511\n",
      "Epoch 45/100\n",
      "470/470 [==============================] - 0s 119us/sample - loss: 0.1489 - accuracy: 0.8511\n",
      "Epoch 46/100\n",
      "470/470 [==============================] - 0s 121us/sample - loss: 0.1489 - accuracy: 0.8511\n",
      "Epoch 47/100\n",
      "470/470 [==============================] - 0s 115us/sample - loss: 0.1489 - accuracy: 0.8511\n",
      "Epoch 48/100\n",
      "470/470 [==============================] - 0s 116us/sample - loss: 0.1489 - accuracy: 0.8511\n",
      "Epoch 49/100\n",
      "470/470 [==============================] - 0s 116us/sample - loss: 0.1489 - accuracy: 0.8511\n",
      "Epoch 50/100\n",
      "470/470 [==============================] - 0s 112us/sample - loss: 0.1489 - accuracy: 0.8511\n",
      "Epoch 51/100\n",
      "470/470 [==============================] - 0s 122us/sample - loss: 0.1489 - accuracy: 0.8511\n",
      "Epoch 52/100\n",
      "470/470 [==============================] - 0s 119us/sample - loss: 0.1489 - accuracy: 0.8511\n",
      "Epoch 53/100\n",
      "470/470 [==============================] - 0s 123us/sample - loss: 0.1489 - accuracy: 0.8511\n",
      "Epoch 54/100\n",
      "470/470 [==============================] - 0s 116us/sample - loss: 0.1489 - accuracy: 0.8511\n",
      "Epoch 55/100\n",
      "470/470 [==============================] - 0s 119us/sample - loss: 0.1489 - accuracy: 0.8511\n",
      "Epoch 56/100\n",
      "470/470 [==============================] - 0s 112us/sample - loss: 0.1489 - accuracy: 0.8511\n",
      "Epoch 57/100\n",
      "470/470 [==============================] - 0s 118us/sample - loss: 0.1489 - accuracy: 0.8511\n",
      "Epoch 58/100\n",
      "470/470 [==============================] - 0s 120us/sample - loss: 0.1489 - accuracy: 0.8511\n",
      "Epoch 59/100\n",
      "470/470 [==============================] - 0s 118us/sample - loss: 0.1489 - accuracy: 0.8511\n",
      "Epoch 60/100\n",
      "470/470 [==============================] - 0s 118us/sample - loss: 0.1489 - accuracy: 0.8511\n",
      "Epoch 61/100\n",
      "470/470 [==============================] - 0s 117us/sample - loss: 0.1489 - accuracy: 0.8511\n",
      "Epoch 62/100\n",
      "470/470 [==============================] - 0s 117us/sample - loss: 0.1489 - accuracy: 0.8511\n",
      "Epoch 63/100\n",
      "470/470 [==============================] - 0s 115us/sample - loss: 0.1489 - accuracy: 0.8511\n",
      "Epoch 64/100\n",
      "470/470 [==============================] - 0s 118us/sample - loss: 0.1489 - accuracy: 0.8511\n",
      "Epoch 65/100\n",
      "470/470 [==============================] - 0s 108us/sample - loss: 0.1489 - accuracy: 0.8511\n",
      "Epoch 66/100\n",
      "470/470 [==============================] - 0s 117us/sample - loss: 0.1489 - accuracy: 0.8511\n",
      "Epoch 67/100\n",
      "470/470 [==============================] - 0s 119us/sample - loss: 0.1489 - accuracy: 0.8511\n",
      "Epoch 68/100\n",
      "470/470 [==============================] - 0s 122us/sample - loss: 0.1489 - accuracy: 0.8511\n",
      "Epoch 69/100\n",
      "470/470 [==============================] - 0s 115us/sample - loss: 0.1489 - accuracy: 0.8511\n",
      "Epoch 70/100\n",
      "470/470 [==============================] - 0s 119us/sample - loss: 0.1489 - accuracy: 0.8511\n",
      "Epoch 71/100\n",
      "470/470 [==============================] - 0s 122us/sample - loss: 0.1489 - accuracy: 0.8511\n",
      "Epoch 72/100\n",
      "470/470 [==============================] - 0s 109us/sample - loss: 0.1489 - accuracy: 0.8511\n",
      "Epoch 73/100\n",
      "470/470 [==============================] - 0s 112us/sample - loss: 0.1489 - accuracy: 0.8511\n",
      "Epoch 74/100\n",
      "470/470 [==============================] - 0s 121us/sample - loss: 0.1489 - accuracy: 0.8511\n",
      "Epoch 75/100\n",
      "470/470 [==============================] - 0s 118us/sample - loss: 0.1489 - accuracy: 0.8511\n",
      "Epoch 76/100\n",
      "470/470 [==============================] - 0s 124us/sample - loss: 0.1489 - accuracy: 0.8511\n",
      "Epoch 77/100\n",
      "470/470 [==============================] - 0s 115us/sample - loss: 0.1489 - accuracy: 0.8511\n",
      "Epoch 78/100\n",
      "470/470 [==============================] - 0s 115us/sample - loss: 0.1489 - accuracy: 0.8511\n",
      "Epoch 79/100\n",
      "470/470 [==============================] - 0s 121us/sample - loss: 0.1489 - accuracy: 0.8511\n",
      "Epoch 80/100\n",
      "470/470 [==============================] - 0s 119us/sample - loss: 0.1489 - accuracy: 0.8511\n",
      "Epoch 81/100\n",
      "470/470 [==============================] - 0s 124us/sample - loss: 0.1489 - accuracy: 0.8511\n",
      "Epoch 82/100\n",
      "470/470 [==============================] - 0s 110us/sample - loss: 0.1489 - accuracy: 0.8511\n",
      "Epoch 83/100\n",
      "470/470 [==============================] - 0s 115us/sample - loss: 0.1489 - accuracy: 0.8511\n",
      "Epoch 84/100\n",
      "470/470 [==============================] - 0s 118us/sample - loss: 0.1489 - accuracy: 0.8511\n",
      "Epoch 85/100\n",
      "470/470 [==============================] - 0s 119us/sample - loss: 0.1489 - accuracy: 0.8511\n",
      "Epoch 86/100\n",
      "470/470 [==============================] - 0s 116us/sample - loss: 0.1489 - accuracy: 0.8511\n",
      "Epoch 87/100\n",
      "470/470 [==============================] - 0s 114us/sample - loss: 0.1489 - accuracy: 0.8511\n",
      "Epoch 88/100\n",
      "470/470 [==============================] - 0s 119us/sample - loss: 0.1489 - accuracy: 0.8511\n",
      "Epoch 89/100\n",
      "470/470 [==============================] - 0s 115us/sample - loss: 0.1489 - accuracy: 0.8511\n",
      "Epoch 90/100\n",
      "470/470 [==============================] - 0s 115us/sample - loss: 0.1489 - accuracy: 0.8511\n",
      "Epoch 91/100\n",
      "470/470 [==============================] - 0s 121us/sample - loss: 0.1489 - accuracy: 0.8511\n",
      "Epoch 92/100\n",
      "470/470 [==============================] - 0s 124us/sample - loss: 0.1489 - accuracy: 0.8511\n",
      "Epoch 93/100\n",
      "470/470 [==============================] - 0s 122us/sample - loss: 0.1489 - accuracy: 0.8511\n",
      "Epoch 94/100\n",
      "470/470 [==============================] - 0s 119us/sample - loss: 0.1489 - accuracy: 0.8511\n",
      "Epoch 95/100\n",
      "470/470 [==============================] - 0s 115us/sample - loss: 0.1489 - accuracy: 0.8511\n",
      "Epoch 96/100\n",
      "470/470 [==============================] - 0s 119us/sample - loss: 0.1489 - accuracy: 0.8511\n",
      "Epoch 97/100\n",
      "470/470 [==============================] - 0s 115us/sample - loss: 0.1489 - accuracy: 0.8511\n",
      "Epoch 98/100\n",
      "470/470 [==============================] - 0s 125us/sample - loss: 0.1489 - accuracy: 0.8511\n",
      "Epoch 99/100\n",
      "470/470 [==============================] - 0s 112us/sample - loss: 0.1489 - accuracy: 0.8511\n",
      "Epoch 100/100\n",
      "470/470 [==============================] - 0s 120us/sample - loss: 0.1489 - accuracy: 0.8511\n"
     ]
    },
    {
     "data": {
      "text/plain": [
       "<tensorflow.python.keras.callbacks.History at 0x7fc8d9cedc90>"
      ]
     },
     "execution_count": 13,
     "metadata": {},
     "output_type": "execute_result"
    }
   ],
   "source": [
    "model.compile(loss='mean_squared_error', optimizer='adam', metrics=['accuracy'])\n",
    "# 정확도를 측정 함수로 삼으라는 뜻\n",
    "model.fit(X, Y, epochs=100, batch_size=10)\n",
    "# 전체 데이터를 100번 돌아라, batch_size 10개면, "
   ]
  },
  {
   "cell_type": "code",
   "execution_count": null,
   "id": "eceb04b0-e993-4f60-8207-eb47ef13bf19",
   "metadata": {},
   "outputs": [],
   "source": []
  }
 ],
 "metadata": {
  "kernelspec": {
   "display_name": "Python 3 (ipykernel)",
   "language": "python",
   "name": "python3"
  },
  "language_info": {
   "codemirror_mode": {
    "name": "ipython",
    "version": 3
   },
   "file_extension": ".py",
   "mimetype": "text/x-python",
   "name": "python",
   "nbconvert_exporter": "python",
   "pygments_lexer": "ipython3",
   "version": "3.7.0"
  }
 },
 "nbformat": 4,
 "nbformat_minor": 5
}
