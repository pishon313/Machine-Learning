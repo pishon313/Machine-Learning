{
 "cells": [
  {
   "cell_type": "code",
   "execution_count": 1,
   "id": "09b72302-26af-4612-a735-1e3fdfbab7e9",
   "metadata": {},
   "outputs": [],
   "source": [
    "import numpy as np\n",
    "import matplotlib.pyplot as plt\n",
    "from tensorflow.keras.models import Sequential\n",
    "from tensorflow.keras.layers import Dense, Activation, Dropout, Flatten\n",
    "from tensorflow.keras.preprocessing.image import ImageDataGenerator\n",
    "from tensorflow.keras import optimizers\n",
    "from tensorflow.keras.applications import VGG16"
   ]
  },
  {
   "cell_type": "code",
   "execution_count": 2,
   "id": "9e09e22e-61a8-4c28-9f8c-0a74b45175ea",
   "metadata": {},
   "outputs": [
    {
     "name": "stdout",
     "output_type": "stream",
     "text": [
      "Found 160 images belonging to 2 classes.\n"
     ]
    }
   ],
   "source": [
    "b_size =5\n",
    "train_datagen = ImageDataGenerator(rescale=1./255, # 픽셀값을 0에서 1로 줄 것이다\n",
    "                                  horizontal_flip=True,\n",
    "                                  width_shift_range=0.1,\n",
    "                                  height_shift_range=0.1,\n",
    "                                  fill_mode='nearest')\n",
    "train_generator = train_datagen.flow_from_directory('train', target_size=(150, 150),\n",
    "                                                 batch_size=b_size,\n",
    "                                                 class_mode='binary') # 이진 분류라는 걸 알려줌 -> 두개로 분류한다 \n",
    "# target 을 스스로 잡는다 "
   ]
  },
  {
   "cell_type": "code",
   "execution_count": 3,
   "id": "a6f2ef85-4b5a-4441-910d-15d74fcecbe7",
   "metadata": {},
   "outputs": [
    {
     "name": "stdout",
     "output_type": "stream",
     "text": [
      "Found 120 images belonging to 2 classes.\n"
     ]
    }
   ],
   "source": [
    "test_datagen = ImageDataGenerator(rescale=1./255)\n",
    "test_generator = test_datagen.flow_from_directory('test', target_size=(150, 150),\n",
    "                                                  batch_size=b_size,\n",
    "                                                  class_mode='binary')"
   ]
  },
  {
   "cell_type": "code",
   "execution_count": 4,
   "id": "deee1a0a-17a7-4fde-b6b4-1c5150b48022",
   "metadata": {},
   "outputs": [
    {
     "name": "stdout",
     "output_type": "stream",
     "text": [
      "Model: \"vgg16\"\n",
      "_________________________________________________________________\n",
      "Layer (type)                 Output Shape              Param #   \n",
      "=================================================================\n",
      "input_1 (InputLayer)         [(None, 150, 150, 3)]     0         \n",
      "_________________________________________________________________\n",
      "block1_conv1 (Conv2D)        (None, 150, 150, 64)      1792      \n",
      "_________________________________________________________________\n",
      "block1_conv2 (Conv2D)        (None, 150, 150, 64)      36928     \n",
      "_________________________________________________________________\n",
      "block1_pool (MaxPooling2D)   (None, 75, 75, 64)        0         \n",
      "_________________________________________________________________\n",
      "block2_conv1 (Conv2D)        (None, 75, 75, 128)       73856     \n",
      "_________________________________________________________________\n",
      "block2_conv2 (Conv2D)        (None, 75, 75, 128)       147584    \n",
      "_________________________________________________________________\n",
      "block2_pool (MaxPooling2D)   (None, 37, 37, 128)       0         \n",
      "_________________________________________________________________\n",
      "block3_conv1 (Conv2D)        (None, 37, 37, 256)       295168    \n",
      "_________________________________________________________________\n",
      "block3_conv2 (Conv2D)        (None, 37, 37, 256)       590080    \n",
      "_________________________________________________________________\n",
      "block3_conv3 (Conv2D)        (None, 37, 37, 256)       590080    \n",
      "_________________________________________________________________\n",
      "block3_pool (MaxPooling2D)   (None, 18, 18, 256)       0         \n",
      "_________________________________________________________________\n",
      "block4_conv1 (Conv2D)        (None, 18, 18, 512)       1180160   \n",
      "_________________________________________________________________\n",
      "block4_conv2 (Conv2D)        (None, 18, 18, 512)       2359808   \n",
      "_________________________________________________________________\n",
      "block4_conv3 (Conv2D)        (None, 18, 18, 512)       2359808   \n",
      "_________________________________________________________________\n",
      "block4_pool (MaxPooling2D)   (None, 9, 9, 512)         0         \n",
      "_________________________________________________________________\n",
      "block5_conv1 (Conv2D)        (None, 9, 9, 512)         2359808   \n",
      "_________________________________________________________________\n",
      "block5_conv2 (Conv2D)        (None, 9, 9, 512)         2359808   \n",
      "_________________________________________________________________\n",
      "block5_conv3 (Conv2D)        (None, 9, 9, 512)         2359808   \n",
      "_________________________________________________________________\n",
      "block5_pool (MaxPooling2D)   (None, 4, 4, 512)         0         \n",
      "=================================================================\n",
      "Total params: 14,714,688\n",
      "Trainable params: 0\n",
      "Non-trainable params: 14,714,688\n",
      "_________________________________________________________________\n"
     ]
    }
   ],
   "source": [
    "transfer_model = VGG16(weights = 'imagenet', include_top=False, input_shape=(150,150,3))\n",
    "transfer_model.trainable = False\n",
    "transfer_model.summary()\n",
    "# 일반적으로 소스의 마지막에 있는 부분이 실제적으로 top 부분에 위치하게 된다. (차례차례 되므로)\n",
    "# 1470만개의 이미지로 학습"
   ]
  },
  {
   "cell_type": "code",
   "execution_count": 5,
   "id": "3f5ea716-05b6-428c-86af-9358256f469d",
   "metadata": {},
   "outputs": [
    {
     "name": "stdout",
     "output_type": "stream",
     "text": [
      "Model: \"sequential\"\n",
      "_________________________________________________________________\n",
      "Layer (type)                 Output Shape              Param #   \n",
      "=================================================================\n",
      "vgg16 (Model)                (None, 4, 4, 512)         14714688  \n",
      "_________________________________________________________________\n",
      "flatten (Flatten)            (None, 8192)              0         \n",
      "_________________________________________________________________\n",
      "dense (Dense)                (None, 64)                524352    \n",
      "_________________________________________________________________\n",
      "dense_1 (Dense)              (None, 2)                 130       \n",
      "=================================================================\n",
      "Total params: 15,239,170\n",
      "Trainable params: 524,482\n",
      "Non-trainable params: 14,714,688\n",
      "_________________________________________________________________\n"
     ]
    }
   ],
   "source": [
    "# 우리의 모델 만들기\n",
    "\n",
    "finetune_model = Sequential()\n",
    "finetune_model.add(transfer_model)\n",
    "finetune_model.add(Flatten())\n",
    "finetune_model.add(Dense(64, activation='relu'))\n",
    "finetune_model.add(Dense(2, activation='softmax'))\n",
    "finetune_model.summary()"
   ]
  },
  {
   "cell_type": "code",
   "execution_count": 7,
   "id": "472e8f5e-3b3a-44a6-b322-e16b5222243b",
   "metadata": {},
   "outputs": [
    {
     "name": "stdout",
     "output_type": "stream",
     "text": [
      "Train for 32 steps, validate for 24 steps\n",
      "Epoch 1/20\n",
      "32/32 [==============================] - 42s 1s/step - loss: 0.6802 - accuracy: 0.5875 - val_loss: 0.4980 - val_accuracy: 0.7500\n",
      "Epoch 2/20\n",
      "32/32 [==============================] - 42s 1s/step - loss: 0.4107 - accuracy: 0.8750 - val_loss: 0.3610 - val_accuracy: 0.9000\n",
      "Epoch 3/20\n",
      "32/32 [==============================] - 42s 1s/step - loss: 0.2934 - accuracy: 0.9312 - val_loss: 0.2846 - val_accuracy: 0.9250\n",
      "Epoch 4/20\n",
      "32/32 [==============================] - 43s 1s/step - loss: 0.2625 - accuracy: 0.9250 - val_loss: 0.2700 - val_accuracy: 0.9000\n",
      "Epoch 5/20\n",
      "32/32 [==============================] - 42s 1s/step - loss: 0.2156 - accuracy: 0.9312 - val_loss: 0.2013 - val_accuracy: 0.9333\n",
      "Epoch 6/20\n",
      "32/32 [==============================] - 44s 1s/step - loss: 0.1754 - accuracy: 0.9500 - val_loss: 0.1917 - val_accuracy: 0.9250\n",
      "Epoch 7/20\n",
      "32/32 [==============================] - 44s 1s/step - loss: 0.1656 - accuracy: 0.9500 - val_loss: 0.1641 - val_accuracy: 0.9667\n",
      "Epoch 8/20\n",
      "32/32 [==============================] - 44s 1s/step - loss: 0.1368 - accuracy: 0.9688 - val_loss: 0.1499 - val_accuracy: 0.9500\n",
      "Epoch 9/20\n",
      "32/32 [==============================] - 44s 1s/step - loss: 0.1406 - accuracy: 0.9625 - val_loss: 0.2396 - val_accuracy: 0.9083\n",
      "Epoch 10/20\n",
      "32/32 [==============================] - 45s 1s/step - loss: 0.1204 - accuracy: 0.9438 - val_loss: 0.1322 - val_accuracy: 0.9500\n",
      "Epoch 11/20\n",
      "32/32 [==============================] - 44s 1s/step - loss: 0.1091 - accuracy: 0.9750 - val_loss: 0.1208 - val_accuracy: 0.9750\n",
      "Epoch 12/20\n",
      "32/32 [==============================] - 44s 1s/step - loss: 0.1058 - accuracy: 0.9750 - val_loss: 0.1300 - val_accuracy: 0.9500\n",
      "Epoch 13/20\n",
      "32/32 [==============================] - 44s 1s/step - loss: 0.0983 - accuracy: 0.9750 - val_loss: 0.1214 - val_accuracy: 0.9583\n",
      "Epoch 14/20\n",
      "32/32 [==============================] - 44s 1s/step - loss: 0.1032 - accuracy: 0.9625 - val_loss: 0.1094 - val_accuracy: 0.9667\n",
      "Epoch 15/20\n",
      "32/32 [==============================] - 44s 1s/step - loss: 0.0966 - accuracy: 0.9688 - val_loss: 0.1716 - val_accuracy: 0.9333\n",
      "Epoch 16/20\n",
      "32/32 [==============================] - 45s 1s/step - loss: 0.0895 - accuracy: 0.9688 - val_loss: 0.0937 - val_accuracy: 0.9750\n",
      "Epoch 17/20\n",
      "32/32 [==============================] - 45s 1s/step - loss: 0.0732 - accuracy: 0.9812 - val_loss: 0.0996 - val_accuracy: 0.9667\n",
      "Epoch 18/20\n",
      "32/32 [==============================] - 44s 1s/step - loss: 0.0753 - accuracy: 0.9812 - val_loss: 0.1298 - val_accuracy: 0.9500\n",
      "Epoch 19/20\n",
      "32/32 [==============================] - 41s 1s/step - loss: 0.0726 - accuracy: 0.9875 - val_loss: 0.1925 - val_accuracy: 0.9333\n",
      "Epoch 20/20\n",
      "32/32 [==============================] - 39s 1s/step - loss: 0.0889 - accuracy: 0.9688 - val_loss: 0.0822 - val_accuracy: 0.9750\n"
     ]
    }
   ],
   "source": [
    "finetune_model.compile(loss='sparse_categorical_crossentropy',\n",
    "             optimizer=optimizers.Adam(learning_rate=0.0002),\n",
    "             metrics=['accuracy'])\n",
    "\n",
    "steps_train = len(train_generator)\n",
    "steps_test = len(test_generator)\n",
    "\n",
    "hist = finetune_model.fit(train_generator, steps_per_epoch=steps_train,\n",
    "                epochs=20, validation_data=test_generator,\n",
    "                validation_steps = steps_test)"
   ]
  },
  {
   "cell_type": "code",
   "execution_count": 8,
   "id": "f6f46348-7e36-4e33-b060-c735b386ad0c",
   "metadata": {},
   "outputs": [
    {
     "data": {
      "image/png": "[encoded data removed]",
      "text/plain": [
       "<Figure size 640x480 with 1 Axes>"
      ]
     },
     "metadata": {},
     "output_type": "display_data"
    }
   ],
   "source": [
    "plt.xlabel('epoch')\n",
    "plt.ylabel('loss/acc')\n",
    "plt.show()"
   ]
  },
  {
   "cell_type": "code",
   "execution_count": null,
   "id": "b9f3c872-c713-4ea0-ab7a-2ea90f7c34a6",
   "metadata": {},
   "outputs": [],
   "source": []
  }
 ],
 "metadata": {
  "kernelspec": {
   "display_name": "Python 3",
   "language": "python",
   "name": "python3"
  },
  "language_info": {
   "codemirror_mode": {
    "name": "ipython",
    "version": 3
   },
   "file_extension": ".py",
   "mimetype": "text/x-python",
   "name": "python",
   "nbconvert_exporter": "python",
   "pygments_lexer": "ipython3",
   "version": "3.7.0"
  }
 },
 "nbformat": 4,
 "nbformat_minor": 5
}
