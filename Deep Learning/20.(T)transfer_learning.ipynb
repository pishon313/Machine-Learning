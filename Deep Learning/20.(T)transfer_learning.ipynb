{
 "cells": [
  {
   "cell_type": "code",
   "execution_count": 1,
   "id": "cf85b74b-42fc-491f-9c92-e707ead1d579",
   "metadata": {},
   "outputs": [],
   "source": [
    "import numpy as np\n",
    "import matplotlib.pyplot as plt\n",
    "from tensorflow.keras.models import Sequential\n",
    "from tensorflow.keras.layers import Dense, Flatten\n",
    "from tensorflow.keras.preprocessing.image import ImageDataGenerator\n",
    "from tensorflow.keras import optimizers\n",
    "from tensorflow.keras.applications import VGG16"
   ]
  },
  {
   "cell_type": "code",
   "execution_count": 2,
   "id": "08bfd91c-99b3-4162-bbe5-4032ec08ff36",
   "metadata": {},
   "outputs": [
    {
     "name": "stdout",
     "output_type": "stream",
     "text": [
      "Found 160 images belonging to 2 classes.\n"
     ]
    }
   ],
   "source": [
    "b_size = 5\n",
    "\n",
    "train_datagen = ImageDataGenerator(rescale=1./255,\n",
    "                                    horizontal_flip=True,\n",
    "                                  width_shift_range=0.1,\n",
    "                                  height_shift_range=0.1,\n",
    "                                  fill_mode='nearest')\n",
    "\n",
    "train_generator = train_datagen.flow_from_directory('train', target_size=(150, 150),\n",
    "                                                  batch_size=b_size,\n",
    "                                                  class_mode='binary')"
   ]
  },
  {
   "cell_type": "code",
   "execution_count": 3,
   "id": "4af2faf8-2f84-490c-b404-4bd998675613",
   "metadata": {},
   "outputs": [
    {
     "name": "stdout",
     "output_type": "stream",
     "text": [
      "Found 120 images belonging to 2 classes.\n"
     ]
    }
   ],
   "source": [
    "test_datagen = ImageDataGenerator(rescale=1./255)\n",
    "test_generator = test_datagen.flow_from_directory('test', target_size=(150, 150),\n",
    "                                                  batch_size=b_size,\n",
    "                                                  class_mode='binary')"
   ]
  },
  {
   "cell_type": "code",
   "execution_count": 4,
   "id": "3d69f39b-4d77-4e74-8602-c4bb07544aad",
   "metadata": {},
   "outputs": [
    {
     "name": "stdout",
     "output_type": "stream",
     "text": [
      "Model: \"vgg16\"\n",
      "_________________________________________________________________\n",
      "Layer (type)                 Output Shape              Param #   \n",
      "=================================================================\n",
      "input_1 (InputLayer)         [(None, 150, 150, 3)]     0         \n",
      "_________________________________________________________________\n",
      "block1_conv1 (Conv2D)        (None, 150, 150, 64)      1792      \n",
      "_________________________________________________________________\n",
      "block1_conv2 (Conv2D)        (None, 150, 150, 64)      36928     \n",
      "_________________________________________________________________\n",
      "block1_pool (MaxPooling2D)   (None, 75, 75, 64)        0         \n",
      "_________________________________________________________________\n",
      "block2_conv1 (Conv2D)        (None, 75, 75, 128)       73856     \n",
      "_________________________________________________________________\n",
      "block2_conv2 (Conv2D)        (None, 75, 75, 128)       147584    \n",
      "_________________________________________________________________\n",
      "block2_pool (MaxPooling2D)   (None, 37, 37, 128)       0         \n",
      "_________________________________________________________________\n",
      "block3_conv1 (Conv2D)        (None, 37, 37, 256)       295168    \n",
      "_________________________________________________________________\n",
      "block3_conv2 (Conv2D)        (None, 37, 37, 256)       590080    \n",
      "_________________________________________________________________\n",
      "block3_conv3 (Conv2D)        (None, 37, 37, 256)       590080    \n",
      "_________________________________________________________________\n",
      "block3_pool (MaxPooling2D)   (None, 18, 18, 256)       0         \n",
      "_________________________________________________________________\n",
      "block4_conv1 (Conv2D)        (None, 18, 18, 512)       1180160   \n",
      "_________________________________________________________________\n",
      "block4_conv2 (Conv2D)        (None, 18, 18, 512)       2359808   \n",
      "_________________________________________________________________\n",
      "block4_conv3 (Conv2D)        (None, 18, 18, 512)       2359808   \n",
      "_________________________________________________________________\n",
      "block4_pool (MaxPooling2D)   (None, 9, 9, 512)         0         \n",
      "_________________________________________________________________\n",
      "block5_conv1 (Conv2D)        (None, 9, 9, 512)         2359808   \n",
      "_________________________________________________________________\n",
      "block5_conv2 (Conv2D)        (None, 9, 9, 512)         2359808   \n",
      "_________________________________________________________________\n",
      "block5_conv3 (Conv2D)        (None, 9, 9, 512)         2359808   \n",
      "_________________________________________________________________\n",
      "block5_pool (MaxPooling2D)   (None, 4, 4, 512)         0         \n",
      "=================================================================\n",
      "Total params: 14,714,688\n",
      "Trainable params: 0\n",
      "Non-trainable params: 14,714,688\n",
      "_________________________________________________________________\n"
     ]
    }
   ],
   "source": [
    "transfer_model = VGG16(weights='imagenet', include_top=False, input_shape=(150, 150, 3))\n",
    "transfer_model.trainable = False\n",
    "transfer_model.summary()"
   ]
  },
  {
   "cell_type": "code",
   "execution_count": 5,
   "id": "72045265-6454-4bda-9003-6e4cc1a6d1ee",
   "metadata": {},
   "outputs": [
    {
     "name": "stdout",
     "output_type": "stream",
     "text": [
      "Model: \"sequential\"\n",
      "_________________________________________________________________\n",
      "Layer (type)                 Output Shape              Param #   \n",
      "=================================================================\n",
      "vgg16 (Model)                (None, 4, 4, 512)         14714688  \n",
      "_________________________________________________________________\n",
      "flatten (Flatten)            (None, 8192)              0         \n",
      "_________________________________________________________________\n",
      "dense (Dense)                (None, 64)                524352    \n",
      "_________________________________________________________________\n",
      "dense_1 (Dense)              (None, 2)                 130       \n",
      "=================================================================\n",
      "Total params: 15,239,170\n",
      "Trainable params: 524,482\n",
      "Non-trainable params: 14,714,688\n",
      "_________________________________________________________________\n"
     ]
    }
   ],
   "source": [
    "finetune_model = Sequential()\n",
    "finetune_model.add(transfer_model)\n",
    "finetune_model.add(Flatten())\n",
    "finetune_model.add(Dense(64, activation='relu'))\n",
    "finetune_model.add(Dense(2, activation='softmax'))\n",
    "finetune_model.summary()"
   ]
  },
  {
   "cell_type": "code",
   "execution_count": 6,
   "id": "3ebe7727-fc1f-4ff1-843c-ee365b0c4acf",
   "metadata": {},
   "outputs": [
    {
     "name": "stdout",
     "output_type": "stream",
     "text": [
      "Train for 32 steps, validate for 24 steps\n",
      "Epoch 1/20\n",
      "32/32 [==============================] - 40s 1s/step - loss: 0.6697 - accuracy: 0.6062 - val_loss: 0.5085 - val_accuracy: 0.8583\n",
      "Epoch 2/20\n",
      "32/32 [==============================] - 38s 1s/step - loss: 0.4526 - accuracy: 0.8687 - val_loss: 0.4023 - val_accuracy: 0.8667\n",
      "Epoch 3/20\n",
      "32/32 [==============================] - 41s 1s/step - loss: 0.3476 - accuracy: 0.9125 - val_loss: 0.3200 - val_accuracy: 0.9000\n",
      "Epoch 4/20\n",
      "32/32 [==============================] - 41s 1s/step - loss: 0.2842 - accuracy: 0.9062 - val_loss: 0.2731 - val_accuracy: 0.9167\n",
      "Epoch 5/20\n",
      "32/32 [==============================] - 42s 1s/step - loss: 0.2570 - accuracy: 0.9187 - val_loss: 0.2817 - val_accuracy: 0.8750\n",
      "Epoch 6/20\n",
      "32/32 [==============================] - 43s 1s/step - loss: 0.2027 - accuracy: 0.9312 - val_loss: 0.2109 - val_accuracy: 0.9167\n",
      "Epoch 7/20\n",
      "32/32 [==============================] - 42s 1s/step - loss: 0.1673 - accuracy: 0.9563 - val_loss: 0.2034 - val_accuracy: 0.9250\n",
      "Epoch 8/20\n",
      "32/32 [==============================] - 44s 1s/step - loss: 0.1475 - accuracy: 0.9625 - val_loss: 0.2552 - val_accuracy: 0.9083\n",
      "Epoch 9/20\n",
      "32/32 [==============================] - 44s 1s/step - loss: 0.1505 - accuracy: 0.9500 - val_loss: 0.1604 - val_accuracy: 0.9667\n",
      "Epoch 10/20\n",
      "32/32 [==============================] - 44s 1s/step - loss: 0.1265 - accuracy: 0.9688 - val_loss: 0.1451 - val_accuracy: 0.9750\n",
      "Epoch 11/20\n",
      "32/32 [==============================] - 44s 1s/step - loss: 0.1420 - accuracy: 0.9625 - val_loss: 0.1397 - val_accuracy: 0.9583\n",
      "Epoch 12/20\n",
      "32/32 [==============================] - 44s 1s/step - loss: 0.1086 - accuracy: 0.9750 - val_loss: 0.1526 - val_accuracy: 0.9333\n",
      "Epoch 13/20\n",
      "32/32 [==============================] - 44s 1s/step - loss: 0.1205 - accuracy: 0.9688 - val_loss: 0.1474 - val_accuracy: 0.9417\n",
      "Epoch 14/20\n",
      "32/32 [==============================] - 44s 1s/step - loss: 0.0990 - accuracy: 0.9688 - val_loss: 0.1544 - val_accuracy: 0.9417\n",
      "Epoch 15/20\n",
      "32/32 [==============================] - 44s 1s/step - loss: 0.1006 - accuracy: 0.9750 - val_loss: 0.1083 - val_accuracy: 0.9750\n",
      "Epoch 16/20\n",
      "32/32 [==============================] - 44s 1s/step - loss: 0.0983 - accuracy: 0.9750 - val_loss: 0.1080 - val_accuracy: 0.9667\n",
      "Epoch 17/20\n",
      "32/32 [==============================] - 44s 1s/step - loss: 0.0797 - accuracy: 0.9812 - val_loss: 0.1065 - val_accuracy: 0.9667\n",
      "Epoch 18/20\n",
      "32/32 [==============================] - 45s 1s/step - loss: 0.0798 - accuracy: 0.9750 - val_loss: 0.1549 - val_accuracy: 0.9333\n",
      "Epoch 19/20\n",
      "32/32 [==============================] - 45s 1s/step - loss: 0.0850 - accuracy: 0.9750 - val_loss: 0.1435 - val_accuracy: 0.9417\n",
      "Epoch 20/20\n",
      "32/32 [==============================] - 44s 1s/step - loss: 0.0689 - accuracy: 0.9688 - val_loss: 0.1354 - val_accuracy: 0.9417\n"
     ]
    }
   ],
   "source": [
    "finetune_model.compile(loss='sparse_categorical_crossentropy', \n",
    "              optimizer=optimizers.Adam(learning_rate=0.0002),\n",
    "             metrics=['accuracy'])\n",
    "\n",
    "steps_train = len(train_generator)\n",
    "steps_test = len(test_generator)\n",
    "\n",
    "hist = finetune_model.fit(train_generator, steps_per_epoch=steps_train,\n",
    "                epochs=20, validation_data=test_generator,\n",
    "                validation_steps=steps_test)"
   ]
  },
  {
   "cell_type": "code",
   "execution_count": null,
   "id": "2179a99b-8816-474c-a0f2-6711b5aa2fe0",
   "metadata": {},
   "outputs": [],
   "source": []
  },
  {
   "cell_type": "code",
   "execution_count": null,
   "id": "9127594c-dd9a-4c0c-a5cc-8e1d18bee151",
   "metadata": {},
   "outputs": [],
   "source": []
  }
 ],
 "metadata": {
  "kernelspec": {
   "display_name": "Python 3 (ipykernel)",
   "language": "python",
   "name": "python3"
  },
  "language_info": {
   "codemirror_mode": {
    "name": "ipython",
    "version": 3
   },
   "file_extension": ".py",
   "mimetype": "text/x-python",
   "name": "python",
   "nbconvert_exporter": "python",
   "pygments_lexer": "ipython3",
   "version": "3.7.0"
  }
 },
 "nbformat": 4,
 "nbformat_minor": 5
}
