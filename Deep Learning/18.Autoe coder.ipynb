{
 "cells": [
  {
   "cell_type": "code",
   "execution_count": 5,
   "id": "fc7708ba-1c8c-4897-87dc-8f6eaca430a7",
   "metadata": {},
   "outputs": [],
   "source": [
    "from tensorflow.keras.datasets import mnist\n",
    "from tensorflow.keras.models import Sequential, Model\n",
    "from tensorflow.keras.layers import Input, Dense,Conv2D, MaxPooling2D\n",
    "from tensorflow.keras.layers import UpSampling2D, Flatten, Reshape \n",
    "import numpy as np \n",
    "import matplotlib.pyplot as plt"
   ]
  },
  {
   "cell_type": "code",
   "execution_count": 6,
   "id": "b0e8a8ce-4126-4cf8-b2e7-8fba7bfadcc2",
   "metadata": {},
   "outputs": [],
   "source": [
    "(X_train, _), (X_test, _) = mnist.load_data()\n",
    "X_train = X_train.reshape(X_train.shape[0], 28,28,1).astype('float')/255\n",
    "# 255로 나눈 이유, 전체 픽셀 값을  ..?\n",
    "X_train = X_train.reshape(X_train.shape[0], 28,28,1).astype('float')/255\n",
    "\n",
    "X_test = X_test.reshape(X_test.shape[0], 28,28,1).astype('float')/255"
   ]
  },
  {
   "cell_type": "code",
   "execution_count": 11,
   "id": "e1ae1b5d-0395-4159-81a3-3fbb528d621a",
   "metadata": {},
   "outputs": [
    {
     "name": "stdout",
     "output_type": "stream",
     "text": [
      "Model: \"sequential_2\"\n",
      "_________________________________________________________________\n",
      "Layer (type)                 Output Shape              Param #   \n",
      "=================================================================\n",
      "conv2d_2 (Conv2D)            (None, 28, 28, 16)        160       \n",
      "_________________________________________________________________\n",
      "max_pooling2d_2 (MaxPooling2 (None, 14, 14, 16)        0         \n",
      "_________________________________________________________________\n",
      "conv2d_3 (Conv2D)            (None, 14, 14, 8)         1160      \n",
      "_________________________________________________________________\n",
      "max_pooling2d_3 (MaxPooling2 (None, 7, 7, 8)           0         \n",
      "_________________________________________________________________\n",
      "conv2d_4 (Conv2D)            (None, 4, 4, 8)           584       \n",
      "_________________________________________________________________\n",
      "conv2d_5 (Conv2D)            (None, 4, 4, 8)           584       \n",
      "_________________________________________________________________\n",
      "up_sampling2d (UpSampling2D) (None, 8, 8, 8)           0         \n",
      "_________________________________________________________________\n",
      "conv2d_6 (Conv2D)            (None, 8, 8, 8)           584       \n",
      "_________________________________________________________________\n",
      "up_sampling2d_1 (UpSampling2 (None, 16, 16, 8)         0         \n",
      "_________________________________________________________________\n",
      "conv2d_7 (Conv2D)            (None, 14, 14, 16)        1168      \n",
      "_________________________________________________________________\n",
      "up_sampling2d_2 (UpSampling2 (None, 28, 28, 16)        0         \n",
      "_________________________________________________________________\n",
      "conv2d_8 (Conv2D)            (None, 28, 28, 1)         145       \n",
      "=================================================================\n",
      "Total params: 4,385\n",
      "Trainable params: 4,385\n",
      "Non-trainable params: 0\n",
      "_________________________________________________________________\n"
     ]
    }
   ],
   "source": [
    "# 생성자 모델 만들기\n",
    "autoencoder = Sequential() \n",
    "  \n",
    "# 인코딩 부분\n",
    "autoencoder.add(Conv2D(16, kernel_size=3, padding='same', input_shape=(28, 28, 1), activation='relu'))\n",
    "autoencoder.add(MaxPooling2D(pool_size=2, padding='same'))\n",
    "autoencoder.add(Conv2D(8, kernel_size=3, activation='relu', padding='same')) \n",
    "autoencoder.add(MaxPooling2D(pool_size=2, padding='same'))\n",
    "autoencoder.add(Conv2D(8, kernel_size=3, strides=2, padding='same', activation='relu')) \n",
    "  \n",
    "# 디코딩 부분\n",
    "autoencoder.add(Conv2D(8, kernel_size=3, padding='same', activation='relu'))\n",
    "autoencoder.add(UpSampling2D())\n",
    "autoencoder.add(Conv2D(8, kernel_size=3, padding='same', activation='relu'))\n",
    "autoencoder.add(UpSampling2D())\n",
    "autoencoder.add(Conv2D(16, kernel_size=3, activation='relu'))\n",
    "autoencoder.add(UpSampling2D())\n",
    "autoencoder.add(Conv2D(1, kernel_size=3, padding='same', activation='sigmoid'))\n",
    "  \n",
    "# 전체 구조 확인\n",
    "autoencoder.summary()"
   ]
  },
  {
   "cell_type": "code",
   "execution_count": 13,
   "id": "cbd8e5ae-3b4a-472d-b68e-702a407f901c",
   "metadata": {},
   "outputs": [
    {
     "name": "stdout",
     "output_type": "stream",
     "text": [
      "Train on 60000 samples, validate on 10000 samples\n",
      "Epoch 1/50\n",
      "60000/60000 [==============================] - 77s 1ms/sample - loss: 0.0637 - val_loss: 2.5594\n",
      "Epoch 2/50\n",
      "60000/60000 [==============================] - 73s 1ms/sample - loss: 0.0040 - val_loss: 2.7893\n",
      "Epoch 3/50\n",
      "60000/60000 [==============================] - 76s 1ms/sample - loss: 0.0040 - val_loss: 3.5409\n",
      "Epoch 4/50\n",
      "60000/60000 [==============================] - 75s 1ms/sample - loss: 0.0040 - val_loss: 5.8643\n",
      "Epoch 5/50\n",
      "60000/60000 [==============================] - 75s 1ms/sample - loss: 0.0039 - val_loss: 9.6619\n",
      "Epoch 6/50\n",
      "60000/60000 [==============================] - 72s 1ms/sample - loss: 0.0039 - val_loss: 10.2396\n",
      "Epoch 7/50\n",
      "60000/60000 [==============================] - 72s 1ms/sample - loss: 0.0038 - val_loss: 10.6265\n",
      "Epoch 8/50\n",
      "60000/60000 [==============================] - 72s 1ms/sample - loss: 0.0038 - val_loss: 11.0227\n",
      "Epoch 9/50\n",
      "60000/60000 [==============================] - 74s 1ms/sample - loss: 0.0038 - val_loss: 10.9891\n",
      "Epoch 10/50\n",
      "60000/60000 [==============================] - 74s 1ms/sample - loss: 0.0038 - val_loss: 11.2883\n",
      "Epoch 11/50\n",
      "60000/60000 [==============================] - 76s 1ms/sample - loss: 0.0037 - val_loss: 11.8014\n",
      "Epoch 12/50\n",
      "60000/60000 [==============================] - 73s 1ms/sample - loss: 0.0037 - val_loss: 12.2557\n",
      "Epoch 13/50\n",
      "60000/60000 [==============================] - 73s 1ms/sample - loss: 0.0037 - val_loss: 12.6335\n",
      "Epoch 14/50\n",
      "60000/60000 [==============================] - 73s 1ms/sample - loss: 0.0037 - val_loss: 13.1344\n",
      "Epoch 15/50\n",
      "60000/60000 [==============================] - 73s 1ms/sample - loss: 0.0037 - val_loss: 12.8258\n",
      "Epoch 16/50\n",
      "60000/60000 [==============================] - 73s 1ms/sample - loss: 0.0037 - val_loss: 12.6156\n",
      "Epoch 17/50\n",
      "60000/60000 [==============================] - 73s 1ms/sample - loss: 0.0037 - val_loss: 12.5383\n",
      "Epoch 18/50\n",
      "60000/60000 [==============================] - 73s 1ms/sample - loss: 0.0037 - val_loss: 12.5157\n",
      "Epoch 19/50\n",
      "60000/60000 [==============================] - 73s 1ms/sample - loss: 0.0037 - val_loss: 12.5544\n",
      "Epoch 20/50\n",
      "60000/60000 [==============================] - 73s 1ms/sample - loss: 0.0037 - val_loss: 12.2038\n",
      "Epoch 21/50\n",
      "60000/60000 [==============================] - 73s 1ms/sample - loss: 0.0037 - val_loss: 12.6137\n",
      "Epoch 22/50\n",
      "60000/60000 [==============================] - 73s 1ms/sample - loss: 0.0036 - val_loss: 12.7114\n",
      "Epoch 23/50\n",
      "60000/60000 [==============================] - 74s 1ms/sample - loss: 0.0036 - val_loss: 12.6894\n",
      "Epoch 24/50\n",
      "60000/60000 [==============================] - 74s 1ms/sample - loss: 0.0036 - val_loss: 12.8178\n",
      "Epoch 25/50\n",
      "60000/60000 [==============================] - 75s 1ms/sample - loss: 0.0036 - val_loss: 12.6413\n",
      "Epoch 26/50\n",
      "60000/60000 [==============================] - 75s 1ms/sample - loss: 0.0036 - val_loss: 11.7999\n",
      "Epoch 27/50\n",
      "60000/60000 [==============================] - 76s 1ms/sample - loss: 0.0036 - val_loss: 11.2348\n",
      "Epoch 28/50\n",
      "60000/60000 [==============================] - 78s 1ms/sample - loss: 0.0036 - val_loss: 10.7698\n",
      "Epoch 29/50\n",
      "60000/60000 [==============================] - 76s 1ms/sample - loss: 0.0036 - val_loss: 10.5586\n",
      "Epoch 30/50\n",
      "60000/60000 [==============================] - 77s 1ms/sample - loss: 0.0036 - val_loss: 10.1357\n",
      "Epoch 31/50\n",
      "60000/60000 [==============================] - 76s 1ms/sample - loss: 0.0036 - val_loss: 9.9208\n",
      "Epoch 32/50\n",
      "60000/60000 [==============================] - 76s 1ms/sample - loss: 0.0036 - val_loss: 9.6728\n",
      "Epoch 33/50\n",
      "60000/60000 [==============================] - 76s 1ms/sample - loss: 0.0036 - val_loss: 9.7705\n",
      "Epoch 34/50\n",
      "60000/60000 [==============================] - 79s 1ms/sample - loss: 0.0036 - val_loss: 9.8580\n",
      "Epoch 35/50\n",
      "60000/60000 [==============================] - 78s 1ms/sample - loss: 0.0036 - val_loss: 10.0476\n",
      "Epoch 36/50\n",
      "60000/60000 [==============================] - 78s 1ms/sample - loss: 0.0036 - val_loss: 10.3034\n",
      "Epoch 37/50\n",
      "60000/60000 [==============================] - 76s 1ms/sample - loss: 0.0036 - val_loss: 10.6815\n",
      "Epoch 38/50\n",
      "60000/60000 [==============================] - 78s 1ms/sample - loss: 0.0036 - val_loss: 10.7875\n",
      "Epoch 39/50\n",
      "60000/60000 [==============================] - 80s 1ms/sample - loss: 0.0036 - val_loss: 11.0496\n",
      "Epoch 40/50\n",
      "60000/60000 [==============================] - 73s 1ms/sample - loss: 0.0036 - val_loss: 11.3487\n",
      "Epoch 41/50\n",
      "60000/60000 [==============================] - 77s 1ms/sample - loss: 0.0036 - val_loss: 11.7640\n",
      "Epoch 42/50\n",
      "60000/60000 [==============================] - 76s 1ms/sample - loss: 0.0036 - val_loss: 11.7528\n",
      "Epoch 43/50\n",
      "60000/60000 [==============================] - 74s 1ms/sample - loss: 0.0036 - val_loss: 11.7856\n",
      "Epoch 44/50\n",
      "60000/60000 [==============================] - 76s 1ms/sample - loss: 0.0036 - val_loss: 12.0501\n",
      "Epoch 45/50\n",
      "60000/60000 [==============================] - 77s 1ms/sample - loss: 0.0036 - val_loss: 12.0202\n",
      "Epoch 46/50\n",
      "60000/60000 [==============================] - 77s 1ms/sample - loss: 0.0036 - val_loss: 11.9351\n",
      "Epoch 47/50\n",
      "60000/60000 [==============================] - 75s 1ms/sample - loss: 0.0036 - val_loss: 12.0761\n",
      "Epoch 48/50\n",
      "60000/60000 [==============================] - 77s 1ms/sample - loss: 0.0036 - val_loss: 11.9993\n",
      "Epoch 49/50\n",
      "60000/60000 [==============================] - 77s 1ms/sample - loss: 0.0036 - val_loss: 12.0791\n",
      "Epoch 50/50\n",
      "60000/60000 [==============================] - 75s 1ms/sample - loss: 0.0036 - val_loss: 12.0650\n"
     ]
    },
    {
     "data": {
      "text/plain": [
       "<tensorflow.python.keras.callbacks.History at 0x7fc81f4d0470>"
      ]
     },
     "execution_count": 13,
     "metadata": {},
     "output_type": "execute_result"
    }
   ],
   "source": [
    "# 컴파일 및 학습을 하는 부분\n",
    "autoencoder.compile(optimizer='adam', loss='binary_crossentropy')\n",
    "autoencoder.fit(X_train, X_train, epochs=50, batch_size=128, validation_data=(X_test, X_test))"
   ]
  },
  {
   "cell_type": "code",
   "execution_count": 19,
   "id": "2764b243-bb31-4ab2-93ff-5d3f95b01c6f",
   "metadata": {},
   "outputs": [
    {
     "data": {
      "image/png": "[encoded data removed]",
      "text/plain": [
       "<Figure size 700x200 with 1 Axes>"
      ]
     },
     "metadata": {},
     "output_type": "display_data"
    },
    {
     "data": {
      "image/png": "[encoded data removed]",
      "text/plain": [
       "<Figure size 700x200 with 10 Axes>"
      ]
     },
     "metadata": {},
     "output_type": "display_data"
    }
   ],
   "source": [
    "random_test = np.random.randint(X_test.shape[0], size=5)\n",
    "ae_imgs = autoencoder.predict (X_test)\n",
    "plt.figure(figsize=(7,2))\n",
    "for i, imge_idx in enumerate(random_test):\n",
    "    ax = plt.subplot(2,7, i + 1)\n",
    "    plt.imshow(X_test[imge_idx].reshape(28,28))\n",
    "    ax.axis('off')\n",
    "    ax=plt.subplot(2,7,7 +  i + 1)\n",
    "    plt.imshow(ae_imgs[imge_idx].reshape(28,28))\n",
    "    ax.axis('off')\n",
    "    \n",
    "plt.show()"
   ]
  },
  {
   "cell_type": "markdown",
   "id": "afeb2eeb-fc83-44fc-8a09-0c780c994ac8",
   "metadata": {},
   "source": [
    "차원 축소를 해도 특징을 고스란히 가질 수 있는 것이 엔코더 "
   ]
  }
 ],
 "metadata": {
  "kernelspec": {
   "display_name": "Python 3",
   "language": "python",
   "name": "python3"
  },
  "language_info": {
   "codemirror_mode": {
    "name": "ipython",
    "version": 3
   },
   "file_extension": ".py",
   "mimetype": "text/x-python",
   "name": "python",
   "nbconvert_exporter": "python",
   "pygments_lexer": "ipython3",
   "version": "3.7.0"
  }
 },
 "nbformat": 4,
 "nbformat_minor": 5
}
