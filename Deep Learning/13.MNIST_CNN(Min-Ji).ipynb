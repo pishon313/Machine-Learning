{
 "cells": [
  {
   "cell_type": "code",
   "execution_count": 1,
   "id": "43895171-08c3-4bd7-93fb-5a785e77a9d4",
   "metadata": {},
   "outputs": [],
   "source": [
    "from tensorflow.keras.datasets import mnist\n",
    "from tensorflow.keras import utils\n",
    "from tensorflow.keras.models import Sequential\n",
    "from tensorflow.keras.layers import Dense, Dropout, Flatten, Conv2D, MaxPooling2D\n",
    "from tensorflow.keras.callbacks import ModelCheckpoint, EarlyStopping\n",
    " \n",
    "import matplotlib.pyplot as plt\n",
    "import numpy as np\n",
    "import os\n",
    "import tensorflow as tf"
   ]
  },
  {
   "cell_type": "markdown",
   "id": "e1d2bfff-7f8b-4264-81be-ea343699e787",
   "metadata": {},
   "source": [
    "### 데이터 전처리"
   ]
  },
  {
   "cell_type": "code",
   "execution_count": 7,
   "id": "47869b25-c9ef-403b-8265-5f78b3e11e83",
   "metadata": {},
   "outputs": [],
   "source": [
    "(X_train, Y_train), (X_test, Y_test) = mnist.load_data()\n",
    "X_train = X_train.reshape(X_train.shape[0], 28, 28, 1).astype(float) / 255\n",
    "X_test = X_test.reshape(X_test.shape[0], 28, 28, 1).astype(float) / 255"
   ]
  },
  {
   "cell_type": "code",
   "execution_count": 8,
   "id": "3cc952bd-972a-413e-81b3-2e26c73db052",
   "metadata": {},
   "outputs": [],
   "source": [
    "Y_train = utils.to_categorical(Y_train)\n",
    "Y_test = utils.to_categorical(Y_test)"
   ]
  },
  {
   "cell_type": "code",
   "execution_count": 12,
   "id": "b942dac6-400c-449b-b2a7-8182ce71a7a4",
   "metadata": {},
   "outputs": [],
   "source": [
    "model = Sequential() # 커널의 값이 w파라미터, b 값 32 마스크 값을 학습\n",
    "model.add(Conv2D(32, kernel_size=(3, 3), input_shape=(28, 28, 1), activation='relu'))\n",
    "model.add(Conv2D(64, kernel_size=(3, 3), activation='relu'))\n",
    "model.add(MaxPooling2D(pool_size=2)) #특징은 잃어버리지 않고 값을 줄이기위해 사용\n",
    "model.add(Dropout(0.25))\n",
    "model.add(Flatten())\n",
    "model.add(Dense(128, activation='relu'))\n",
    "model.add(Dropout(0.5))\n",
    "model.add(Dense(10, activation='softmax'))"
   ]
  },
  {
   "cell_type": "code",
   "execution_count": 13,
   "id": "972ccde7-1ee9-4f5d-a3c5-c18fadc3e86c",
   "metadata": {},
   "outputs": [
    {
     "name": "stdout",
     "output_type": "stream",
     "text": [
      "Model: \"sequential_2\"\n",
      "_________________________________________________________________\n",
      "Layer (type)                 Output Shape              Param #   \n",
      "=================================================================\n",
      "conv2d (Conv2D)              (None, 26, 26, 32)        320       \n",
      "_________________________________________________________________\n",
      "conv2d_1 (Conv2D)            (None, 24, 24, 64)        18496     \n",
      "_________________________________________________________________\n",
      "max_pooling2d (MaxPooling2D) (None, 12, 12, 64)        0         \n",
      "_________________________________________________________________\n",
      "dropout (Dropout)            (None, 12, 12, 64)        0         \n",
      "_________________________________________________________________\n",
      "flatten (Flatten)            (None, 9216)              0         \n",
      "_________________________________________________________________\n",
      "dense (Dense)                (None, 128)               1179776   \n",
      "_________________________________________________________________\n",
      "dropout_1 (Dropout)          (None, 128)               0         \n",
      "_________________________________________________________________\n",
      "dense_1 (Dense)              (None, 10)                1290      \n",
      "=================================================================\n",
      "Total params: 1,199,882\n",
      "Trainable params: 1,199,882\n",
      "Non-trainable params: 0\n",
      "_________________________________________________________________\n"
     ]
    }
   ],
   "source": [
    "model.summary()"
   ]
  },
  {
   "cell_type": "code",
   "execution_count": 14,
   "id": "0bcc686f-a5e1-4664-8cf9-df7000712481",
   "metadata": {},
   "outputs": [],
   "source": [
    "model.compile(loss='categorical_crossentropy',\n",
    "              optimizer='adam', metrics=['accuracy'])"
   ]
  },
  {
   "cell_type": "code",
   "execution_count": 15,
   "id": "3af446f9-3e6f-4ad9-a7f0-a8acabfef6f8",
   "metadata": {},
   "outputs": [],
   "source": [
    "MODEL_DIR = './model/'\n",
    "if not os.path.exists(MODEL_DIR):\n",
    "    os.mkdir(MODEL_DIR)\n",
    "    \n",
    "modelpath = './model/{epoch:02d}-{val_loss:.4f}.hdf5'\n",
    "checkpointer = ModelCheckpoint(filepath=modelpath, monitor='val_loss', verbose=1, save_best_only=True)\n",
    "early_stopping = EarlyStopping(monitor='val_loss', patience=10)"
   ]
  },
  {
   "cell_type": "code",
   "execution_count": 16,
   "id": "5c6a467f-a68d-4def-b9c3-f6a5963857b3",
   "metadata": {},
   "outputs": [
    {
     "name": "stdout",
     "output_type": "stream",
     "text": [
      "\n",
      "Epoch 00001: val_loss improved from inf to 0.05560, saving model to ./model\\01-0.0556.hdf5\n",
      "\n",
      "Epoch 00002: val_loss improved from 0.05560 to 0.04008, saving model to ./model\\02-0.0401.hdf5\n",
      "\n",
      "Epoch 00003: val_loss improved from 0.04008 to 0.03279, saving model to ./model\\03-0.0328.hdf5\n",
      "\n",
      "Epoch 00004: val_loss improved from 0.03279 to 0.02897, saving model to ./model\\04-0.0290.hdf5\n",
      "\n",
      "Epoch 00005: val_loss did not improve from 0.02897\n",
      "\n",
      "Epoch 00006: val_loss did not improve from 0.02897\n",
      "\n",
      "Epoch 00007: val_loss did not improve from 0.02897\n",
      "\n",
      "Epoch 00008: val_loss did not improve from 0.02897\n",
      "\n",
      "Epoch 00009: val_loss did not improve from 0.02897\n",
      "\n",
      "Epoch 00010: val_loss improved from 0.02897 to 0.02673, saving model to ./model\\10-0.0267.hdf5\n",
      "\n",
      "Epoch 00011: val_loss improved from 0.02673 to 0.02655, saving model to ./model\\11-0.0266.hdf5\n",
      "\n",
      "Epoch 00012: val_loss did not improve from 0.02655\n",
      "\n",
      "Epoch 00013: val_loss did not improve from 0.02655\n",
      "\n",
      "Epoch 00014: val_loss did not improve from 0.02655\n",
      "\n",
      "Epoch 00015: val_loss did not improve from 0.02655\n",
      "\n",
      "Epoch 00016: val_loss did not improve from 0.02655\n",
      "\n",
      "Epoch 00017: val_loss improved from 0.02655 to 0.02485, saving model to ./model\\17-0.0248.hdf5\n",
      "\n",
      "Epoch 00018: val_loss did not improve from 0.02485\n",
      "\n",
      "Epoch 00019: val_loss did not improve from 0.02485\n",
      "\n",
      "Epoch 00020: val_loss did not improve from 0.02485\n",
      "\n",
      "Epoch 00021: val_loss did not improve from 0.02485\n",
      "\n",
      "Epoch 00022: val_loss did not improve from 0.02485\n",
      "\n",
      "Epoch 00023: val_loss did not improve from 0.02485\n",
      "\n",
      "Epoch 00024: val_loss did not improve from 0.02485\n",
      "\n",
      "Epoch 00025: val_loss did not improve from 0.02485\n",
      "\n",
      "Epoch 00026: val_loss did not improve from 0.02485\n",
      "\n",
      "Epoch 00027: val_loss did not improve from 0.02485\n"
     ]
    }
   ],
   "source": [
    "history = model.fit(X_train, Y_train,\n",
    "                    validation_data=(X_test, Y_test),\n",
    "                    epochs=30, batch_size=200, verbose=0,\n",
    "                    callbacks=[checkpointer, early_stopping])"
   ]
  },
  {
   "cell_type": "code",
   "execution_count": 17,
   "id": "08e33b1d-b320-4caa-af61-9acc7ecba69d",
   "metadata": {},
   "outputs": [
    {
     "name": "stdout",
     "output_type": "stream",
     "text": [
      "313/313 [==============================] - 3s 11ms/step - loss: 0.0327 - accuracy: 0.9925\n",
      " Test Accuracy: 0.9925\n"
     ]
    }
   ],
   "source": [
    "print(' Test Accuracy: %.4f' % (model.evaluate(X_test, Y_test)[1]))"
   ]
  },
  {
   "cell_type": "code",
   "execution_count": 18,
   "id": "b3a17a22-9709-4650-984b-ac1bd6cc06dd",
   "metadata": {},
   "outputs": [],
   "source": [
    "y_vloss = history.history['val_loss']"
   ]
  },
  {
   "cell_type": "code",
   "execution_count": 19,
   "id": "36511674-6c84-4e73-9d21-a7dc30c32f9e",
   "metadata": {},
   "outputs": [],
   "source": [
    "y_loss = history.history['loss']"
   ]
  },
  {
   "cell_type": "code",
   "execution_count": 20,
   "id": "46621b4f-eb56-4b1d-ba7a-9bcbed212d58",
   "metadata": {},
   "outputs": [
    {
     "data": {
      "text/plain": [
       "[<matplotlib.lines.Line2D at 0x1d73edd8760>]"
      ]
     },
     "execution_count": 20,
     "metadata": {},
     "output_type": "execute_result"
    }
   ],
   "source": [
    "x_len = np.arange(len(y_loss))\n",
    "plt.plot(x_len, y_vloss, marker='.', c='red', label='Testset_loss')\n",
    "plt.plot(x_len, y_loss, marker='.', c='blue', label='Trainset_loss')"
   ]
  },
  {
   "cell_type": "code",
   "execution_count": 21,
   "id": "7d8383b9-57c0-439e-88ce-81a0ea89d5ac",
   "metadata": {},
   "outputs": [
    {
     "data": {
      "image/png": "[encoded data removed]",
      "text/plain": [
       "<Figure size 640x480 with 1 Axes>"
      ]
     },
     "metadata": {},
     "output_type": "display_data"
    }
   ],
   "source": [
    "plt.legend(loc='upper right')\n",
    "plt.grid()\n",
    "plt.xlabel('epoch')\n",
    "plt.ylabel('loss')\n",
    "plt.show()"
   ]
  },
  {
   "cell_type": "code",
   "execution_count": null,
   "id": "4b319ec5-90ff-4ad8-9df5-cb5b83c46510",
   "metadata": {},
   "outputs": [],
   "source": []
  }
 ],
 "metadata": {
  "kernelspec": {
   "display_name": "Python 3",
   "language": "python",
   "name": "python3"
  },
  "language_info": {
   "codemirror_mode": {
    "name": "ipython",
    "version": 3
   },
   "file_extension": ".py",
   "mimetype": "text/x-python",
   "name": "python",
   "nbconvert_exporter": "python",
   "pygments_lexer": "ipython3",
   "version": "3.7.0"
  }
 },
 "nbformat": 4,
 "nbformat_minor": 5
}
