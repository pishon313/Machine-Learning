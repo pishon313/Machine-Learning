{
 "cells": [
  {
   "cell_type": "code",
   "execution_count": 1,
   "id": "f6c68554-b9af-411a-a45b-1639a01524c7",
   "metadata": {},
   "outputs": [
    {
     "name": "stdout",
     "output_type": "stream",
     "text": [
      "Initialized!\n",
      "Hello David!\n",
      "Good-bye David!\n"
     ]
    }
   ],
   "source": [
    "class Man:\n",
    "    def __init__(self, name):\n",
    "        self.name = name\n",
    "        print(\"Initialized!\")\n",
    "        \n",
    "    def hello(self):\n",
    "        print(\"Hello \" + self.name + \"!\")\n",
    "        \n",
    "    def goodbye(self):\n",
    "        print(\"Good-bye \" + self.name + \"!\")\n",
    "        \n",
    "m = Man(\"David\")\n",
    "m.hello()\n",
    "m.goodbye()"
   ]
  },
  {
   "cell_type": "code",
   "execution_count": 2,
   "id": "b7912068-2ceb-4d4f-86f1-89a05d331670",
   "metadata": {},
   "outputs": [
    {
     "name": "stdout",
     "output_type": "stream",
     "text": [
      "Initialized!\n",
      "<__main__.Man object at 0x7fe6f912f898>\n"
     ]
    }
   ],
   "source": [
    "m = Man(\"Sarah\")\n",
    "print(m)"
   ]
  },
  {
   "cell_type": "code",
   "execution_count": 5,
   "id": "82da5cf3-1391-4dad-abfe-36b218f91fe1",
   "metadata": {},
   "outputs": [
    {
     "name": "stdout",
     "output_type": "stream",
     "text": [
      "Initialized!\n",
      "Hello Sarah!\n",
      "Good-bye Sarah!\n"
     ]
    }
   ],
   "source": [
    "s = Man(\"Sarah\")\n",
    "s.hello()\n",
    "s.goodbye()"
   ]
  },
  {
   "cell_type": "code",
   "execution_count": 6,
   "id": "931a3954-83f6-49e4-badf-b216b5167043",
   "metadata": {},
   "outputs": [
    {
     "name": "stdout",
     "output_type": "stream",
     "text": [
      "Initialized!\n",
      "Hello Naja!\n",
      "Good-bye Naja!\n"
     ]
    }
   ],
   "source": [
    "n = Man(\"Naja\")\n",
    "n.hello()\n",
    "n.goodbye()"
   ]
  },
  {
   "cell_type": "code",
   "execution_count": null,
   "id": "8ba30066-715f-4a3f-8f1a-5ccf21d69f04",
   "metadata": {},
   "outputs": [],
   "source": []
  }
 ],
 "metadata": {
  "kernelspec": {
   "display_name": "Python 3 (ipykernel)",
   "language": "python",
   "name": "python3"
  },
  "language_info": {
   "codemirror_mode": {
    "name": "ipython",
    "version": 3
   },
   "file_extension": ".py",
   "mimetype": "text/x-python",
   "name": "python",
   "nbconvert_exporter": "python",
   "pygments_lexer": "ipython3",
   "version": "3.7.0"
  }
 },
 "nbformat": 4,
 "nbformat_minor": 5
}
