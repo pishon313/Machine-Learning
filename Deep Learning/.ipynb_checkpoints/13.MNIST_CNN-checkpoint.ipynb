{
 "cells": [
  {
   "cell_type": "code",
   "execution_count": 1,
   "id": "7ba97e02-a4ed-4c3d-b77c-fbd8d7eb65d2",
   "metadata": {},
   "outputs": [],
   "source": [
    "from tensorflow.keras.datasets import mnist\n",
    "from tensorflow.keras import utils\n",
    "from tensorflow.keras.models import Sequential\n",
    "from tensorflow.keras.layers import Dense, Dropout, Flatten, Conv2D, MaxPooling2D\n",
    "from tensorflow.keras.callbacks import ModelCheckpoint, EarlyStopping\n",
    "import matplotlib.pyplot as plt\n",
    "import numpy as np\n",
    "import os\n",
    "import tensorflow as tf"
   ]
  },
  {
   "cell_type": "code",
   "execution_count": 2,
   "id": "04187470-1136-4bef-9734-47d2f661cf1a",
   "metadata": {},
   "outputs": [],
   "source": [
    "# 데이터 전처리\n",
    "\n",
    "(X_train, Y_train), (X_test, Y_test) = mnist.load_data()\n",
    "X_train = X_train.reshape(X_train.shape[0], 28, 28, 1).astype(float) /255\n",
    "X_test = X_test.reshape(X_test.shape[0], 28, 28, 1).astype(float) /255\n",
    "# 단색(Gray) : 단색이기 떄문에 끝에가 1, 컬러라면 RGB 이기 때문에 3dmf TJdnsek. \n",
    "# shape[0] 은 6만개 \n",
    "\n",
    "# 타겟값 설정\n",
    "Y_train = utils.to_categorical(Y_train)\n",
    "Y_test = utils.to_categorical(Y_test)"
   ]
  },
  {
   "cell_type": "markdown",
   "id": "5e9c0479-1682-44fa-9a99-8c8f9bb7d435",
   "metadata": {},
   "source": [
    "참고 : https://thebook.io/080228/part05/ch16/05/"
   ]
  },
  {
   "cell_type": "code",
   "execution_count": 3,
   "id": "c0841359-4fda-4ba3-bfb2-80df131a389a",
   "metadata": {},
   "outputs": [
    {
     "ename": "NameError",
     "evalue": "name 'Maxpooling2D' is not defined",
     "output_type": "error",
     "traceback": [
      "\u001b[0;31m---------------------------------------------------------------------------\u001b[0m",
      "\u001b[0;31mNameError\u001b[0m                                 Traceback (most recent call last)",
      "\u001b[0;32m<ipython-input-3-c7d7969654da>\u001b[0m in \u001b[0;36m<module>\u001b[0;34m\u001b[0m\n\u001b[1;32m     12\u001b[0m \u001b[0;31m# 앞쪽에서 출력되는 것인 input shape 이기 떄문에, 따로 input_shape()을 줄 필요가 없다\u001b[0m\u001b[0;34m\u001b[0m\u001b[0;34m\u001b[0m\u001b[0m\n\u001b[1;32m     13\u001b[0m \u001b[0;31m# 이미지 한 장을 64개로 만든다는 뜻, 새로 들어온 32개를 64개로 만든다는 뜻이 아니다\u001b[0m\u001b[0;34m\u001b[0m\u001b[0;34m\u001b[0m\u001b[0m\n\u001b[0;32m---> 14\u001b[0;31m \u001b[0mmodel\u001b[0m\u001b[0;34m.\u001b[0m\u001b[0madd\u001b[0m\u001b[0;34m(\u001b[0m\u001b[0mMaxpooling2D\u001b[0m\u001b[0;34m(\u001b[0m\u001b[0mpool_size\u001b[0m\u001b[0;34m=\u001b[0m\u001b[0;36m2\u001b[0m\u001b[0;34m)\u001b[0m\u001b[0;34m)\u001b[0m\u001b[0;34m\u001b[0m\u001b[0m\n\u001b[0m",
      "\u001b[0;31mNameError\u001b[0m: name 'Maxpooling2D' is not defined"
     ]
    }
   ],
   "source": [
    "# 모델 쌓기\n",
    "\n",
    "model = Sequential()\n",
    "model.add(Conv2D(32, kernel_size=(3,3), input_shape=(28,28,1), activation='relu'))\n",
    "# Conv2D : keras에서 제공하는 2차원\n",
    "# Conv2D(32, ) : 그림이 1장 들어오면 32장으로 만들겠다는 의미\n",
    "\n",
    "# CNN 에서는 마스크값이 가중치고, \n",
    "# bias 도 존재. 파이아스 파라미터도 32개 \n",
    "\n",
    "model.add(Conv2D(64, kernel_size=(3,3), activation='relu')) \n",
    "# 앞쪽에서 출력되는 것인 input shape 이기 떄문에, 따로 input_shape()을 줄 필요가 없다 \n",
    "# 이미지 한 장을 64개로 만든다는 뜻, 새로 들어온 32개를 64개로 만든다는 뜻이 아니다 \n",
    "model.add(Maxpooling2D(pool_size=2))"
   ]
  },
  {
   "cell_type": "markdown",
   "id": "17521804-6227-4189-8880-1aef71dfa7f4",
   "metadata": {},
   "source": []
  }
 ],
 "metadata": {
  "kernelspec": {
   "display_name": "Python 3",
   "language": "python",
   "name": "python3"
  },
  "language_info": {
   "codemirror_mode": {
    "name": "ipython",
    "version": 3
   },
   "file_extension": ".py",
   "mimetype": "text/x-python",
   "name": "python",
   "nbconvert_exporter": "python",
   "pygments_lexer": "ipython3",
   "version": "3.7.0"
  }
 },
 "nbformat": 4,
 "nbformat_minor": 5
}
